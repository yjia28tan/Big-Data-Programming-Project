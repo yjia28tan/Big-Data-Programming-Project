{
 "cells": [
  {
   "cell_type": "code",
   "execution_count": 3,
   "id": "58635e22",
   "metadata": {},
   "outputs": [],
   "source": [
    "import pandas as pd\n",
    "import numpy as np\n",
    "import matplotlib.pyplot as plt\n",
    "import seaborn as sns\n",
    "#to ignore warnings\n",
    "import warnings\n",
    "warnings.filterwarnings('ignore')\n",
    "\n",
    "# Load datasets\n",
    "customers = pd.read_csv(\"olist_customers.csv\")\n",
    "geolocation = pd.read_csv('olist_geolocation.csv')\n",
    "order_items = pd.read_csv('olist_order_items.csv')\n",
    "payments = pd.read_csv('olist_payments.csv')\n",
    "reviews = pd.read_csv('olist_reviews.csv')\n",
    "orders = pd.read_csv('olist_orders.csv')\n",
    "products = pd.read_csv('olist_products.csv')\n",
    "sellers = pd.read_csv('olist_sellers.csv')"
   ]
  },
  {
   "cell_type": "code",
   "execution_count": null,
   "id": "07a70261",
   "metadata": {},
   "outputs": [],
   "source": []
  }
 ],
 "metadata": {
  "kernelspec": {
   "display_name": "Python 3 (ipykernel)",
   "language": "python",
   "name": "python3"
  },
  "language_info": {
   "codemirror_mode": {
    "name": "ipython",
    "version": 3
   },
   "file_extension": ".py",
   "mimetype": "text/x-python",
   "name": "python",
   "nbconvert_exporter": "python",
   "pygments_lexer": "ipython3",
   "version": "3.9.18"
  }
 },
 "nbformat": 4,
 "nbformat_minor": 5
}
