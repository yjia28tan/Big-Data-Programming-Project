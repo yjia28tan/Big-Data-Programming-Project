{
 "cells": [
  {
   "cell_type": "code",
   "execution_count": 1,
   "id": "eda9c85b",
   "metadata": {},
   "outputs": [
    {
     "name": "stderr",
     "output_type": "stream",
     "text": [
      "C:\\Users\\User\\anaconda3\\lib\\site-packages\\pandas\\core\\computation\\expressions.py:21: UserWarning: Pandas requires version '2.8.0' or newer of 'numexpr' (version '2.7.3' currently installed).\n",
      "  from pandas.core.computation.check import NUMEXPR_INSTALLED\n",
      "C:\\Users\\User\\anaconda3\\lib\\site-packages\\pandas\\core\\arrays\\masked.py:62: UserWarning: Pandas requires version '1.3.4' or newer of 'bottleneck' (version '1.3.2' currently installed).\n",
      "  from pandas.core import (\n",
      "C:\\Users\\User\\anaconda3\\lib\\site-packages\\scipy\\__init__.py:146: UserWarning: A NumPy version >=1.16.5 and <1.23.0 is required for this version of SciPy (detected version 1.26.1\n",
      "  warnings.warn(f\"A NumPy version >={np_minversion} and <{np_maxversion}\"\n"
     ]
    }
   ],
   "source": [
    "import pandas as pd\n",
    "import numpy as np\n",
    "import matplotlib.pyplot as plt\n",
    "import seaborn as sns\n",
    "#to ignore warnings\n",
    "import warnings\n",
    "warnings.filterwarnings('ignore')\n",
    "\n",
    "# Load datasets\n",
    "customers = pd.read_csv(\"olist_customers_dataset.csv\")\n",
    "geolocation = pd.read_csv('olist_geolocation_dataset.csv')\n",
    "order_items = pd.read_csv('olist_order_items_dataset.csv')\n",
    "payments = pd.read_csv('olist_order_payments_dataset.csv')\n",
    "reviews = pd.read_csv('olist_order_reviews_dataset.csv')\n",
    "orders = pd.read_csv('olist_orders_dataset.csv')\n",
    "products = pd.read_csv('olist_products_dataset.csv')\n",
    "sellers = pd.read_csv('olist_sellers_dataset.csv')\n",
    "product_category_translation = pd.read_csv('product_category_name_translation.csv')"
   ]
  },
  {
   "cell_type": "code",
   "execution_count": 2,
   "id": "a0acd272",
   "metadata": {},
   "outputs": [
    {
     "name": "stdout",
     "output_type": "stream",
     "text": [
      "\n",
      "product_category_translation\n"
     ]
    },
    {
     "data": {
      "text/plain": [
       "(71, 2)"
      ]
     },
     "execution_count": 2,
     "metadata": {},
     "output_type": "execute_result"
    }
   ],
   "source": [
    "# ------- 9 product_category_translation\n",
    "print(\"\\nproduct_category_translation\")\n",
    "product_category_translation.shape\n"
   ]
  },
  {
   "cell_type": "code",
   "execution_count": 3,
   "id": "8994fb64",
   "metadata": {},
   "outputs": [
    {
     "data": {
      "text/html": [
       "<div>\n",
       "<style scoped>\n",
       "    .dataframe tbody tr th:only-of-type {\n",
       "        vertical-align: middle;\n",
       "    }\n",
       "\n",
       "    .dataframe tbody tr th {\n",
       "        vertical-align: top;\n",
       "    }\n",
       "\n",
       "    .dataframe thead th {\n",
       "        text-align: right;\n",
       "    }\n",
       "</style>\n",
       "<table border=\"1\" class=\"dataframe\">\n",
       "  <thead>\n",
       "    <tr style=\"text-align: right;\">\n",
       "      <th></th>\n",
       "      <th>product_category_name</th>\n",
       "      <th>product_category_name_english</th>\n",
       "    </tr>\n",
       "  </thead>\n",
       "  <tbody>\n",
       "    <tr>\n",
       "      <th>0</th>\n",
       "      <td>beleza_saude</td>\n",
       "      <td>health_beauty</td>\n",
       "    </tr>\n",
       "    <tr>\n",
       "      <th>1</th>\n",
       "      <td>informatica_acessorios</td>\n",
       "      <td>computers_accessories</td>\n",
       "    </tr>\n",
       "    <tr>\n",
       "      <th>2</th>\n",
       "      <td>automotivo</td>\n",
       "      <td>auto</td>\n",
       "    </tr>\n",
       "    <tr>\n",
       "      <th>3</th>\n",
       "      <td>cama_mesa_banho</td>\n",
       "      <td>bed_bath_table</td>\n",
       "    </tr>\n",
       "    <tr>\n",
       "      <th>4</th>\n",
       "      <td>moveis_decoracao</td>\n",
       "      <td>furniture_decor</td>\n",
       "    </tr>\n",
       "  </tbody>\n",
       "</table>\n",
       "</div>"
      ],
      "text/plain": [
       "    product_category_name product_category_name_english\n",
       "0            beleza_saude                 health_beauty\n",
       "1  informatica_acessorios         computers_accessories\n",
       "2              automotivo                          auto\n",
       "3         cama_mesa_banho                bed_bath_table\n",
       "4        moveis_decoracao               furniture_decor"
      ]
     },
     "execution_count": 3,
     "metadata": {},
     "output_type": "execute_result"
    }
   ],
   "source": [
    "product_category_translation.head()"
   ]
  },
  {
   "cell_type": "code",
   "execution_count": 4,
   "id": "9a8c985d",
   "metadata": {},
   "outputs": [
    {
     "data": {
      "text/plain": [
       "product_category_name            0\n",
       "product_category_name_english    0\n",
       "dtype: int64"
      ]
     },
     "execution_count": 4,
     "metadata": {},
     "output_type": "execute_result"
    }
   ],
   "source": [
    "product_category_translation.isna().sum()"
   ]
  },
  {
   "cell_type": "code",
   "execution_count": 5,
   "id": "0f34e843",
   "metadata": {},
   "outputs": [],
   "source": [
    "product_category_translation = product_category_translation.dropna()"
   ]
  },
  {
   "cell_type": "code",
   "execution_count": 6,
   "id": "a38d8071",
   "metadata": {},
   "outputs": [
    {
     "data": {
      "text/html": [
       "<div>\n",
       "<style scoped>\n",
       "    .dataframe tbody tr th:only-of-type {\n",
       "        vertical-align: middle;\n",
       "    }\n",
       "\n",
       "    .dataframe tbody tr th {\n",
       "        vertical-align: top;\n",
       "    }\n",
       "\n",
       "    .dataframe thead th {\n",
       "        text-align: right;\n",
       "    }\n",
       "</style>\n",
       "<table border=\"1\" class=\"dataframe\">\n",
       "  <thead>\n",
       "    <tr style=\"text-align: right;\">\n",
       "      <th></th>\n",
       "      <th>product_category_name</th>\n",
       "      <th>product_category_name_english</th>\n",
       "    </tr>\n",
       "  </thead>\n",
       "  <tbody>\n",
       "    <tr>\n",
       "      <th>count</th>\n",
       "      <td>71</td>\n",
       "      <td>71</td>\n",
       "    </tr>\n",
       "    <tr>\n",
       "      <th>unique</th>\n",
       "      <td>71</td>\n",
       "      <td>71</td>\n",
       "    </tr>\n",
       "    <tr>\n",
       "      <th>top</th>\n",
       "      <td>beleza_saude</td>\n",
       "      <td>health_beauty</td>\n",
       "    </tr>\n",
       "    <tr>\n",
       "      <th>freq</th>\n",
       "      <td>1</td>\n",
       "      <td>1</td>\n",
       "    </tr>\n",
       "  </tbody>\n",
       "</table>\n",
       "</div>"
      ],
      "text/plain": [
       "       product_category_name product_category_name_english\n",
       "count                     71                            71\n",
       "unique                    71                            71\n",
       "top             beleza_saude                 health_beauty\n",
       "freq                       1                             1"
      ]
     },
     "execution_count": 6,
     "metadata": {},
     "output_type": "execute_result"
    }
   ],
   "source": [
    "product_category_translation.describe()"
   ]
  },
  {
   "cell_type": "code",
   "execution_count": 7,
   "id": "c10ca2be",
   "metadata": {},
   "outputs": [],
   "source": [
    "# Create a dictionary for mapping from 'product_category_name' to 'product_category_name_english'\n",
    "translation_map = dict(zip(product_category_translation.product_category_name, \n",
    "                           product_category_translation.product_category_name_english))\n",
    "\n",
    "# a function to replace the 'product_category_name' in Portuguese to English\n",
    "def replace_category_with_translation(df, translation_map):\n",
    "    if 'product_category_name' in product_category_translation.columns:\n",
    "        product_category_translation['product_category_name'].replace(\n",
    "            translation_map, inplace=True)\n",
    "    return product_category_translation"
   ]
  },
  {
   "cell_type": "code",
   "execution_count": 8,
   "id": "20e2e6e7",
   "metadata": {},
   "outputs": [
    {
     "name": "stdout",
     "output_type": "stream",
     "text": [
      "\n",
      "Customer\n"
     ]
    },
    {
     "data": {
      "text/plain": [
       "(99441, 5)"
      ]
     },
     "execution_count": 8,
     "metadata": {},
     "output_type": "execute_result"
    }
   ],
   "source": [
    "# ------- 1 customers\n",
    "print(\"\\nCustomer\")\n",
    "# Check the shape of the dataframe\n",
    "customers.shape"
   ]
  },
  {
   "cell_type": "code",
   "execution_count": 9,
   "id": "cb426ee3",
   "metadata": {},
   "outputs": [
    {
     "data": {
      "text/html": [
       "<div>\n",
       "<style scoped>\n",
       "    .dataframe tbody tr th:only-of-type {\n",
       "        vertical-align: middle;\n",
       "    }\n",
       "\n",
       "    .dataframe tbody tr th {\n",
       "        vertical-align: top;\n",
       "    }\n",
       "\n",
       "    .dataframe thead th {\n",
       "        text-align: right;\n",
       "    }\n",
       "</style>\n",
       "<table border=\"1\" class=\"dataframe\">\n",
       "  <thead>\n",
       "    <tr style=\"text-align: right;\">\n",
       "      <th></th>\n",
       "      <th>customer_id</th>\n",
       "      <th>customer_unique_id</th>\n",
       "      <th>customer_zip_code_prefix</th>\n",
       "      <th>customer_city</th>\n",
       "      <th>customer_state</th>\n",
       "    </tr>\n",
       "  </thead>\n",
       "  <tbody>\n",
       "    <tr>\n",
       "      <th>0</th>\n",
       "      <td>06b8999e2fba1a1fbc88172c00ba8bc7</td>\n",
       "      <td>861eff4711a542e4b93843c6dd7febb0</td>\n",
       "      <td>14409</td>\n",
       "      <td>franca</td>\n",
       "      <td>SP</td>\n",
       "    </tr>\n",
       "    <tr>\n",
       "      <th>1</th>\n",
       "      <td>18955e83d337fd6b2def6b18a428ac77</td>\n",
       "      <td>290c77bc529b7ac935b93aa66c333dc3</td>\n",
       "      <td>9790</td>\n",
       "      <td>sao bernardo do campo</td>\n",
       "      <td>SP</td>\n",
       "    </tr>\n",
       "    <tr>\n",
       "      <th>2</th>\n",
       "      <td>4e7b3e00288586ebd08712fdd0374a03</td>\n",
       "      <td>060e732b5b29e8181a18229c7b0b2b5e</td>\n",
       "      <td>1151</td>\n",
       "      <td>sao paulo</td>\n",
       "      <td>SP</td>\n",
       "    </tr>\n",
       "    <tr>\n",
       "      <th>3</th>\n",
       "      <td>b2b6027bc5c5109e529d4dc6358b12c3</td>\n",
       "      <td>259dac757896d24d7702b9acbbff3f3c</td>\n",
       "      <td>8775</td>\n",
       "      <td>mogi das cruzes</td>\n",
       "      <td>SP</td>\n",
       "    </tr>\n",
       "    <tr>\n",
       "      <th>4</th>\n",
       "      <td>4f2d8ab171c80ec8364f7c12e35b23ad</td>\n",
       "      <td>345ecd01c38d18a9036ed96c73b8d066</td>\n",
       "      <td>13056</td>\n",
       "      <td>campinas</td>\n",
       "      <td>SP</td>\n",
       "    </tr>\n",
       "  </tbody>\n",
       "</table>\n",
       "</div>"
      ],
      "text/plain": [
       "                        customer_id                customer_unique_id  \\\n",
       "0  06b8999e2fba1a1fbc88172c00ba8bc7  861eff4711a542e4b93843c6dd7febb0   \n",
       "1  18955e83d337fd6b2def6b18a428ac77  290c77bc529b7ac935b93aa66c333dc3   \n",
       "2  4e7b3e00288586ebd08712fdd0374a03  060e732b5b29e8181a18229c7b0b2b5e   \n",
       "3  b2b6027bc5c5109e529d4dc6358b12c3  259dac757896d24d7702b9acbbff3f3c   \n",
       "4  4f2d8ab171c80ec8364f7c12e35b23ad  345ecd01c38d18a9036ed96c73b8d066   \n",
       "\n",
       "   customer_zip_code_prefix          customer_city customer_state  \n",
       "0                     14409                 franca             SP  \n",
       "1                      9790  sao bernardo do campo             SP  \n",
       "2                      1151              sao paulo             SP  \n",
       "3                      8775        mogi das cruzes             SP  \n",
       "4                     13056               campinas             SP  "
      ]
     },
     "execution_count": 9,
     "metadata": {},
     "output_type": "execute_result"
    }
   ],
   "source": [
    "# View the first few rows of the dataframe\n",
    "customers.head()"
   ]
  },
  {
   "cell_type": "code",
   "execution_count": 10,
   "id": "46900e1f",
   "metadata": {},
   "outputs": [
    {
     "data": {
      "text/plain": [
       "customer_id                 object\n",
       "customer_unique_id          object\n",
       "customer_zip_code_prefix     int64\n",
       "customer_city               object\n",
       "customer_state              object\n",
       "dtype: object"
      ]
     },
     "execution_count": 10,
     "metadata": {},
     "output_type": "execute_result"
    }
   ],
   "source": [
    "customers.dtypes"
   ]
  },
  {
   "cell_type": "code",
   "execution_count": 11,
   "id": "f00dd52f",
   "metadata": {},
   "outputs": [
    {
     "data": {
      "text/plain": [
       "customer_id                 0\n",
       "customer_unique_id          0\n",
       "customer_zip_code_prefix    0\n",
       "customer_city               0\n",
       "customer_state              0\n",
       "dtype: int64"
      ]
     },
     "execution_count": 11,
     "metadata": {},
     "output_type": "execute_result"
    }
   ],
   "source": [
    "# Check for missing data\n",
    "customers.isna().sum()"
   ]
  },
  {
   "cell_type": "code",
   "execution_count": 12,
   "id": "ce8c0ad4",
   "metadata": {},
   "outputs": [],
   "source": [
    "# Remove missing data\n",
    "customers = customers.dropna()"
   ]
  },
  {
   "cell_type": "code",
   "execution_count": 13,
   "id": "5ae50d1b",
   "metadata": {},
   "outputs": [
    {
     "data": {
      "text/plain": [
       "customer_id                 99441\n",
       "customer_unique_id          96096\n",
       "customer_zip_code_prefix    14994\n",
       "customer_city                4119\n",
       "customer_state                 27\n",
       "dtype: int64"
      ]
     },
     "execution_count": 13,
     "metadata": {},
     "output_type": "execute_result"
    }
   ],
   "source": [
    "customers.nunique()"
   ]
  },
  {
   "cell_type": "code",
   "execution_count": 14,
   "id": "8574c941",
   "metadata": {},
   "outputs": [
    {
     "data": {
      "text/plain": [
       "0"
      ]
     },
     "execution_count": 14,
     "metadata": {},
     "output_type": "execute_result"
    }
   ],
   "source": [
    "customers.duplicated().sum()"
   ]
  },
  {
   "cell_type": "code",
   "execution_count": 15,
   "id": "764691a7",
   "metadata": {},
   "outputs": [
    {
     "data": {
      "text/plain": [
       "count                                99441\n",
       "unique                               99441\n",
       "top       06b8999e2fba1a1fbc88172c00ba8bc7\n",
       "freq                                     1\n",
       "Name: customer_id, dtype: object"
      ]
     },
     "execution_count": 15,
     "metadata": {},
     "output_type": "execute_result"
    }
   ],
   "source": [
    "# View descriptive statistics of the dataframe\n",
    "customers.customer_id.describe()"
   ]
  },
  {
   "cell_type": "code",
   "execution_count": 16,
   "id": "154f6f16",
   "metadata": {},
   "outputs": [
    {
     "data": {
      "text/plain": [
       "Text(0.5, 0, 'Number of Customers')"
      ]
     },
     "execution_count": 16,
     "metadata": {},
     "output_type": "execute_result"
    },
    {
     "data": {
      "image/png": "[encoded data removed]",
      "text/plain": [
       "<Figure size 432x288 with 1 Axes>"
      ]
     },
     "metadata": {
      "needs_background": "light"
     },
     "output_type": "display_data"
    }
   ],
   "source": [
    "# to find the distribution of customers based on their state\n",
    "customers.groupby(['customer_state'])['customer_unique_id'].nunique().sort_values(\n",
    "    ascending=False)[:10].iloc[::-1].plot(kind = 'barh')\n",
    "plt.title(\"Distribution of Customers by State\")\n",
    "plt.ylabel(\"State\")\n",
    "plt.xlabel(\"Number of Customers\")"
   ]
  },
  {
   "cell_type": "code",
   "execution_count": 17,
   "id": "bb74a484",
   "metadata": {},
   "outputs": [
    {
     "data": {
      "text/plain": [
       "Text(0.5, 0, 'Number of Customers')"
      ]
     },
     "execution_count": 17,
     "metadata": {},
     "output_type": "execute_result"
    },
    {
     "data": {
      "image/png": "[encoded data removed]",
      "text/plain": [
       "<Figure size 432x288 with 1 Axes>"
      ]
     },
     "metadata": {
      "needs_background": "light"
     },
     "output_type": "display_data"
    }
   ],
   "source": [
    "# to find the distribution of customers based on their city\n",
    "customers.groupby(['customer_city'])['customer_unique_id'].nunique().sort_values(\n",
    "    ascending=False)[:10].iloc[::-1].plot(kind = 'barh')\n",
    "plt.title(\"Distribution of Customers by City\")\n",
    "plt.ylabel(\"City\")\n",
    "plt.xlabel(\"Number of Customers\")"
   ]
  },
  {
   "cell_type": "code",
   "execution_count": 18,
   "id": "ae169409",
   "metadata": {},
   "outputs": [
    {
     "name": "stdout",
     "output_type": "stream",
     "text": [
      "\n",
      "Location\n"
     ]
    },
    {
     "data": {
      "text/plain": [
       "(1000163, 5)"
      ]
     },
     "execution_count": 18,
     "metadata": {},
     "output_type": "execute_result"
    }
   ],
   "source": [
    "# ------- 2 geolocation\n",
    "print(\"\\nLocation\")\n",
    "geolocation.shape"
   ]
  },
  {
   "cell_type": "code",
   "execution_count": 19,
   "id": "5d9494c6",
   "metadata": {},
   "outputs": [
    {
     "data": {
      "text/html": [
       "<div>\n",
       "<style scoped>\n",
       "    .dataframe tbody tr th:only-of-type {\n",
       "        vertical-align: middle;\n",
       "    }\n",
       "\n",
       "    .dataframe tbody tr th {\n",
       "        vertical-align: top;\n",
       "    }\n",
       "\n",
       "    .dataframe thead th {\n",
       "        text-align: right;\n",
       "    }\n",
       "</style>\n",
       "<table border=\"1\" class=\"dataframe\">\n",
       "  <thead>\n",
       "    <tr style=\"text-align: right;\">\n",
       "      <th></th>\n",
       "      <th>geolocation_zip_code_prefix</th>\n",
       "      <th>geolocation_lat</th>\n",
       "      <th>geolocation_lng</th>\n",
       "      <th>geolocation_city</th>\n",
       "      <th>geolocation_state</th>\n",
       "    </tr>\n",
       "  </thead>\n",
       "  <tbody>\n",
       "    <tr>\n",
       "      <th>0</th>\n",
       "      <td>1037</td>\n",
       "      <td>-23.545621</td>\n",
       "      <td>-46.639292</td>\n",
       "      <td>sao paulo</td>\n",
       "      <td>SP</td>\n",
       "    </tr>\n",
       "    <tr>\n",
       "      <th>1</th>\n",
       "      <td>1046</td>\n",
       "      <td>-23.546081</td>\n",
       "      <td>-46.644820</td>\n",
       "      <td>sao paulo</td>\n",
       "      <td>SP</td>\n",
       "    </tr>\n",
       "    <tr>\n",
       "      <th>2</th>\n",
       "      <td>1046</td>\n",
       "      <td>-23.546129</td>\n",
       "      <td>-46.642951</td>\n",
       "      <td>sao paulo</td>\n",
       "      <td>SP</td>\n",
       "    </tr>\n",
       "    <tr>\n",
       "      <th>3</th>\n",
       "      <td>1041</td>\n",
       "      <td>-23.544392</td>\n",
       "      <td>-46.639499</td>\n",
       "      <td>sao paulo</td>\n",
       "      <td>SP</td>\n",
       "    </tr>\n",
       "    <tr>\n",
       "      <th>4</th>\n",
       "      <td>1035</td>\n",
       "      <td>-23.541578</td>\n",
       "      <td>-46.641607</td>\n",
       "      <td>sao paulo</td>\n",
       "      <td>SP</td>\n",
       "    </tr>\n",
       "  </tbody>\n",
       "</table>\n",
       "</div>"
      ],
      "text/plain": [
       "   geolocation_zip_code_prefix  geolocation_lat  geolocation_lng  \\\n",
       "0                         1037       -23.545621       -46.639292   \n",
       "1                         1046       -23.546081       -46.644820   \n",
       "2                         1046       -23.546129       -46.642951   \n",
       "3                         1041       -23.544392       -46.639499   \n",
       "4                         1035       -23.541578       -46.641607   \n",
       "\n",
       "  geolocation_city geolocation_state  \n",
       "0        sao paulo                SP  \n",
       "1        sao paulo                SP  \n",
       "2        sao paulo                SP  \n",
       "3        sao paulo                SP  \n",
       "4        sao paulo                SP  "
      ]
     },
     "execution_count": 19,
     "metadata": {},
     "output_type": "execute_result"
    }
   ],
   "source": [
    "geolocation.head()"
   ]
  },
  {
   "cell_type": "code",
   "execution_count": 20,
   "id": "0ff50fa5",
   "metadata": {},
   "outputs": [
    {
     "data": {
      "text/plain": [
       "geolocation_zip_code_prefix      int64\n",
       "geolocation_lat                float64\n",
       "geolocation_lng                float64\n",
       "geolocation_city                object\n",
       "geolocation_state               object\n",
       "dtype: object"
      ]
     },
     "execution_count": 20,
     "metadata": {},
     "output_type": "execute_result"
    }
   ],
   "source": [
    "geolocation.dtypes"
   ]
  },
  {
   "cell_type": "code",
   "execution_count": 21,
   "id": "e8e2d411",
   "metadata": {},
   "outputs": [
    {
     "data": {
      "text/plain": [
       "geolocation_zip_code_prefix    0\n",
       "geolocation_lat                0\n",
       "geolocation_lng                0\n",
       "geolocation_city               0\n",
       "geolocation_state              0\n",
       "dtype: int64"
      ]
     },
     "execution_count": 21,
     "metadata": {},
     "output_type": "execute_result"
    }
   ],
   "source": [
    "geolocation.isna().sum()"
   ]
  },
  {
   "cell_type": "code",
   "execution_count": 22,
   "id": "a7ed3d7c",
   "metadata": {},
   "outputs": [],
   "source": [
    "geolocation = geolocation.dropna()"
   ]
  },
  {
   "cell_type": "code",
   "execution_count": 23,
   "id": "a1c3ae7e",
   "metadata": {},
   "outputs": [
    {
     "data": {
      "text/plain": [
       "981148"
      ]
     },
     "execution_count": 23,
     "metadata": {},
     "output_type": "execute_result"
    }
   ],
   "source": [
    "# finding number of redundant rows\n",
    "geolocation.geolocation_zip_code_prefix.duplicated().sum()"
   ]
  },
  {
   "cell_type": "code",
   "execution_count": 24,
   "id": "4c25e5d0",
   "metadata": {},
   "outputs": [
    {
     "data": {
      "text/html": [
       "<div>\n",
       "<style scoped>\n",
       "    .dataframe tbody tr th:only-of-type {\n",
       "        vertical-align: middle;\n",
       "    }\n",
       "\n",
       "    .dataframe tbody tr th {\n",
       "        vertical-align: top;\n",
       "    }\n",
       "\n",
       "    .dataframe thead th {\n",
       "        text-align: right;\n",
       "    }\n",
       "</style>\n",
       "<table border=\"1\" class=\"dataframe\">\n",
       "  <thead>\n",
       "    <tr style=\"text-align: right;\">\n",
       "      <th></th>\n",
       "      <th>geolocation_zip_code_prefix</th>\n",
       "      <th>geolocation_lat</th>\n",
       "      <th>geolocation_lng</th>\n",
       "    </tr>\n",
       "  </thead>\n",
       "  <tbody>\n",
       "    <tr>\n",
       "      <th>count</th>\n",
       "      <td>1.000163e+06</td>\n",
       "      <td>1.000163e+06</td>\n",
       "      <td>1.000163e+06</td>\n",
       "    </tr>\n",
       "    <tr>\n",
       "      <th>mean</th>\n",
       "      <td>3.657417e+04</td>\n",
       "      <td>-2.117615e+01</td>\n",
       "      <td>-4.639054e+01</td>\n",
       "    </tr>\n",
       "    <tr>\n",
       "      <th>std</th>\n",
       "      <td>3.054934e+04</td>\n",
       "      <td>5.715866e+00</td>\n",
       "      <td>4.269748e+00</td>\n",
       "    </tr>\n",
       "    <tr>\n",
       "      <th>min</th>\n",
       "      <td>1.001000e+03</td>\n",
       "      <td>-3.660537e+01</td>\n",
       "      <td>-1.014668e+02</td>\n",
       "    </tr>\n",
       "    <tr>\n",
       "      <th>25%</th>\n",
       "      <td>1.107500e+04</td>\n",
       "      <td>-2.360355e+01</td>\n",
       "      <td>-4.857317e+01</td>\n",
       "    </tr>\n",
       "    <tr>\n",
       "      <th>50%</th>\n",
       "      <td>2.653000e+04</td>\n",
       "      <td>-2.291938e+01</td>\n",
       "      <td>-4.663788e+01</td>\n",
       "    </tr>\n",
       "    <tr>\n",
       "      <th>75%</th>\n",
       "      <td>6.350400e+04</td>\n",
       "      <td>-1.997962e+01</td>\n",
       "      <td>-4.376771e+01</td>\n",
       "    </tr>\n",
       "    <tr>\n",
       "      <th>max</th>\n",
       "      <td>9.999000e+04</td>\n",
       "      <td>4.506593e+01</td>\n",
       "      <td>1.211054e+02</td>\n",
       "    </tr>\n",
       "  </tbody>\n",
       "</table>\n",
       "</div>"
      ],
      "text/plain": [
       "       geolocation_zip_code_prefix  geolocation_lat  geolocation_lng\n",
       "count                 1.000163e+06     1.000163e+06     1.000163e+06\n",
       "mean                  3.657417e+04    -2.117615e+01    -4.639054e+01\n",
       "std                   3.054934e+04     5.715866e+00     4.269748e+00\n",
       "min                   1.001000e+03    -3.660537e+01    -1.014668e+02\n",
       "25%                   1.107500e+04    -2.360355e+01    -4.857317e+01\n",
       "50%                   2.653000e+04    -2.291938e+01    -4.663788e+01\n",
       "75%                   6.350400e+04    -1.997962e+01    -4.376771e+01\n",
       "max                   9.999000e+04     4.506593e+01     1.211054e+02"
      ]
     },
     "execution_count": 24,
     "metadata": {},
     "output_type": "execute_result"
    }
   ],
   "source": [
    "geolocation.describe()"
   ]
  },
  {
   "cell_type": "code",
   "execution_count": 25,
   "id": "729010ab",
   "metadata": {},
   "outputs": [
    {
     "data": {
      "text/plain": [
       "282803"
      ]
     },
     "execution_count": 25,
     "metadata": {},
     "output_type": "execute_result"
    }
   ],
   "source": [
    "# finding number of redundant rows\n",
    "geolocation.geolocation_lat.duplicated().sum()"
   ]
  },
  {
   "cell_type": "code",
   "execution_count": 26,
   "id": "4270ac42",
   "metadata": {},
   "outputs": [
    {
     "data": {
      "text/plain": [
       "282550"
      ]
     },
     "execution_count": 26,
     "metadata": {},
     "output_type": "execute_result"
    }
   ],
   "source": [
    "geolocation.geolocation_lng.duplicated().sum()"
   ]
  },
  {
   "cell_type": "code",
   "execution_count": 27,
   "id": "74339ac2",
   "metadata": {},
   "outputs": [
    {
     "data": {
      "text/html": [
       "<div>\n",
       "<style scoped>\n",
       "    .dataframe tbody tr th:only-of-type {\n",
       "        vertical-align: middle;\n",
       "    }\n",
       "\n",
       "    .dataframe tbody tr th {\n",
       "        vertical-align: top;\n",
       "    }\n",
       "\n",
       "    .dataframe thead th {\n",
       "        text-align: right;\n",
       "    }\n",
       "</style>\n",
       "<table border=\"1\" class=\"dataframe\">\n",
       "  <thead>\n",
       "    <tr style=\"text-align: right;\">\n",
       "      <th></th>\n",
       "      <th>geolocation_zip_code_prefix</th>\n",
       "      <th>geolocation_lat</th>\n",
       "      <th>geolocation_lng</th>\n",
       "      <th>geolocation_city</th>\n",
       "      <th>geolocation_state</th>\n",
       "    </tr>\n",
       "  </thead>\n",
       "  <tbody>\n",
       "    <tr>\n",
       "      <th>0</th>\n",
       "      <td>1037</td>\n",
       "      <td>-23.545621</td>\n",
       "      <td>-46.639292</td>\n",
       "      <td>sao paulo</td>\n",
       "      <td>SP</td>\n",
       "    </tr>\n",
       "    <tr>\n",
       "      <th>1</th>\n",
       "      <td>1046</td>\n",
       "      <td>-23.546081</td>\n",
       "      <td>-46.644820</td>\n",
       "      <td>sao paulo</td>\n",
       "      <td>SP</td>\n",
       "    </tr>\n",
       "    <tr>\n",
       "      <th>2</th>\n",
       "      <td>1046</td>\n",
       "      <td>-23.546129</td>\n",
       "      <td>-46.642951</td>\n",
       "      <td>sao paulo</td>\n",
       "      <td>SP</td>\n",
       "    </tr>\n",
       "    <tr>\n",
       "      <th>3</th>\n",
       "      <td>1041</td>\n",
       "      <td>-23.544392</td>\n",
       "      <td>-46.639499</td>\n",
       "      <td>sao paulo</td>\n",
       "      <td>SP</td>\n",
       "    </tr>\n",
       "    <tr>\n",
       "      <th>4</th>\n",
       "      <td>1035</td>\n",
       "      <td>-23.541578</td>\n",
       "      <td>-46.641607</td>\n",
       "      <td>sao paulo</td>\n",
       "      <td>SP</td>\n",
       "    </tr>\n",
       "    <tr>\n",
       "      <th>...</th>\n",
       "      <td>...</td>\n",
       "      <td>...</td>\n",
       "      <td>...</td>\n",
       "      <td>...</td>\n",
       "      <td>...</td>\n",
       "    </tr>\n",
       "    <tr>\n",
       "      <th>1000158</th>\n",
       "      <td>99950</td>\n",
       "      <td>-28.068639</td>\n",
       "      <td>-52.010705</td>\n",
       "      <td>tapejara</td>\n",
       "      <td>RS</td>\n",
       "    </tr>\n",
       "    <tr>\n",
       "      <th>1000159</th>\n",
       "      <td>99900</td>\n",
       "      <td>-27.877125</td>\n",
       "      <td>-52.224882</td>\n",
       "      <td>getulio vargas</td>\n",
       "      <td>RS</td>\n",
       "    </tr>\n",
       "    <tr>\n",
       "      <th>1000160</th>\n",
       "      <td>99950</td>\n",
       "      <td>-28.071855</td>\n",
       "      <td>-52.014716</td>\n",
       "      <td>tapejara</td>\n",
       "      <td>RS</td>\n",
       "    </tr>\n",
       "    <tr>\n",
       "      <th>1000161</th>\n",
       "      <td>99980</td>\n",
       "      <td>-28.388932</td>\n",
       "      <td>-51.846871</td>\n",
       "      <td>david canabarro</td>\n",
       "      <td>RS</td>\n",
       "    </tr>\n",
       "    <tr>\n",
       "      <th>1000162</th>\n",
       "      <td>99950</td>\n",
       "      <td>-28.070104</td>\n",
       "      <td>-52.018658</td>\n",
       "      <td>tapejara</td>\n",
       "      <td>RS</td>\n",
       "    </tr>\n",
       "  </tbody>\n",
       "</table>\n",
       "<p>999120 rows × 5 columns</p>\n",
       "</div>"
      ],
      "text/plain": [
       "         geolocation_zip_code_prefix  geolocation_lat  geolocation_lng  \\\n",
       "0                               1037       -23.545621       -46.639292   \n",
       "1                               1046       -23.546081       -46.644820   \n",
       "2                               1046       -23.546129       -46.642951   \n",
       "3                               1041       -23.544392       -46.639499   \n",
       "4                               1035       -23.541578       -46.641607   \n",
       "...                              ...              ...              ...   \n",
       "1000158                        99950       -28.068639       -52.010705   \n",
       "1000159                        99900       -27.877125       -52.224882   \n",
       "1000160                        99950       -28.071855       -52.014716   \n",
       "1000161                        99980       -28.388932       -51.846871   \n",
       "1000162                        99950       -28.070104       -52.018658   \n",
       "\n",
       "        geolocation_city geolocation_state  \n",
       "0              sao paulo                SP  \n",
       "1              sao paulo                SP  \n",
       "2              sao paulo                SP  \n",
       "3              sao paulo                SP  \n",
       "4              sao paulo                SP  \n",
       "...                  ...               ...  \n",
       "1000158         tapejara                RS  \n",
       "1000159   getulio vargas                RS  \n",
       "1000160         tapejara                RS  \n",
       "1000161  david canabarro                RS  \n",
       "1000162         tapejara                RS  \n",
       "\n",
       "[999120 rows x 5 columns]"
      ]
     },
     "execution_count": 27,
     "metadata": {},
     "output_type": "execute_result"
    }
   ],
   "source": [
    "# Filter rows that are duplicated based on 'geolocation_zip_code_prefix'\n",
    "duplicate_rows = geolocation[geolocation.duplicated(subset='geolocation_zip_code_prefix', keep=False)]\n",
    "\n",
    "# Print the duplicate rows\n",
    "duplicate_rows"
   ]
  },
  {
   "cell_type": "code",
   "execution_count": 28,
   "id": "f7a18b4d",
   "metadata": {},
   "outputs": [
    {
     "data": {
      "text/html": [
       "<div>\n",
       "<style scoped>\n",
       "    .dataframe tbody tr th:only-of-type {\n",
       "        vertical-align: middle;\n",
       "    }\n",
       "\n",
       "    .dataframe tbody tr th {\n",
       "        vertical-align: top;\n",
       "    }\n",
       "\n",
       "    .dataframe thead th {\n",
       "        text-align: right;\n",
       "    }\n",
       "</style>\n",
       "<table border=\"1\" class=\"dataframe\">\n",
       "  <thead>\n",
       "    <tr style=\"text-align: right;\">\n",
       "      <th></th>\n",
       "      <th>geolocation_zip_code_prefix</th>\n",
       "      <th>geolocation_lat</th>\n",
       "      <th>geolocation_lng</th>\n",
       "      <th>geolocation_city</th>\n",
       "      <th>geolocation_state</th>\n",
       "    </tr>\n",
       "  </thead>\n",
       "  <tbody>\n",
       "    <tr>\n",
       "      <th>250816</th>\n",
       "      <td>11200</td>\n",
       "      <td>-8.275689</td>\n",
       "      <td>-35.965615</td>\n",
       "      <td>caruara</td>\n",
       "      <td>SP</td>\n",
       "    </tr>\n",
       "    <tr>\n",
       "      <th>302630</th>\n",
       "      <td>13355</td>\n",
       "      <td>-12.993852</td>\n",
       "      <td>-38.480882</td>\n",
       "      <td>cardeal</td>\n",
       "      <td>SP</td>\n",
       "    </tr>\n",
       "    <tr>\n",
       "      <th>304242</th>\n",
       "      <td>13375</td>\n",
       "      <td>-5.754127</td>\n",
       "      <td>-39.627933</td>\n",
       "      <td>mombuca</td>\n",
       "      <td>SP</td>\n",
       "    </tr>\n",
       "    <tr>\n",
       "      <th>332933</th>\n",
       "      <td>14185</td>\n",
       "      <td>-14.414915</td>\n",
       "      <td>-42.874718</td>\n",
       "      <td>candia</td>\n",
       "      <td>SP</td>\n",
       "    </tr>\n",
       "    <tr>\n",
       "      <th>333157</th>\n",
       "      <td>14185</td>\n",
       "      <td>-14.411892</td>\n",
       "      <td>-42.871632</td>\n",
       "      <td>candia</td>\n",
       "      <td>SP</td>\n",
       "    </tr>\n",
       "    <tr>\n",
       "      <th>...</th>\n",
       "      <td>...</td>\n",
       "      <td>...</td>\n",
       "      <td>...</td>\n",
       "      <td>...</td>\n",
       "      <td>...</td>\n",
       "    </tr>\n",
       "    <tr>\n",
       "      <th>997877</th>\n",
       "      <td>99440</td>\n",
       "      <td>-29.089375</td>\n",
       "      <td>-53.223443</td>\n",
       "      <td>salto do jacui</td>\n",
       "      <td>RS</td>\n",
       "    </tr>\n",
       "    <tr>\n",
       "      <th>997883</th>\n",
       "      <td>99440</td>\n",
       "      <td>-29.087320</td>\n",
       "      <td>-53.216383</td>\n",
       "      <td>salto do jacui</td>\n",
       "      <td>RS</td>\n",
       "    </tr>\n",
       "    <tr>\n",
       "      <th>999082</th>\n",
       "      <td>99718</td>\n",
       "      <td>-30.855193</td>\n",
       "      <td>-51.800950</td>\n",
       "      <td>paulo bento</td>\n",
       "      <td>RS</td>\n",
       "    </tr>\n",
       "    <tr>\n",
       "      <th>999481</th>\n",
       "      <td>99870</td>\n",
       "      <td>-29.815148</td>\n",
       "      <td>-51.143162</td>\n",
       "      <td>sao jose do ouro</td>\n",
       "      <td>RS</td>\n",
       "    </tr>\n",
       "    <tr>\n",
       "      <th>999493</th>\n",
       "      <td>99870</td>\n",
       "      <td>-29.589687</td>\n",
       "      <td>-51.163715</td>\n",
       "      <td>são josé do ouro</td>\n",
       "      <td>RS</td>\n",
       "    </tr>\n",
       "  </tbody>\n",
       "</table>\n",
       "<p>168240 rows × 5 columns</p>\n",
       "</div>"
      ],
      "text/plain": [
       "        geolocation_zip_code_prefix  geolocation_lat  geolocation_lng  \\\n",
       "250816                        11200        -8.275689       -35.965615   \n",
       "302630                        13355       -12.993852       -38.480882   \n",
       "304242                        13375        -5.754127       -39.627933   \n",
       "332933                        14185       -14.414915       -42.874718   \n",
       "333157                        14185       -14.411892       -42.871632   \n",
       "...                             ...              ...              ...   \n",
       "997877                        99440       -29.089375       -53.223443   \n",
       "997883                        99440       -29.087320       -53.216383   \n",
       "999082                        99718       -30.855193       -51.800950   \n",
       "999481                        99870       -29.815148       -51.143162   \n",
       "999493                        99870       -29.589687       -51.163715   \n",
       "\n",
       "        geolocation_city geolocation_state  \n",
       "250816           caruara                SP  \n",
       "302630           cardeal                SP  \n",
       "304242           mombuca                SP  \n",
       "332933            candia                SP  \n",
       "333157            candia                SP  \n",
       "...                  ...               ...  \n",
       "997877    salto do jacui                RS  \n",
       "997883    salto do jacui                RS  \n",
       "999082       paulo bento                RS  \n",
       "999481  sao jose do ouro                RS  \n",
       "999493  são josé do ouro                RS  \n",
       "\n",
       "[168240 rows x 5 columns]"
      ]
     },
     "execution_count": 28,
     "metadata": {},
     "output_type": "execute_result"
    }
   ],
   "source": [
    "# Calculate Q1, Q3, and IQR for latitude\n",
    "Q1_lat = geolocation['geolocation_lat'].quantile(0.25)\n",
    "Q3_lat = geolocation['geolocation_lat'].quantile(0.75)\n",
    "IQR_lat = Q3_lat - Q1_lat\n",
    "\n",
    "# Define bounds\n",
    "lower_bound_lat = Q1_lat - 1.5 * IQR_lat\n",
    "upper_bound_lat = Q3_lat + 1.5 * IQR_lat\n",
    "\n",
    "# Identify outliers\n",
    "outliers_lat = geolocation[(geolocation['geolocation_lat'] < lower_bound_lat) | (geolocation['geolocation_lat'] > upper_bound_lat)]\n",
    "outliers_lat\n"
   ]
  },
  {
   "cell_type": "code",
   "execution_count": 29,
   "id": "5ca5b698",
   "metadata": {
    "scrolled": false
   },
   "outputs": [
    {
     "data": {
      "text/html": [
       "<div>\n",
       "<style scoped>\n",
       "    .dataframe tbody tr th:only-of-type {\n",
       "        vertical-align: middle;\n",
       "    }\n",
       "\n",
       "    .dataframe tbody tr th {\n",
       "        vertical-align: top;\n",
       "    }\n",
       "\n",
       "    .dataframe thead th {\n",
       "        text-align: right;\n",
       "    }\n",
       "</style>\n",
       "<table border=\"1\" class=\"dataframe\">\n",
       "  <thead>\n",
       "    <tr style=\"text-align: right;\">\n",
       "      <th></th>\n",
       "      <th>geolocation_zip_code_prefix</th>\n",
       "      <th>geolocation_lat</th>\n",
       "      <th>geolocation_lng</th>\n",
       "      <th>geolocation_city</th>\n",
       "      <th>geolocation_state</th>\n",
       "    </tr>\n",
       "  </thead>\n",
       "  <tbody>\n",
       "    <tr>\n",
       "      <th>250816</th>\n",
       "      <td>11200</td>\n",
       "      <td>-8.275689</td>\n",
       "      <td>-35.965615</td>\n",
       "      <td>caruara</td>\n",
       "      <td>SP</td>\n",
       "    </tr>\n",
       "    <tr>\n",
       "      <th>387565</th>\n",
       "      <td>18243</td>\n",
       "      <td>28.008978</td>\n",
       "      <td>-15.536867</td>\n",
       "      <td>bom retiro da esperanca</td>\n",
       "      <td>SP</td>\n",
       "    </tr>\n",
       "    <tr>\n",
       "      <th>399300</th>\n",
       "      <td>19274</td>\n",
       "      <td>-10.893066</td>\n",
       "      <td>-61.932123</td>\n",
       "      <td>primavera</td>\n",
       "      <td>SP</td>\n",
       "    </tr>\n",
       "    <tr>\n",
       "      <th>502492</th>\n",
       "      <td>27165</td>\n",
       "      <td>-8.068203</td>\n",
       "      <td>-34.893333</td>\n",
       "      <td>sao jose do turvo</td>\n",
       "      <td>RJ</td>\n",
       "    </tr>\n",
       "    <tr>\n",
       "      <th>502745</th>\n",
       "      <td>27165</td>\n",
       "      <td>-15.640132</td>\n",
       "      <td>-56.041370</td>\n",
       "      <td>sao jose do turvo</td>\n",
       "      <td>RJ</td>\n",
       "    </tr>\n",
       "    <tr>\n",
       "      <th>...</th>\n",
       "      <td>...</td>\n",
       "      <td>...</td>\n",
       "      <td>...</td>\n",
       "      <td>...</td>\n",
       "      <td>...</td>\n",
       "    </tr>\n",
       "    <tr>\n",
       "      <th>996197</th>\n",
       "      <td>99010</td>\n",
       "      <td>-28.622892</td>\n",
       "      <td>-56.026167</td>\n",
       "      <td>passo fundo</td>\n",
       "      <td>RS</td>\n",
       "    </tr>\n",
       "    <tr>\n",
       "      <th>996198</th>\n",
       "      <td>99010</td>\n",
       "      <td>-28.623859</td>\n",
       "      <td>-56.028473</td>\n",
       "      <td>passo fundo</td>\n",
       "      <td>RS</td>\n",
       "    </tr>\n",
       "    <tr>\n",
       "      <th>996224</th>\n",
       "      <td>99010</td>\n",
       "      <td>-28.622810</td>\n",
       "      <td>-56.025688</td>\n",
       "      <td>passo fundo</td>\n",
       "      <td>RS</td>\n",
       "    </tr>\n",
       "    <tr>\n",
       "      <th>996249</th>\n",
       "      <td>99010</td>\n",
       "      <td>-28.622629</td>\n",
       "      <td>-56.025312</td>\n",
       "      <td>passo fundo</td>\n",
       "      <td>RS</td>\n",
       "    </tr>\n",
       "    <tr>\n",
       "      <th>996424</th>\n",
       "      <td>99010</td>\n",
       "      <td>-28.622892</td>\n",
       "      <td>-56.026167</td>\n",
       "      <td>passo fundo</td>\n",
       "      <td>RS</td>\n",
       "    </tr>\n",
       "  </tbody>\n",
       "</table>\n",
       "<p>42348 rows × 5 columns</p>\n",
       "</div>"
      ],
      "text/plain": [
       "        geolocation_zip_code_prefix  geolocation_lat  geolocation_lng  \\\n",
       "250816                        11200        -8.275689       -35.965615   \n",
       "387565                        18243        28.008978       -15.536867   \n",
       "399300                        19274       -10.893066       -61.932123   \n",
       "502492                        27165        -8.068203       -34.893333   \n",
       "502745                        27165       -15.640132       -56.041370   \n",
       "...                             ...              ...              ...   \n",
       "996197                        99010       -28.622892       -56.026167   \n",
       "996198                        99010       -28.623859       -56.028473   \n",
       "996224                        99010       -28.622810       -56.025688   \n",
       "996249                        99010       -28.622629       -56.025312   \n",
       "996424                        99010       -28.622892       -56.026167   \n",
       "\n",
       "               geolocation_city geolocation_state  \n",
       "250816                  caruara                SP  \n",
       "387565  bom retiro da esperanca                SP  \n",
       "399300                primavera                SP  \n",
       "502492        sao jose do turvo                RJ  \n",
       "502745        sao jose do turvo                RJ  \n",
       "...                         ...               ...  \n",
       "996197              passo fundo                RS  \n",
       "996198              passo fundo                RS  \n",
       "996224              passo fundo                RS  \n",
       "996249              passo fundo                RS  \n",
       "996424              passo fundo                RS  \n",
       "\n",
       "[42348 rows x 5 columns]"
      ]
     },
     "execution_count": 29,
     "metadata": {},
     "output_type": "execute_result"
    }
   ],
   "source": [
    "# Calculate Q1, Q3, and IQR for longitude\n",
    "Q1_lng = geolocation['geolocation_lng'].quantile(0.25)\n",
    "Q3_lng = geolocation['geolocation_lng'].quantile(0.75)\n",
    "IQR_lng = Q3_lng - Q1_lng\n",
    "\n",
    "# Define bounds\n",
    "lower_bound_lng = Q1_lng - 1.5 * IQR_lng\n",
    "upper_bound_lng = Q3_lng + 1.5 * IQR_lng\n",
    "\n",
    "# Identify outliers\n",
    "outliers_lng = geolocation[(geolocation['geolocation_lng'] < lower_bound_lng) | (geolocation['geolocation_lng'] > upper_bound_lng)]\n",
    "outliers_lng\n"
   ]
  },
  {
   "cell_type": "code",
   "execution_count": 30,
   "id": "24d41273",
   "metadata": {},
   "outputs": [
    {
     "data": {
      "image/png": "[encoded data removed]",
      "text/plain": [
       "<Figure size 720x432 with 1 Axes>"
      ]
     },
     "metadata": {
      "needs_background": "light"
     },
     "output_type": "display_data"
    }
   ],
   "source": [
    "import matplotlib.pyplot as plt\n",
    "\n",
    "plt.figure(figsize=(10, 6))\n",
    "plt.scatter(geolocation['geolocation_lng'], geolocation['geolocation_lat'], c='blue', s=1, label='All Data')\n",
    "plt.scatter(outliers_lng['geolocation_lng'], outliers_lng['geolocation_lat'], c='red', s=1, label='Outliers')\n",
    "plt.xlabel('Longitude')\n",
    "plt.ylabel('Latitude')\n",
    "plt.legend()\n",
    "plt.title('Geolocation Scatter Plot with Outliers')\n",
    "plt.show()\n"
   ]
  },
  {
   "cell_type": "code",
   "execution_count": 31,
   "id": "8d2e88da",
   "metadata": {},
   "outputs": [
    {
     "data": {
      "image/png": "[encoded data removed]",
      "text/plain": [
       "<Figure size 1080x720 with 1 Axes>"
      ]
     },
     "metadata": {
      "needs_background": "light"
     },
     "output_type": "display_data"
    }
   ],
   "source": [
    "import geopandas as gpd\n",
    "import matplotlib.pyplot as plt\n",
    "\n",
    "# Load a map of the world\n",
    "world = gpd.read_file(gpd.datasets.get_path('naturalearth_lowres'))\n",
    "\n",
    "# Filter for South America, to zoom into Brazil\n",
    "ax = world[world.continent == \"South America\"].plot(color=\"white\", edgecolor=\"black\", figsize=(15, 10))\n",
    "\n",
    "# Plot the geolocation data on top\n",
    "plt.scatter(geolocation['geolocation_lng'], geolocation['geolocation_lat'], s=1, c='blue')\n",
    "\n",
    "plt.xlabel('Longitude')\n",
    "plt.ylabel('Latitude')\n",
    "plt.title('Geolocation Scatter Plot Over Brazil')\n",
    "plt.show()\n"
   ]
  },
  {
   "cell_type": "code",
   "execution_count": 32,
   "id": "98e35db8",
   "metadata": {},
   "outputs": [],
   "source": [
    "# Filter based on bounding box\n",
    "filtered_geolocation = geolocation[\n",
    "    (geolocation['geolocation_lat'] > -33) & \n",
    "    (geolocation['geolocation_lat'] < 5) & \n",
    "    (geolocation['geolocation_lng'] > -74) & \n",
    "    (geolocation['geolocation_lng'] < -35)\n",
    "]\n"
   ]
  },
  {
   "cell_type": "code",
   "execution_count": 33,
   "id": "b7a9f9df",
   "metadata": {},
   "outputs": [
    {
     "name": "stdout",
     "output_type": "stream",
     "text": [
      "Number of points removed: 11947\n"
     ]
    }
   ],
   "source": [
    "removed_points = len(geolocation) - len(filtered_geolocation)\n",
    "print(f\"Number of points removed: {removed_points}\")\n"
   ]
  },
  {
   "cell_type": "code",
   "execution_count": 34,
   "id": "d2503dbf",
   "metadata": {},
   "outputs": [],
   "source": [
    "# Find indexes of rows outside the bounding box\n",
    "indexes_to_remove = geolocation[\n",
    "    (geolocation['geolocation_lat'] <= -33) | \n",
    "    (geolocation['geolocation_lat'] >= 5) | \n",
    "    (geolocation['geolocation_lng'] <= -74) | \n",
    "    (geolocation['geolocation_lng'] >= -35)\n",
    "].index\n",
    "\n",
    "# Drop these rows from geolocation DataFrame\n",
    "geolocation.drop(indexes_to_remove, inplace=True)"
   ]
  },
  {
   "cell_type": "code",
   "execution_count": 35,
   "id": "1e863e1a",
   "metadata": {},
   "outputs": [
    {
     "name": "stdout",
     "output_type": "stream",
     "text": [
      "<class 'pandas.core.frame.DataFrame'>\n",
      "Index: 988216 entries, 0 to 1000162\n",
      "Data columns (total 5 columns):\n",
      " #   Column                       Non-Null Count   Dtype  \n",
      "---  ------                       --------------   -----  \n",
      " 0   geolocation_zip_code_prefix  988216 non-null  int64  \n",
      " 1   geolocation_lat              988216 non-null  float64\n",
      " 2   geolocation_lng              988216 non-null  float64\n",
      " 3   geolocation_city             988216 non-null  object \n",
      " 4   geolocation_state            988216 non-null  object \n",
      "dtypes: float64(2), int64(1), object(2)\n",
      "memory usage: 45.2+ MB\n"
     ]
    }
   ],
   "source": [
    "geolocation.info()"
   ]
  },
  {
   "cell_type": "code",
   "execution_count": 36,
   "id": "1c270e5c",
   "metadata": {},
   "outputs": [
    {
     "data": {
      "text/plain": [
       "(988216, 5)"
      ]
     },
     "execution_count": 36,
     "metadata": {},
     "output_type": "execute_result"
    }
   ],
   "source": [
    "geolocation.shape"
   ]
  },
  {
   "cell_type": "code",
   "execution_count": 37,
   "id": "45a15104",
   "metadata": {},
   "outputs": [
    {
     "data": {
      "text/html": [
       "<div>\n",
       "<style scoped>\n",
       "    .dataframe tbody tr th:only-of-type {\n",
       "        vertical-align: middle;\n",
       "    }\n",
       "\n",
       "    .dataframe tbody tr th {\n",
       "        vertical-align: top;\n",
       "    }\n",
       "\n",
       "    .dataframe thead th {\n",
       "        text-align: right;\n",
       "    }\n",
       "</style>\n",
       "<table border=\"1\" class=\"dataframe\">\n",
       "  <thead>\n",
       "    <tr style=\"text-align: right;\">\n",
       "      <th></th>\n",
       "      <th>geolocation_zip_code_prefix</th>\n",
       "      <th>geolocation_lat</th>\n",
       "      <th>geolocation_lng</th>\n",
       "    </tr>\n",
       "  </thead>\n",
       "  <tbody>\n",
       "    <tr>\n",
       "      <th>count</th>\n",
       "      <td>988216.000000</td>\n",
       "      <td>988216.000000</td>\n",
       "      <td>988216.000000</td>\n",
       "    </tr>\n",
       "    <tr>\n",
       "      <th>mean</th>\n",
       "      <td>36359.883847</td>\n",
       "      <td>-21.331467</td>\n",
       "      <td>-46.524998</td>\n",
       "    </tr>\n",
       "    <tr>\n",
       "      <th>std</th>\n",
       "      <td>30661.311543</td>\n",
       "      <td>5.551105</td>\n",
       "      <td>4.097086</td>\n",
       "    </tr>\n",
       "    <tr>\n",
       "      <th>min</th>\n",
       "      <td>1001.000000</td>\n",
       "      <td>-32.569765</td>\n",
       "      <td>-72.930746</td>\n",
       "    </tr>\n",
       "    <tr>\n",
       "      <th>25%</th>\n",
       "      <td>11030.000000</td>\n",
       "      <td>-23.606481</td>\n",
       "      <td>-48.612240</td>\n",
       "    </tr>\n",
       "    <tr>\n",
       "      <th>50%</th>\n",
       "      <td>26061.000000</td>\n",
       "      <td>-22.927450</td>\n",
       "      <td>-46.643059</td>\n",
       "    </tr>\n",
       "    <tr>\n",
       "      <th>75%</th>\n",
       "      <td>64090.000000</td>\n",
       "      <td>-20.152309</td>\n",
       "      <td>-43.899099</td>\n",
       "    </tr>\n",
       "    <tr>\n",
       "      <th>max</th>\n",
       "      <td>99990.000000</td>\n",
       "      <td>4.482242</td>\n",
       "      <td>-35.000022</td>\n",
       "    </tr>\n",
       "  </tbody>\n",
       "</table>\n",
       "</div>"
      ],
      "text/plain": [
       "       geolocation_zip_code_prefix  geolocation_lat  geolocation_lng\n",
       "count                988216.000000    988216.000000    988216.000000\n",
       "mean                  36359.883847       -21.331467       -46.524998\n",
       "std                   30661.311543         5.551105         4.097086\n",
       "min                    1001.000000       -32.569765       -72.930746\n",
       "25%                   11030.000000       -23.606481       -48.612240\n",
       "50%                   26061.000000       -22.927450       -46.643059\n",
       "75%                   64090.000000       -20.152309       -43.899099\n",
       "max                   99990.000000         4.482242       -35.000022"
      ]
     },
     "execution_count": 37,
     "metadata": {},
     "output_type": "execute_result"
    }
   ],
   "source": [
    "geolocation.describe()"
   ]
  },
  {
   "cell_type": "code",
   "execution_count": 38,
   "id": "52bbdc59",
   "metadata": {},
   "outputs": [
    {
     "data": {
      "image/png": "[encoded data removed]",
      "text/plain": [
       "<Figure size 1080x720 with 1 Axes>"
      ]
     },
     "metadata": {
      "needs_background": "light"
     },
     "output_type": "display_data"
    }
   ],
   "source": [
    "# Load a map of the world\n",
    "world = gpd.read_file(gpd.datasets.get_path('naturalearth_lowres'))\n",
    "\n",
    "# Filter for South America, to zoom into Brazil\n",
    "ax = world[world.continent == \"South America\"].plot(color=\"white\", edgecolor=\"black\", figsize=(15, 10))\n",
    "\n",
    "# Plot the geolocation data on top\n",
    "plt.scatter(geolocation['geolocation_lng'], geolocation['geolocation_lat'], s=1, c='blue')\n",
    "\n",
    "plt.xlabel('Longitude')\n",
    "plt.ylabel('Latitude')\n",
    "plt.title('Geolocation Scatter Plot Over Brazil')\n",
    "plt.show()\n"
   ]
  },
  {
   "cell_type": "code",
   "execution_count": 39,
   "id": "e50648d1",
   "metadata": {},
   "outputs": [
    {
     "name": "stdout",
     "output_type": "stream",
     "text": [
      "\n",
      "Order_items\n"
     ]
    }
   ],
   "source": [
    "# ------- 3 order_items\n",
    "print(\"\\nOrder_items\")"
   ]
  },
  {
   "cell_type": "code",
   "execution_count": 40,
   "id": "897dc76e",
   "metadata": {},
   "outputs": [
    {
     "data": {
      "text/plain": [
       "(112650, 7)"
      ]
     },
     "execution_count": 40,
     "metadata": {},
     "output_type": "execute_result"
    }
   ],
   "source": [
    "order_items.shape"
   ]
  },
  {
   "cell_type": "code",
   "execution_count": 41,
   "id": "0046c4a8",
   "metadata": {},
   "outputs": [
    {
     "data": {
      "text/html": [
       "<div>\n",
       "<style scoped>\n",
       "    .dataframe tbody tr th:only-of-type {\n",
       "        vertical-align: middle;\n",
       "    }\n",
       "\n",
       "    .dataframe tbody tr th {\n",
       "        vertical-align: top;\n",
       "    }\n",
       "\n",
       "    .dataframe thead th {\n",
       "        text-align: right;\n",
       "    }\n",
       "</style>\n",
       "<table border=\"1\" class=\"dataframe\">\n",
       "  <thead>\n",
       "    <tr style=\"text-align: right;\">\n",
       "      <th></th>\n",
       "      <th>order_id</th>\n",
       "      <th>order_item_id</th>\n",
       "      <th>product_id</th>\n",
       "      <th>seller_id</th>\n",
       "      <th>shipping_limit_date</th>\n",
       "      <th>price</th>\n",
       "      <th>freight_value</th>\n",
       "    </tr>\n",
       "  </thead>\n",
       "  <tbody>\n",
       "    <tr>\n",
       "      <th>0</th>\n",
       "      <td>00010242fe8c5a6d1ba2dd792cb16214</td>\n",
       "      <td>1</td>\n",
       "      <td>4244733e06e7ecb4970a6e2683c13e61</td>\n",
       "      <td>48436dade18ac8b2bce089ec2a041202</td>\n",
       "      <td>2017-09-19 09:45:35</td>\n",
       "      <td>58.90</td>\n",
       "      <td>13.29</td>\n",
       "    </tr>\n",
       "    <tr>\n",
       "      <th>1</th>\n",
       "      <td>00018f77f2f0320c557190d7a144bdd3</td>\n",
       "      <td>1</td>\n",
       "      <td>e5f2d52b802189ee658865ca93d83a8f</td>\n",
       "      <td>dd7ddc04e1b6c2c614352b383efe2d36</td>\n",
       "      <td>2017-05-03 11:05:13</td>\n",
       "      <td>239.90</td>\n",
       "      <td>19.93</td>\n",
       "    </tr>\n",
       "    <tr>\n",
       "      <th>2</th>\n",
       "      <td>000229ec398224ef6ca0657da4fc703e</td>\n",
       "      <td>1</td>\n",
       "      <td>c777355d18b72b67abbeef9df44fd0fd</td>\n",
       "      <td>5b51032eddd242adc84c38acab88f23d</td>\n",
       "      <td>2018-01-18 14:48:30</td>\n",
       "      <td>199.00</td>\n",
       "      <td>17.87</td>\n",
       "    </tr>\n",
       "    <tr>\n",
       "      <th>3</th>\n",
       "      <td>00024acbcdf0a6daa1e931b038114c75</td>\n",
       "      <td>1</td>\n",
       "      <td>7634da152a4610f1595efa32f14722fc</td>\n",
       "      <td>9d7a1d34a5052409006425275ba1c2b4</td>\n",
       "      <td>2018-08-15 10:10:18</td>\n",
       "      <td>12.99</td>\n",
       "      <td>12.79</td>\n",
       "    </tr>\n",
       "    <tr>\n",
       "      <th>4</th>\n",
       "      <td>00042b26cf59d7ce69dfabb4e55b4fd9</td>\n",
       "      <td>1</td>\n",
       "      <td>ac6c3623068f30de03045865e4e10089</td>\n",
       "      <td>df560393f3a51e74553ab94004ba5c87</td>\n",
       "      <td>2017-02-13 13:57:51</td>\n",
       "      <td>199.90</td>\n",
       "      <td>18.14</td>\n",
       "    </tr>\n",
       "  </tbody>\n",
       "</table>\n",
       "</div>"
      ],
      "text/plain": [
       "                           order_id  order_item_id  \\\n",
       "0  00010242fe8c5a6d1ba2dd792cb16214              1   \n",
       "1  00018f77f2f0320c557190d7a144bdd3              1   \n",
       "2  000229ec398224ef6ca0657da4fc703e              1   \n",
       "3  00024acbcdf0a6daa1e931b038114c75              1   \n",
       "4  00042b26cf59d7ce69dfabb4e55b4fd9              1   \n",
       "\n",
       "                         product_id                         seller_id  \\\n",
       "0  4244733e06e7ecb4970a6e2683c13e61  48436dade18ac8b2bce089ec2a041202   \n",
       "1  e5f2d52b802189ee658865ca93d83a8f  dd7ddc04e1b6c2c614352b383efe2d36   \n",
       "2  c777355d18b72b67abbeef9df44fd0fd  5b51032eddd242adc84c38acab88f23d   \n",
       "3  7634da152a4610f1595efa32f14722fc  9d7a1d34a5052409006425275ba1c2b4   \n",
       "4  ac6c3623068f30de03045865e4e10089  df560393f3a51e74553ab94004ba5c87   \n",
       "\n",
       "   shipping_limit_date   price  freight_value  \n",
       "0  2017-09-19 09:45:35   58.90          13.29  \n",
       "1  2017-05-03 11:05:13  239.90          19.93  \n",
       "2  2018-01-18 14:48:30  199.00          17.87  \n",
       "3  2018-08-15 10:10:18   12.99          12.79  \n",
       "4  2017-02-13 13:57:51  199.90          18.14  "
      ]
     },
     "execution_count": 41,
     "metadata": {},
     "output_type": "execute_result"
    }
   ],
   "source": [
    "order_items.head()"
   ]
  },
  {
   "cell_type": "code",
   "execution_count": 42,
   "id": "8c47a5e0",
   "metadata": {},
   "outputs": [
    {
     "data": {
      "text/plain": [
       "order_id                object\n",
       "order_item_id            int64\n",
       "product_id              object\n",
       "seller_id               object\n",
       "shipping_limit_date     object\n",
       "price                  float64\n",
       "freight_value          float64\n",
       "dtype: object"
      ]
     },
     "execution_count": 42,
     "metadata": {},
     "output_type": "execute_result"
    }
   ],
   "source": [
    "order_items.dtypes"
   ]
  },
  {
   "cell_type": "code",
   "execution_count": 43,
   "id": "d3e180ab",
   "metadata": {},
   "outputs": [
    {
     "data": {
      "text/plain": [
       "order_id               0\n",
       "order_item_id          0\n",
       "product_id             0\n",
       "seller_id              0\n",
       "shipping_limit_date    0\n",
       "price                  0\n",
       "freight_value          0\n",
       "dtype: int64"
      ]
     },
     "execution_count": 43,
     "metadata": {},
     "output_type": "execute_result"
    }
   ],
   "source": [
    "order_items.isna().sum()"
   ]
  },
  {
   "cell_type": "code",
   "execution_count": 44,
   "id": "177fc5da",
   "metadata": {},
   "outputs": [],
   "source": [
    "order_items = order_items.dropna()"
   ]
  },
  {
   "cell_type": "code",
   "execution_count": 45,
   "id": "e2dc90dc",
   "metadata": {},
   "outputs": [
    {
     "data": {
      "text/plain": [
       "0"
      ]
     },
     "execution_count": 45,
     "metadata": {},
     "output_type": "execute_result"
    }
   ],
   "source": [
    "order_items.duplicated().sum()"
   ]
  },
  {
   "cell_type": "code",
   "execution_count": 46,
   "id": "3a2e38c7",
   "metadata": {},
   "outputs": [
    {
     "name": "stdout",
     "output_type": "stream",
     "text": [
      "<class 'pandas.core.frame.DataFrame'>\n",
      "RangeIndex: 112650 entries, 0 to 112649\n",
      "Data columns (total 7 columns):\n",
      " #   Column               Non-Null Count   Dtype  \n",
      "---  ------               --------------   -----  \n",
      " 0   order_id             112650 non-null  object \n",
      " 1   order_item_id        112650 non-null  int64  \n",
      " 2   product_id           112650 non-null  object \n",
      " 3   seller_id            112650 non-null  object \n",
      " 4   shipping_limit_date  112650 non-null  object \n",
      " 5   price                112650 non-null  float64\n",
      " 6   freight_value        112650 non-null  float64\n",
      "dtypes: float64(2), int64(1), object(4)\n",
      "memory usage: 6.0+ MB\n"
     ]
    }
   ],
   "source": [
    "order_items.info()"
   ]
  },
  {
   "cell_type": "code",
   "execution_count": 47,
   "id": "19cb2bb3",
   "metadata": {},
   "outputs": [
    {
     "data": {
      "text/html": [
       "<div>\n",
       "<style scoped>\n",
       "    .dataframe tbody tr th:only-of-type {\n",
       "        vertical-align: middle;\n",
       "    }\n",
       "\n",
       "    .dataframe tbody tr th {\n",
       "        vertical-align: top;\n",
       "    }\n",
       "\n",
       "    .dataframe thead th {\n",
       "        text-align: right;\n",
       "    }\n",
       "</style>\n",
       "<table border=\"1\" class=\"dataframe\">\n",
       "  <thead>\n",
       "    <tr style=\"text-align: right;\">\n",
       "      <th></th>\n",
       "      <th>order_item_id</th>\n",
       "      <th>price</th>\n",
       "      <th>freight_value</th>\n",
       "    </tr>\n",
       "  </thead>\n",
       "  <tbody>\n",
       "    <tr>\n",
       "      <th>count</th>\n",
       "      <td>112650.000000</td>\n",
       "      <td>112650.000000</td>\n",
       "      <td>112650.000000</td>\n",
       "    </tr>\n",
       "    <tr>\n",
       "      <th>mean</th>\n",
       "      <td>1.197834</td>\n",
       "      <td>120.653739</td>\n",
       "      <td>19.990320</td>\n",
       "    </tr>\n",
       "    <tr>\n",
       "      <th>std</th>\n",
       "      <td>0.705124</td>\n",
       "      <td>183.633928</td>\n",
       "      <td>15.806405</td>\n",
       "    </tr>\n",
       "    <tr>\n",
       "      <th>min</th>\n",
       "      <td>1.000000</td>\n",
       "      <td>0.850000</td>\n",
       "      <td>0.000000</td>\n",
       "    </tr>\n",
       "    <tr>\n",
       "      <th>25%</th>\n",
       "      <td>1.000000</td>\n",
       "      <td>39.900000</td>\n",
       "      <td>13.080000</td>\n",
       "    </tr>\n",
       "    <tr>\n",
       "      <th>50%</th>\n",
       "      <td>1.000000</td>\n",
       "      <td>74.990000</td>\n",
       "      <td>16.260000</td>\n",
       "    </tr>\n",
       "    <tr>\n",
       "      <th>75%</th>\n",
       "      <td>1.000000</td>\n",
       "      <td>134.900000</td>\n",
       "      <td>21.150000</td>\n",
       "    </tr>\n",
       "    <tr>\n",
       "      <th>max</th>\n",
       "      <td>21.000000</td>\n",
       "      <td>6735.000000</td>\n",
       "      <td>409.680000</td>\n",
       "    </tr>\n",
       "  </tbody>\n",
       "</table>\n",
       "</div>"
      ],
      "text/plain": [
       "       order_item_id          price  freight_value\n",
       "count  112650.000000  112650.000000  112650.000000\n",
       "mean        1.197834     120.653739      19.990320\n",
       "std         0.705124     183.633928      15.806405\n",
       "min         1.000000       0.850000       0.000000\n",
       "25%         1.000000      39.900000      13.080000\n",
       "50%         1.000000      74.990000      16.260000\n",
       "75%         1.000000     134.900000      21.150000\n",
       "max        21.000000    6735.000000     409.680000"
      ]
     },
     "execution_count": 47,
     "metadata": {},
     "output_type": "execute_result"
    }
   ],
   "source": [
    "order_items.describe()"
   ]
  },
  {
   "cell_type": "code",
   "execution_count": 48,
   "id": "f6139768",
   "metadata": {},
   "outputs": [
    {
     "data": {
      "image/png": "[encoded data removed]",
      "text/plain": [
       "<Figure size 720x720 with 1 Axes>"
      ]
     },
     "metadata": {
      "needs_background": "light"
     },
     "output_type": "display_data"
    }
   ],
   "source": [
    "# Plotting the distribution of prices\n",
    "order_items['price'].hist(bins=10, figsize=(10,10))\n",
    "plt.title(\"Distribution of Order Prices\")\n",
    "plt.xlabel(\"Price\")\n",
    "plt.ylabel(\"Number of Orders\")\n",
    "plt.show()"
   ]
  },
  {
   "cell_type": "code",
   "execution_count": 49,
   "id": "db5d66d8",
   "metadata": {},
   "outputs": [
    {
     "name": "stdout",
     "output_type": "stream",
     "text": [
      "\n",
      "Payments\n"
     ]
    },
    {
     "data": {
      "text/plain": [
       "(103886, 5)"
      ]
     },
     "execution_count": 49,
     "metadata": {},
     "output_type": "execute_result"
    }
   ],
   "source": [
    "# ------- 4 payments\n",
    "print(\"\\nPayments\")\n",
    "payments.shape"
   ]
  },
  {
   "cell_type": "code",
   "execution_count": 50,
   "id": "10833ee8",
   "metadata": {},
   "outputs": [
    {
     "data": {
      "text/html": [
       "<div>\n",
       "<style scoped>\n",
       "    .dataframe tbody tr th:only-of-type {\n",
       "        vertical-align: middle;\n",
       "    }\n",
       "\n",
       "    .dataframe tbody tr th {\n",
       "        vertical-align: top;\n",
       "    }\n",
       "\n",
       "    .dataframe thead th {\n",
       "        text-align: right;\n",
       "    }\n",
       "</style>\n",
       "<table border=\"1\" class=\"dataframe\">\n",
       "  <thead>\n",
       "    <tr style=\"text-align: right;\">\n",
       "      <th></th>\n",
       "      <th>order_id</th>\n",
       "      <th>payment_sequential</th>\n",
       "      <th>payment_type</th>\n",
       "      <th>payment_installments</th>\n",
       "      <th>payment_value</th>\n",
       "    </tr>\n",
       "  </thead>\n",
       "  <tbody>\n",
       "    <tr>\n",
       "      <th>0</th>\n",
       "      <td>b81ef226f3fe1789b1e8b2acac839d17</td>\n",
       "      <td>1</td>\n",
       "      <td>credit_card</td>\n",
       "      <td>8</td>\n",
       "      <td>99.33</td>\n",
       "    </tr>\n",
       "    <tr>\n",
       "      <th>1</th>\n",
       "      <td>a9810da82917af2d9aefd1278f1dcfa0</td>\n",
       "      <td>1</td>\n",
       "      <td>credit_card</td>\n",
       "      <td>1</td>\n",
       "      <td>24.39</td>\n",
       "    </tr>\n",
       "    <tr>\n",
       "      <th>2</th>\n",
       "      <td>25e8ea4e93396b6fa0d3dd708e76c1bd</td>\n",
       "      <td>1</td>\n",
       "      <td>credit_card</td>\n",
       "      <td>1</td>\n",
       "      <td>65.71</td>\n",
       "    </tr>\n",
       "    <tr>\n",
       "      <th>3</th>\n",
       "      <td>ba78997921bbcdc1373bb41e913ab953</td>\n",
       "      <td>1</td>\n",
       "      <td>credit_card</td>\n",
       "      <td>8</td>\n",
       "      <td>107.78</td>\n",
       "    </tr>\n",
       "    <tr>\n",
       "      <th>4</th>\n",
       "      <td>42fdf880ba16b47b59251dd489d4441a</td>\n",
       "      <td>1</td>\n",
       "      <td>credit_card</td>\n",
       "      <td>2</td>\n",
       "      <td>128.45</td>\n",
       "    </tr>\n",
       "  </tbody>\n",
       "</table>\n",
       "</div>"
      ],
      "text/plain": [
       "                           order_id  payment_sequential payment_type  \\\n",
       "0  b81ef226f3fe1789b1e8b2acac839d17                   1  credit_card   \n",
       "1  a9810da82917af2d9aefd1278f1dcfa0                   1  credit_card   \n",
       "2  25e8ea4e93396b6fa0d3dd708e76c1bd                   1  credit_card   \n",
       "3  ba78997921bbcdc1373bb41e913ab953                   1  credit_card   \n",
       "4  42fdf880ba16b47b59251dd489d4441a                   1  credit_card   \n",
       "\n",
       "   payment_installments  payment_value  \n",
       "0                     8          99.33  \n",
       "1                     1          24.39  \n",
       "2                     1          65.71  \n",
       "3                     8         107.78  \n",
       "4                     2         128.45  "
      ]
     },
     "execution_count": 50,
     "metadata": {},
     "output_type": "execute_result"
    }
   ],
   "source": [
    "payments.head()"
   ]
  },
  {
   "cell_type": "code",
   "execution_count": 51,
   "id": "6e6eb90f",
   "metadata": {},
   "outputs": [
    {
     "data": {
      "text/plain": [
       "order_id                0\n",
       "payment_sequential      0\n",
       "payment_type            0\n",
       "payment_installments    0\n",
       "payment_value           0\n",
       "dtype: int64"
      ]
     },
     "execution_count": 51,
     "metadata": {},
     "output_type": "execute_result"
    }
   ],
   "source": [
    "payments.isna().sum()"
   ]
  },
  {
   "cell_type": "code",
   "execution_count": 52,
   "id": "c2485a6c",
   "metadata": {},
   "outputs": [],
   "source": [
    "payments = payments.dropna()"
   ]
  },
  {
   "cell_type": "code",
   "execution_count": 53,
   "id": "af45a3aa",
   "metadata": {},
   "outputs": [
    {
     "data": {
      "text/plain": [
       "0"
      ]
     },
     "execution_count": 53,
     "metadata": {},
     "output_type": "execute_result"
    }
   ],
   "source": [
    "payments.duplicated().sum()"
   ]
  },
  {
   "cell_type": "code",
   "execution_count": 54,
   "id": "6a1d0326",
   "metadata": {},
   "outputs": [],
   "source": [
    "payments.drop('payment_sequential', axis=1, inplace=True)"
   ]
  },
  {
   "cell_type": "code",
   "execution_count": 55,
   "id": "4c99eeff",
   "metadata": {},
   "outputs": [
    {
     "name": "stdout",
     "output_type": "stream",
     "text": [
      "<class 'pandas.core.frame.DataFrame'>\n",
      "RangeIndex: 103886 entries, 0 to 103885\n",
      "Data columns (total 4 columns):\n",
      " #   Column                Non-Null Count   Dtype  \n",
      "---  ------                --------------   -----  \n",
      " 0   order_id              103886 non-null  object \n",
      " 1   payment_type          103886 non-null  object \n",
      " 2   payment_installments  103886 non-null  int64  \n",
      " 3   payment_value         103886 non-null  float64\n",
      "dtypes: float64(1), int64(1), object(2)\n",
      "memory usage: 3.2+ MB\n"
     ]
    }
   ],
   "source": [
    "payments.info()"
   ]
  },
  {
   "cell_type": "code",
   "execution_count": 56,
   "id": "950cce5e",
   "metadata": {},
   "outputs": [
    {
     "data": {
      "text/html": [
       "<div>\n",
       "<style scoped>\n",
       "    .dataframe tbody tr th:only-of-type {\n",
       "        vertical-align: middle;\n",
       "    }\n",
       "\n",
       "    .dataframe tbody tr th {\n",
       "        vertical-align: top;\n",
       "    }\n",
       "\n",
       "    .dataframe thead th {\n",
       "        text-align: right;\n",
       "    }\n",
       "</style>\n",
       "<table border=\"1\" class=\"dataframe\">\n",
       "  <thead>\n",
       "    <tr style=\"text-align: right;\">\n",
       "      <th></th>\n",
       "      <th>payment_installments</th>\n",
       "      <th>payment_value</th>\n",
       "    </tr>\n",
       "  </thead>\n",
       "  <tbody>\n",
       "    <tr>\n",
       "      <th>count</th>\n",
       "      <td>103886.000000</td>\n",
       "      <td>103886.000000</td>\n",
       "    </tr>\n",
       "    <tr>\n",
       "      <th>mean</th>\n",
       "      <td>2.853349</td>\n",
       "      <td>154.100380</td>\n",
       "    </tr>\n",
       "    <tr>\n",
       "      <th>std</th>\n",
       "      <td>2.687051</td>\n",
       "      <td>217.494064</td>\n",
       "    </tr>\n",
       "    <tr>\n",
       "      <th>min</th>\n",
       "      <td>0.000000</td>\n",
       "      <td>0.000000</td>\n",
       "    </tr>\n",
       "    <tr>\n",
       "      <th>25%</th>\n",
       "      <td>1.000000</td>\n",
       "      <td>56.790000</td>\n",
       "    </tr>\n",
       "    <tr>\n",
       "      <th>50%</th>\n",
       "      <td>1.000000</td>\n",
       "      <td>100.000000</td>\n",
       "    </tr>\n",
       "    <tr>\n",
       "      <th>75%</th>\n",
       "      <td>4.000000</td>\n",
       "      <td>171.837500</td>\n",
       "    </tr>\n",
       "    <tr>\n",
       "      <th>max</th>\n",
       "      <td>24.000000</td>\n",
       "      <td>13664.080000</td>\n",
       "    </tr>\n",
       "  </tbody>\n",
       "</table>\n",
       "</div>"
      ],
      "text/plain": [
       "       payment_installments  payment_value\n",
       "count         103886.000000  103886.000000\n",
       "mean               2.853349     154.100380\n",
       "std                2.687051     217.494064\n",
       "min                0.000000       0.000000\n",
       "25%                1.000000      56.790000\n",
       "50%                1.000000     100.000000\n",
       "75%                4.000000     171.837500\n",
       "max               24.000000   13664.080000"
      ]
     },
     "execution_count": 56,
     "metadata": {},
     "output_type": "execute_result"
    }
   ],
   "source": [
    "payments.describe()"
   ]
  },
  {
   "cell_type": "code",
   "execution_count": 57,
   "id": "b24da2c8",
   "metadata": {},
   "outputs": [
    {
     "data": {
      "image/png": "[encoded data removed]",
      "text/plain": [
       "<Figure size 864x432 with 1 Axes>"
      ]
     },
     "metadata": {
      "needs_background": "light"
     },
     "output_type": "display_data"
    }
   ],
   "source": [
    "# Plotting the distribution of payment types\n",
    "payments['payment_type'].value_counts().plot(kind='bar', figsize=(12,6))\n",
    "plt.title(\"Distribution of Payment Types\")\n",
    "plt.xlabel(\"Payment Type\")\n",
    "plt.ylabel(\"Number of Payments\")\n",
    "plt.show()"
   ]
  },
  {
   "cell_type": "code",
   "execution_count": 58,
   "id": "b8c292e5",
   "metadata": {},
   "outputs": [
    {
     "name": "stdout",
     "output_type": "stream",
     "text": [
      "\n",
      "Reviews\n"
     ]
    },
    {
     "data": {
      "text/plain": [
       "(99224, 7)"
      ]
     },
     "execution_count": 58,
     "metadata": {},
     "output_type": "execute_result"
    }
   ],
   "source": [
    "print(\"\\nReviews\")\n",
    "reviews.shape"
   ]
  },
  {
   "cell_type": "code",
   "execution_count": 59,
   "id": "77a0bd5f",
   "metadata": {},
   "outputs": [
    {
     "data": {
      "text/html": [
       "<div>\n",
       "<style scoped>\n",
       "    .dataframe tbody tr th:only-of-type {\n",
       "        vertical-align: middle;\n",
       "    }\n",
       "\n",
       "    .dataframe tbody tr th {\n",
       "        vertical-align: top;\n",
       "    }\n",
       "\n",
       "    .dataframe thead th {\n",
       "        text-align: right;\n",
       "    }\n",
       "</style>\n",
       "<table border=\"1\" class=\"dataframe\">\n",
       "  <thead>\n",
       "    <tr style=\"text-align: right;\">\n",
       "      <th></th>\n",
       "      <th>review_id</th>\n",
       "      <th>order_id</th>\n",
       "      <th>review_score</th>\n",
       "      <th>review_comment_title</th>\n",
       "      <th>review_comment_message</th>\n",
       "      <th>review_creation_date</th>\n",
       "      <th>review_answer_timestamp</th>\n",
       "    </tr>\n",
       "  </thead>\n",
       "  <tbody>\n",
       "    <tr>\n",
       "      <th>0</th>\n",
       "      <td>7bc2406110b926393aa56f80a40eba40</td>\n",
       "      <td>73fc7af87114b39712e6da79b0a377eb</td>\n",
       "      <td>4</td>\n",
       "      <td>NaN</td>\n",
       "      <td>NaN</td>\n",
       "      <td>2018-01-18 00:00:00</td>\n",
       "      <td>2018-01-18 21:46:59</td>\n",
       "    </tr>\n",
       "    <tr>\n",
       "      <th>1</th>\n",
       "      <td>80e641a11e56f04c1ad469d5645fdfde</td>\n",
       "      <td>a548910a1c6147796b98fdf73dbeba33</td>\n",
       "      <td>5</td>\n",
       "      <td>NaN</td>\n",
       "      <td>NaN</td>\n",
       "      <td>2018-03-10 00:00:00</td>\n",
       "      <td>2018-03-11 03:05:13</td>\n",
       "    </tr>\n",
       "    <tr>\n",
       "      <th>2</th>\n",
       "      <td>228ce5500dc1d8e020d8d1322874b6f0</td>\n",
       "      <td>f9e4b658b201a9f2ecdecbb34bed034b</td>\n",
       "      <td>5</td>\n",
       "      <td>NaN</td>\n",
       "      <td>NaN</td>\n",
       "      <td>2018-02-17 00:00:00</td>\n",
       "      <td>2018-02-18 14:36:24</td>\n",
       "    </tr>\n",
       "    <tr>\n",
       "      <th>3</th>\n",
       "      <td>e64fb393e7b32834bb789ff8bb30750e</td>\n",
       "      <td>658677c97b385a9be170737859d3511b</td>\n",
       "      <td>5</td>\n",
       "      <td>NaN</td>\n",
       "      <td>Recebi bem antes do prazo estipulado.</td>\n",
       "      <td>2017-04-21 00:00:00</td>\n",
       "      <td>2017-04-21 22:02:06</td>\n",
       "    </tr>\n",
       "    <tr>\n",
       "      <th>4</th>\n",
       "      <td>f7c4243c7fe1938f181bec41a392bdeb</td>\n",
       "      <td>8e6bfb81e283fa7e4f11123a3fb894f1</td>\n",
       "      <td>5</td>\n",
       "      <td>NaN</td>\n",
       "      <td>Parabéns lojas lannister adorei comprar pela I...</td>\n",
       "      <td>2018-03-01 00:00:00</td>\n",
       "      <td>2018-03-02 10:26:53</td>\n",
       "    </tr>\n",
       "  </tbody>\n",
       "</table>\n",
       "</div>"
      ],
      "text/plain": [
       "                          review_id                          order_id  \\\n",
       "0  7bc2406110b926393aa56f80a40eba40  73fc7af87114b39712e6da79b0a377eb   \n",
       "1  80e641a11e56f04c1ad469d5645fdfde  a548910a1c6147796b98fdf73dbeba33   \n",
       "2  228ce5500dc1d8e020d8d1322874b6f0  f9e4b658b201a9f2ecdecbb34bed034b   \n",
       "3  e64fb393e7b32834bb789ff8bb30750e  658677c97b385a9be170737859d3511b   \n",
       "4  f7c4243c7fe1938f181bec41a392bdeb  8e6bfb81e283fa7e4f11123a3fb894f1   \n",
       "\n",
       "   review_score review_comment_title  \\\n",
       "0             4                  NaN   \n",
       "1             5                  NaN   \n",
       "2             5                  NaN   \n",
       "3             5                  NaN   \n",
       "4             5                  NaN   \n",
       "\n",
       "                              review_comment_message review_creation_date  \\\n",
       "0                                                NaN  2018-01-18 00:00:00   \n",
       "1                                                NaN  2018-03-10 00:00:00   \n",
       "2                                                NaN  2018-02-17 00:00:00   \n",
       "3              Recebi bem antes do prazo estipulado.  2017-04-21 00:00:00   \n",
       "4  Parabéns lojas lannister adorei comprar pela I...  2018-03-01 00:00:00   \n",
       "\n",
       "  review_answer_timestamp  \n",
       "0     2018-01-18 21:46:59  \n",
       "1     2018-03-11 03:05:13  \n",
       "2     2018-02-18 14:36:24  \n",
       "3     2017-04-21 22:02:06  \n",
       "4     2018-03-02 10:26:53  "
      ]
     },
     "execution_count": 59,
     "metadata": {},
     "output_type": "execute_result"
    }
   ],
   "source": [
    "reviews.head()"
   ]
  },
  {
   "cell_type": "code",
   "execution_count": 60,
   "id": "8946369e",
   "metadata": {},
   "outputs": [
    {
     "data": {
      "text/plain": [
       "review_id                      0\n",
       "order_id                       0\n",
       "review_score                   0\n",
       "review_comment_title       87656\n",
       "review_comment_message     58247\n",
       "review_creation_date           0\n",
       "review_answer_timestamp        0\n",
       "dtype: int64"
      ]
     },
     "execution_count": 60,
     "metadata": {},
     "output_type": "execute_result"
    }
   ],
   "source": [
    "reviews.isna().sum()"
   ]
  },
  {
   "cell_type": "code",
   "execution_count": 61,
   "id": "a18e263e",
   "metadata": {},
   "outputs": [],
   "source": [
    "reviews.drop('review_comment_title', axis=1, inplace=True)\n",
    "reviews.drop('review_comment_message', axis=1, inplace=True)"
   ]
  },
  {
   "cell_type": "code",
   "execution_count": 62,
   "id": "af657304",
   "metadata": {},
   "outputs": [
    {
     "data": {
      "text/plain": [
       "0"
      ]
     },
     "execution_count": 62,
     "metadata": {},
     "output_type": "execute_result"
    }
   ],
   "source": [
    "reviews.duplicated().sum()"
   ]
  },
  {
   "cell_type": "code",
   "execution_count": 63,
   "id": "6c793645",
   "metadata": {},
   "outputs": [
    {
     "name": "stdout",
     "output_type": "stream",
     "text": [
      "<class 'pandas.core.frame.DataFrame'>\n",
      "RangeIndex: 99224 entries, 0 to 99223\n",
      "Data columns (total 5 columns):\n",
      " #   Column                   Non-Null Count  Dtype \n",
      "---  ------                   --------------  ----- \n",
      " 0   review_id                99224 non-null  object\n",
      " 1   order_id                 99224 non-null  object\n",
      " 2   review_score             99224 non-null  int64 \n",
      " 3   review_creation_date     99224 non-null  object\n",
      " 4   review_answer_timestamp  99224 non-null  object\n",
      "dtypes: int64(1), object(4)\n",
      "memory usage: 3.8+ MB\n"
     ]
    }
   ],
   "source": [
    "reviews.info()"
   ]
  },
  {
   "cell_type": "code",
   "execution_count": 64,
   "id": "95164b00",
   "metadata": {},
   "outputs": [
    {
     "data": {
      "text/html": [
       "<div>\n",
       "<style scoped>\n",
       "    .dataframe tbody tr th:only-of-type {\n",
       "        vertical-align: middle;\n",
       "    }\n",
       "\n",
       "    .dataframe tbody tr th {\n",
       "        vertical-align: top;\n",
       "    }\n",
       "\n",
       "    .dataframe thead th {\n",
       "        text-align: right;\n",
       "    }\n",
       "</style>\n",
       "<table border=\"1\" class=\"dataframe\">\n",
       "  <thead>\n",
       "    <tr style=\"text-align: right;\">\n",
       "      <th></th>\n",
       "      <th>review_score</th>\n",
       "    </tr>\n",
       "  </thead>\n",
       "  <tbody>\n",
       "    <tr>\n",
       "      <th>count</th>\n",
       "      <td>99224.000000</td>\n",
       "    </tr>\n",
       "    <tr>\n",
       "      <th>mean</th>\n",
       "      <td>4.086421</td>\n",
       "    </tr>\n",
       "    <tr>\n",
       "      <th>std</th>\n",
       "      <td>1.347579</td>\n",
       "    </tr>\n",
       "    <tr>\n",
       "      <th>min</th>\n",
       "      <td>1.000000</td>\n",
       "    </tr>\n",
       "    <tr>\n",
       "      <th>25%</th>\n",
       "      <td>4.000000</td>\n",
       "    </tr>\n",
       "    <tr>\n",
       "      <th>50%</th>\n",
       "      <td>5.000000</td>\n",
       "    </tr>\n",
       "    <tr>\n",
       "      <th>75%</th>\n",
       "      <td>5.000000</td>\n",
       "    </tr>\n",
       "    <tr>\n",
       "      <th>max</th>\n",
       "      <td>5.000000</td>\n",
       "    </tr>\n",
       "  </tbody>\n",
       "</table>\n",
       "</div>"
      ],
      "text/plain": [
       "       review_score\n",
       "count  99224.000000\n",
       "mean       4.086421\n",
       "std        1.347579\n",
       "min        1.000000\n",
       "25%        4.000000\n",
       "50%        5.000000\n",
       "75%        5.000000\n",
       "max        5.000000"
      ]
     },
     "execution_count": 64,
     "metadata": {},
     "output_type": "execute_result"
    }
   ],
   "source": [
    "reviews.describe()"
   ]
  },
  {
   "cell_type": "code",
   "execution_count": 65,
   "id": "2376a878",
   "metadata": {},
   "outputs": [
    {
     "data": {
      "image/png": "[encoded data removed]",
      "text/plain": [
       "<Figure size 720x432 with 1 Axes>"
      ]
     },
     "metadata": {
      "needs_background": "light"
     },
     "output_type": "display_data"
    }
   ],
   "source": [
    "# Box plot for review_score\n",
    "plt.figure(figsize=(10,6))\n",
    "sns.boxplot(data=reviews, x='review_score', palette=\"Set2\")\n",
    "plt.title(\"Box Plot of Review Scores\")\n",
    "plt.show()"
   ]
  },
  {
   "cell_type": "code",
   "execution_count": 66,
   "id": "c4a9f7ea",
   "metadata": {},
   "outputs": [
    {
     "name": "stdout",
     "output_type": "stream",
     "text": [
      "\n",
      "Orders\n"
     ]
    }
   ],
   "source": [
    "# ------- 6 orders\n",
    "print(\"\\nOrders\")\n",
    "orders['order_purchase_timestamp'] = pd.to_datetime(orders['order_purchase_timestamp'])\n",
    "orders['order_approved_at'] = pd.to_datetime(orders['order_approved_at'])\n",
    "orders['order_delivered_carrier_date'] = pd.to_datetime(orders['order_delivered_carrier_date'])\n",
    "orders['order_delivered_customer_date'] = pd.to_datetime(orders['order_delivered_customer_date'])\n",
    "orders['order_estimated_delivery_date'] = pd.to_datetime(orders['order_estimated_delivery_date'])"
   ]
  },
  {
   "cell_type": "code",
   "execution_count": 67,
   "id": "55be03b3",
   "metadata": {},
   "outputs": [
    {
     "data": {
      "text/plain": [
       "(99441, 8)"
      ]
     },
     "execution_count": 67,
     "metadata": {},
     "output_type": "execute_result"
    }
   ],
   "source": [
    "orders.shape"
   ]
  },
  {
   "cell_type": "code",
   "execution_count": 68,
   "id": "ebec204e",
   "metadata": {},
   "outputs": [
    {
     "data": {
      "text/html": [
       "<div>\n",
       "<style scoped>\n",
       "    .dataframe tbody tr th:only-of-type {\n",
       "        vertical-align: middle;\n",
       "    }\n",
       "\n",
       "    .dataframe tbody tr th {\n",
       "        vertical-align: top;\n",
       "    }\n",
       "\n",
       "    .dataframe thead th {\n",
       "        text-align: right;\n",
       "    }\n",
       "</style>\n",
       "<table border=\"1\" class=\"dataframe\">\n",
       "  <thead>\n",
       "    <tr style=\"text-align: right;\">\n",
       "      <th></th>\n",
       "      <th>order_id</th>\n",
       "      <th>customer_id</th>\n",
       "      <th>order_status</th>\n",
       "      <th>order_purchase_timestamp</th>\n",
       "      <th>order_approved_at</th>\n",
       "      <th>order_delivered_carrier_date</th>\n",
       "      <th>order_delivered_customer_date</th>\n",
       "      <th>order_estimated_delivery_date</th>\n",
       "    </tr>\n",
       "  </thead>\n",
       "  <tbody>\n",
       "    <tr>\n",
       "      <th>0</th>\n",
       "      <td>e481f51cbdc54678b7cc49136f2d6af7</td>\n",
       "      <td>9ef432eb6251297304e76186b10a928d</td>\n",
       "      <td>delivered</td>\n",
       "      <td>2017-10-02 10:56:33</td>\n",
       "      <td>2017-10-02 11:07:15</td>\n",
       "      <td>2017-10-04 19:55:00</td>\n",
       "      <td>2017-10-10 21:25:13</td>\n",
       "      <td>2017-10-18</td>\n",
       "    </tr>\n",
       "    <tr>\n",
       "      <th>1</th>\n",
       "      <td>53cdb2fc8bc7dce0b6741e2150273451</td>\n",
       "      <td>b0830fb4747a6c6d20dea0b8c802d7ef</td>\n",
       "      <td>delivered</td>\n",
       "      <td>2018-07-24 20:41:37</td>\n",
       "      <td>2018-07-26 03:24:27</td>\n",
       "      <td>2018-07-26 14:31:00</td>\n",
       "      <td>2018-08-07 15:27:45</td>\n",
       "      <td>2018-08-13</td>\n",
       "    </tr>\n",
       "    <tr>\n",
       "      <th>2</th>\n",
       "      <td>47770eb9100c2d0c44946d9cf07ec65d</td>\n",
       "      <td>41ce2a54c0b03bf3443c3d931a367089</td>\n",
       "      <td>delivered</td>\n",
       "      <td>2018-08-08 08:38:49</td>\n",
       "      <td>2018-08-08 08:55:23</td>\n",
       "      <td>2018-08-08 13:50:00</td>\n",
       "      <td>2018-08-17 18:06:29</td>\n",
       "      <td>2018-09-04</td>\n",
       "    </tr>\n",
       "    <tr>\n",
       "      <th>3</th>\n",
       "      <td>949d5b44dbf5de918fe9c16f97b45f8a</td>\n",
       "      <td>f88197465ea7920adcdbec7375364d82</td>\n",
       "      <td>delivered</td>\n",
       "      <td>2017-11-18 19:28:06</td>\n",
       "      <td>2017-11-18 19:45:59</td>\n",
       "      <td>2017-11-22 13:39:59</td>\n",
       "      <td>2017-12-02 00:28:42</td>\n",
       "      <td>2017-12-15</td>\n",
       "    </tr>\n",
       "    <tr>\n",
       "      <th>4</th>\n",
       "      <td>ad21c59c0840e6cb83a9ceb5573f8159</td>\n",
       "      <td>8ab97904e6daea8866dbdbc4fb7aad2c</td>\n",
       "      <td>delivered</td>\n",
       "      <td>2018-02-13 21:18:39</td>\n",
       "      <td>2018-02-13 22:20:29</td>\n",
       "      <td>2018-02-14 19:46:34</td>\n",
       "      <td>2018-02-16 18:17:02</td>\n",
       "      <td>2018-02-26</td>\n",
       "    </tr>\n",
       "  </tbody>\n",
       "</table>\n",
       "</div>"
      ],
      "text/plain": [
       "                           order_id                       customer_id  \\\n",
       "0  e481f51cbdc54678b7cc49136f2d6af7  9ef432eb6251297304e76186b10a928d   \n",
       "1  53cdb2fc8bc7dce0b6741e2150273451  b0830fb4747a6c6d20dea0b8c802d7ef   \n",
       "2  47770eb9100c2d0c44946d9cf07ec65d  41ce2a54c0b03bf3443c3d931a367089   \n",
       "3  949d5b44dbf5de918fe9c16f97b45f8a  f88197465ea7920adcdbec7375364d82   \n",
       "4  ad21c59c0840e6cb83a9ceb5573f8159  8ab97904e6daea8866dbdbc4fb7aad2c   \n",
       "\n",
       "  order_status order_purchase_timestamp   order_approved_at  \\\n",
       "0    delivered      2017-10-02 10:56:33 2017-10-02 11:07:15   \n",
       "1    delivered      2018-07-24 20:41:37 2018-07-26 03:24:27   \n",
       "2    delivered      2018-08-08 08:38:49 2018-08-08 08:55:23   \n",
       "3    delivered      2017-11-18 19:28:06 2017-11-18 19:45:59   \n",
       "4    delivered      2018-02-13 21:18:39 2018-02-13 22:20:29   \n",
       "\n",
       "  order_delivered_carrier_date order_delivered_customer_date  \\\n",
       "0          2017-10-04 19:55:00           2017-10-10 21:25:13   \n",
       "1          2018-07-26 14:31:00           2018-08-07 15:27:45   \n",
       "2          2018-08-08 13:50:00           2018-08-17 18:06:29   \n",
       "3          2017-11-22 13:39:59           2017-12-02 00:28:42   \n",
       "4          2018-02-14 19:46:34           2018-02-16 18:17:02   \n",
       "\n",
       "  order_estimated_delivery_date  \n",
       "0                    2017-10-18  \n",
       "1                    2018-08-13  \n",
       "2                    2018-09-04  \n",
       "3                    2017-12-15  \n",
       "4                    2018-02-26  "
      ]
     },
     "execution_count": 68,
     "metadata": {},
     "output_type": "execute_result"
    }
   ],
   "source": [
    "orders.head()"
   ]
  },
  {
   "cell_type": "code",
   "execution_count": 69,
   "id": "7c17a41e",
   "metadata": {},
   "outputs": [
    {
     "data": {
      "text/plain": [
       "order_id                                 object\n",
       "customer_id                              object\n",
       "order_status                             object\n",
       "order_purchase_timestamp         datetime64[ns]\n",
       "order_approved_at                datetime64[ns]\n",
       "order_delivered_carrier_date     datetime64[ns]\n",
       "order_delivered_customer_date    datetime64[ns]\n",
       "order_estimated_delivery_date    datetime64[ns]\n",
       "dtype: object"
      ]
     },
     "execution_count": 69,
     "metadata": {},
     "output_type": "execute_result"
    }
   ],
   "source": [
    "orders.dtypes"
   ]
  },
  {
   "cell_type": "code",
   "execution_count": 70,
   "id": "00d77e84",
   "metadata": {},
   "outputs": [
    {
     "data": {
      "text/plain": [
       "order_id                            0\n",
       "customer_id                         0\n",
       "order_status                        0\n",
       "order_purchase_timestamp            0\n",
       "order_approved_at                 160\n",
       "order_delivered_carrier_date     1783\n",
       "order_delivered_customer_date    2965\n",
       "order_estimated_delivery_date       0\n",
       "dtype: int64"
      ]
     },
     "execution_count": 70,
     "metadata": {},
     "output_type": "execute_result"
    }
   ],
   "source": [
    "orders.isna().sum()"
   ]
  },
  {
   "cell_type": "code",
   "execution_count": 71,
   "id": "17ac07d5",
   "metadata": {},
   "outputs": [],
   "source": [
    "orders = orders.dropna()"
   ]
  },
  {
   "cell_type": "code",
   "execution_count": 72,
   "id": "5a538d66",
   "metadata": {},
   "outputs": [
    {
     "data": {
      "text/plain": [
       "0"
      ]
     },
     "execution_count": 72,
     "metadata": {},
     "output_type": "execute_result"
    }
   ],
   "source": [
    "orders.duplicated().sum()"
   ]
  },
  {
   "cell_type": "code",
   "execution_count": 73,
   "id": "e0c9d006",
   "metadata": {},
   "outputs": [
    {
     "name": "stdout",
     "output_type": "stream",
     "text": [
      "<class 'pandas.core.frame.DataFrame'>\n",
      "Index: 96461 entries, 0 to 99440\n",
      "Data columns (total 8 columns):\n",
      " #   Column                         Non-Null Count  Dtype         \n",
      "---  ------                         --------------  -----         \n",
      " 0   order_id                       96461 non-null  object        \n",
      " 1   customer_id                    96461 non-null  object        \n",
      " 2   order_status                   96461 non-null  object        \n",
      " 3   order_purchase_timestamp       96461 non-null  datetime64[ns]\n",
      " 4   order_approved_at              96461 non-null  datetime64[ns]\n",
      " 5   order_delivered_carrier_date   96461 non-null  datetime64[ns]\n",
      " 6   order_delivered_customer_date  96461 non-null  datetime64[ns]\n",
      " 7   order_estimated_delivery_date  96461 non-null  datetime64[ns]\n",
      "dtypes: datetime64[ns](5), object(3)\n",
      "memory usage: 6.6+ MB\n"
     ]
    }
   ],
   "source": [
    "orders.info()"
   ]
  },
  {
   "cell_type": "code",
   "execution_count": 74,
   "id": "70895452",
   "metadata": {},
   "outputs": [
    {
     "data": {
      "text/html": [
       "<div>\n",
       "<style scoped>\n",
       "    .dataframe tbody tr th:only-of-type {\n",
       "        vertical-align: middle;\n",
       "    }\n",
       "\n",
       "    .dataframe tbody tr th {\n",
       "        vertical-align: top;\n",
       "    }\n",
       "\n",
       "    .dataframe thead th {\n",
       "        text-align: right;\n",
       "    }\n",
       "</style>\n",
       "<table border=\"1\" class=\"dataframe\">\n",
       "  <thead>\n",
       "    <tr style=\"text-align: right;\">\n",
       "      <th></th>\n",
       "      <th>order_purchase_timestamp</th>\n",
       "      <th>order_approved_at</th>\n",
       "      <th>order_delivered_carrier_date</th>\n",
       "      <th>order_delivered_customer_date</th>\n",
       "      <th>order_estimated_delivery_date</th>\n",
       "    </tr>\n",
       "  </thead>\n",
       "  <tbody>\n",
       "    <tr>\n",
       "      <th>count</th>\n",
       "      <td>96461</td>\n",
       "      <td>96461</td>\n",
       "      <td>96461</td>\n",
       "      <td>96461</td>\n",
       "      <td>96461</td>\n",
       "    </tr>\n",
       "    <tr>\n",
       "      <th>mean</th>\n",
       "      <td>2018-01-01 23:53:26.642249216</td>\n",
       "      <td>2018-01-02 10:10:06.480142336</td>\n",
       "      <td>2018-01-05 05:21:04.508827392</td>\n",
       "      <td>2018-01-14 13:17:13.228102400</td>\n",
       "      <td>2018-01-25 17:33:14.236012544</td>\n",
       "    </tr>\n",
       "    <tr>\n",
       "      <th>min</th>\n",
       "      <td>2016-09-15 12:16:38</td>\n",
       "      <td>2016-09-15 12:16:38</td>\n",
       "      <td>2016-10-08 10:34:01</td>\n",
       "      <td>2016-10-11 13:46:32</td>\n",
       "      <td>2016-10-04 00:00:00</td>\n",
       "    </tr>\n",
       "    <tr>\n",
       "      <th>25%</th>\n",
       "      <td>2017-09-14 09:28:28</td>\n",
       "      <td>2017-09-14 14:30:14</td>\n",
       "      <td>2017-09-18 16:52:19</td>\n",
       "      <td>2017-09-25 22:31:59</td>\n",
       "      <td>2017-10-05 00:00:00</td>\n",
       "    </tr>\n",
       "    <tr>\n",
       "      <th>50%</th>\n",
       "      <td>2018-01-20 19:59:42</td>\n",
       "      <td>2018-01-22 13:49:00</td>\n",
       "      <td>2018-01-24 16:19:03</td>\n",
       "      <td>2018-02-02 19:50:56</td>\n",
       "      <td>2018-02-16 00:00:00</td>\n",
       "    </tr>\n",
       "    <tr>\n",
       "      <th>75%</th>\n",
       "      <td>2018-05-05 18:33:24</td>\n",
       "      <td>2018-05-06 10:30:49</td>\n",
       "      <td>2018-05-08 14:33:00</td>\n",
       "      <td>2018-05-15 23:08:54</td>\n",
       "      <td>2018-05-28 00:00:00</td>\n",
       "    </tr>\n",
       "    <tr>\n",
       "      <th>max</th>\n",
       "      <td>2018-08-29 15:00:37</td>\n",
       "      <td>2018-08-29 15:10:26</td>\n",
       "      <td>2018-09-11 19:48:28</td>\n",
       "      <td>2018-10-17 13:22:46</td>\n",
       "      <td>2018-10-25 00:00:00</td>\n",
       "    </tr>\n",
       "  </tbody>\n",
       "</table>\n",
       "</div>"
      ],
      "text/plain": [
       "            order_purchase_timestamp              order_approved_at  \\\n",
       "count                          96461                          96461   \n",
       "mean   2018-01-01 23:53:26.642249216  2018-01-02 10:10:06.480142336   \n",
       "min              2016-09-15 12:16:38            2016-09-15 12:16:38   \n",
       "25%              2017-09-14 09:28:28            2017-09-14 14:30:14   \n",
       "50%              2018-01-20 19:59:42            2018-01-22 13:49:00   \n",
       "75%              2018-05-05 18:33:24            2018-05-06 10:30:49   \n",
       "max              2018-08-29 15:00:37            2018-08-29 15:10:26   \n",
       "\n",
       "        order_delivered_carrier_date  order_delivered_customer_date  \\\n",
       "count                          96461                          96461   \n",
       "mean   2018-01-05 05:21:04.508827392  2018-01-14 13:17:13.228102400   \n",
       "min              2016-10-08 10:34:01            2016-10-11 13:46:32   \n",
       "25%              2017-09-18 16:52:19            2017-09-25 22:31:59   \n",
       "50%              2018-01-24 16:19:03            2018-02-02 19:50:56   \n",
       "75%              2018-05-08 14:33:00            2018-05-15 23:08:54   \n",
       "max              2018-09-11 19:48:28            2018-10-17 13:22:46   \n",
       "\n",
       "       order_estimated_delivery_date  \n",
       "count                          96461  \n",
       "mean   2018-01-25 17:33:14.236012544  \n",
       "min              2016-10-04 00:00:00  \n",
       "25%              2017-10-05 00:00:00  \n",
       "50%              2018-02-16 00:00:00  \n",
       "75%              2018-05-28 00:00:00  \n",
       "max              2018-10-25 00:00:00  "
      ]
     },
     "execution_count": 74,
     "metadata": {},
     "output_type": "execute_result"
    }
   ],
   "source": [
    "orders.describe()"
   ]
  },
  {
   "cell_type": "code",
   "execution_count": 75,
   "id": "c75b725b",
   "metadata": {},
   "outputs": [
    {
     "name": "stdout",
     "output_type": "stream",
     "text": [
      "order_status\n",
      "delivered    96455\n",
      "canceled         6\n",
      "Name: count, dtype: int64\n"
     ]
    },
    {
     "data": {
      "image/png": "[encoded data removed]",
      "text/plain": [
       "<Figure size 864x432 with 1 Axes>"
      ]
     },
     "metadata": {
      "needs_background": "light"
     },
     "output_type": "display_data"
    }
   ],
   "source": [
    "print(orders['order_status'].value_counts())\n",
    "\n",
    "# Plotting distribution of order statuses\n",
    "orders['order_status'].value_counts().plot(kind='bar', figsize=(12,6))\n",
    "plt.title(\"Distribution of Order Statuses\")\n",
    "plt.xlabel(\"Order Status\")\n",
    "plt.ylabel(\"Number of Orders\")\n",
    "plt.show()"
   ]
  },
  {
   "cell_type": "code",
   "execution_count": 76,
   "id": "a1015ae7",
   "metadata": {},
   "outputs": [
    {
     "name": "stdout",
     "output_type": "stream",
     "text": [
      "\n",
      "Product\n"
     ]
    },
    {
     "data": {
      "text/plain": [
       "(32951, 9)"
      ]
     },
     "execution_count": 76,
     "metadata": {},
     "output_type": "execute_result"
    }
   ],
   "source": [
    "# Replace the 'product_category_name' values with the English translation\n",
    "products['product_category_name'].replace(translation_map, inplace=True)\n",
    "print(\"\\nProduct\")\n",
    "products.shape"
   ]
  },
  {
   "cell_type": "code",
   "execution_count": 77,
   "id": "075f3ad4",
   "metadata": {},
   "outputs": [
    {
     "data": {
      "text/html": [
       "<div>\n",
       "<style scoped>\n",
       "    .dataframe tbody tr th:only-of-type {\n",
       "        vertical-align: middle;\n",
       "    }\n",
       "\n",
       "    .dataframe tbody tr th {\n",
       "        vertical-align: top;\n",
       "    }\n",
       "\n",
       "    .dataframe thead th {\n",
       "        text-align: right;\n",
       "    }\n",
       "</style>\n",
       "<table border=\"1\" class=\"dataframe\">\n",
       "  <thead>\n",
       "    <tr style=\"text-align: right;\">\n",
       "      <th></th>\n",
       "      <th>product_id</th>\n",
       "      <th>product_category_name</th>\n",
       "      <th>product_name_lenght</th>\n",
       "      <th>product_description_lenght</th>\n",
       "      <th>product_photos_qty</th>\n",
       "      <th>product_weight_g</th>\n",
       "      <th>product_length_cm</th>\n",
       "      <th>product_height_cm</th>\n",
       "      <th>product_width_cm</th>\n",
       "    </tr>\n",
       "  </thead>\n",
       "  <tbody>\n",
       "    <tr>\n",
       "      <th>0</th>\n",
       "      <td>1e9e8ef04dbcff4541ed26657ea517e5</td>\n",
       "      <td>perfumery</td>\n",
       "      <td>40.0</td>\n",
       "      <td>287.0</td>\n",
       "      <td>1.0</td>\n",
       "      <td>225.0</td>\n",
       "      <td>16.0</td>\n",
       "      <td>10.0</td>\n",
       "      <td>14.0</td>\n",
       "    </tr>\n",
       "    <tr>\n",
       "      <th>1</th>\n",
       "      <td>3aa071139cb16b67ca9e5dea641aaa2f</td>\n",
       "      <td>art</td>\n",
       "      <td>44.0</td>\n",
       "      <td>276.0</td>\n",
       "      <td>1.0</td>\n",
       "      <td>1000.0</td>\n",
       "      <td>30.0</td>\n",
       "      <td>18.0</td>\n",
       "      <td>20.0</td>\n",
       "    </tr>\n",
       "    <tr>\n",
       "      <th>2</th>\n",
       "      <td>96bd76ec8810374ed1b65e291975717f</td>\n",
       "      <td>sports_leisure</td>\n",
       "      <td>46.0</td>\n",
       "      <td>250.0</td>\n",
       "      <td>1.0</td>\n",
       "      <td>154.0</td>\n",
       "      <td>18.0</td>\n",
       "      <td>9.0</td>\n",
       "      <td>15.0</td>\n",
       "    </tr>\n",
       "    <tr>\n",
       "      <th>3</th>\n",
       "      <td>cef67bcfe19066a932b7673e239eb23d</td>\n",
       "      <td>baby</td>\n",
       "      <td>27.0</td>\n",
       "      <td>261.0</td>\n",
       "      <td>1.0</td>\n",
       "      <td>371.0</td>\n",
       "      <td>26.0</td>\n",
       "      <td>4.0</td>\n",
       "      <td>26.0</td>\n",
       "    </tr>\n",
       "    <tr>\n",
       "      <th>4</th>\n",
       "      <td>9dc1a7de274444849c219cff195d0b71</td>\n",
       "      <td>housewares</td>\n",
       "      <td>37.0</td>\n",
       "      <td>402.0</td>\n",
       "      <td>4.0</td>\n",
       "      <td>625.0</td>\n",
       "      <td>20.0</td>\n",
       "      <td>17.0</td>\n",
       "      <td>13.0</td>\n",
       "    </tr>\n",
       "  </tbody>\n",
       "</table>\n",
       "</div>"
      ],
      "text/plain": [
       "                         product_id product_category_name  \\\n",
       "0  1e9e8ef04dbcff4541ed26657ea517e5             perfumery   \n",
       "1  3aa071139cb16b67ca9e5dea641aaa2f                   art   \n",
       "2  96bd76ec8810374ed1b65e291975717f        sports_leisure   \n",
       "3  cef67bcfe19066a932b7673e239eb23d                  baby   \n",
       "4  9dc1a7de274444849c219cff195d0b71            housewares   \n",
       "\n",
       "   product_name_lenght  product_description_lenght  product_photos_qty  \\\n",
       "0                 40.0                       287.0                 1.0   \n",
       "1                 44.0                       276.0                 1.0   \n",
       "2                 46.0                       250.0                 1.0   \n",
       "3                 27.0                       261.0                 1.0   \n",
       "4                 37.0                       402.0                 4.0   \n",
       "\n",
       "   product_weight_g  product_length_cm  product_height_cm  product_width_cm  \n",
       "0             225.0               16.0               10.0              14.0  \n",
       "1            1000.0               30.0               18.0              20.0  \n",
       "2             154.0               18.0                9.0              15.0  \n",
       "3             371.0               26.0                4.0              26.0  \n",
       "4             625.0               20.0               17.0              13.0  "
      ]
     },
     "execution_count": 77,
     "metadata": {},
     "output_type": "execute_result"
    }
   ],
   "source": [
    "products.head()"
   ]
  },
  {
   "cell_type": "code",
   "execution_count": 78,
   "id": "ef8eb7ec",
   "metadata": {},
   "outputs": [
    {
     "name": "stdout",
     "output_type": "stream",
     "text": [
      "<class 'pandas.core.frame.DataFrame'>\n",
      "RangeIndex: 32951 entries, 0 to 32950\n",
      "Data columns (total 9 columns):\n",
      " #   Column                      Non-Null Count  Dtype  \n",
      "---  ------                      --------------  -----  \n",
      " 0   product_id                  32951 non-null  object \n",
      " 1   product_category_name       32341 non-null  object \n",
      " 2   product_name_lenght         32341 non-null  float64\n",
      " 3   product_description_lenght  32341 non-null  float64\n",
      " 4   product_photos_qty          32341 non-null  float64\n",
      " 5   product_weight_g            32949 non-null  float64\n",
      " 6   product_length_cm           32949 non-null  float64\n",
      " 7   product_height_cm           32949 non-null  float64\n",
      " 8   product_width_cm            32949 non-null  float64\n",
      "dtypes: float64(7), object(2)\n",
      "memory usage: 2.3+ MB\n"
     ]
    }
   ],
   "source": [
    "products.info()"
   ]
  },
  {
   "cell_type": "code",
   "execution_count": 79,
   "id": "37aeba44",
   "metadata": {
    "scrolled": true
   },
   "outputs": [],
   "source": [
    "# drop the useless columns \n",
    "products.drop('product_name_lenght', axis=1, inplace=True)\n",
    "products.drop('product_description_lenght', axis=1, inplace=True)\n",
    "products.drop('product_photos_qty', axis=1, inplace=True)"
   ]
  },
  {
   "cell_type": "code",
   "execution_count": 80,
   "id": "84fe30e8",
   "metadata": {},
   "outputs": [
    {
     "data": {
      "text/plain": [
       "product_id                 0\n",
       "product_category_name    610\n",
       "product_weight_g           2\n",
       "product_length_cm          2\n",
       "product_height_cm          2\n",
       "product_width_cm           2\n",
       "dtype: int64"
      ]
     },
     "execution_count": 80,
     "metadata": {},
     "output_type": "execute_result"
    }
   ],
   "source": [
    "products.isna().sum()"
   ]
  },
  {
   "cell_type": "code",
   "execution_count": 81,
   "id": "542e082b",
   "metadata": {},
   "outputs": [],
   "source": [
    "# drop the null product\n",
    "products = products.dropna()"
   ]
  },
  {
   "cell_type": "code",
   "execution_count": 82,
   "id": "1b825959",
   "metadata": {},
   "outputs": [
    {
     "data": {
      "text/plain": [
       "0"
      ]
     },
     "execution_count": 82,
     "metadata": {},
     "output_type": "execute_result"
    }
   ],
   "source": [
    "# check the duplicate products\n",
    "products.duplicated().sum()"
   ]
  },
  {
   "cell_type": "code",
   "execution_count": 83,
   "id": "ecde90de",
   "metadata": {},
   "outputs": [
    {
     "data": {
      "text/plain": [
       "array(['perfumery', 'art', 'sports_leisure', 'baby', 'housewares',\n",
       "       'musical_instruments', 'cool_stuff', 'furniture_decor',\n",
       "       'home_appliances', 'toys', 'bed_bath_table',\n",
       "       'construction_tools_safety', 'computers_accessories',\n",
       "       'health_beauty', 'luggage_accessories', 'garden_tools',\n",
       "       'office_furniture', 'auto', 'electronics', 'fashion_shoes',\n",
       "       'telephony', 'stationery', 'fashion_bags_accessories', 'computers',\n",
       "       'home_construction', 'watches_gifts',\n",
       "       'construction_tools_construction', 'pet_shop', 'small_appliances',\n",
       "       'agro_industry_and_commerce', 'furniture_living_room',\n",
       "       'signaling_and_security', 'air_conditioning', 'consoles_games',\n",
       "       'books_general_interest', 'costruction_tools_tools',\n",
       "       'fashion_underwear_beach', 'fashion_male_clothing',\n",
       "       'kitchen_dining_laundry_garden_furniture',\n",
       "       'industry_commerce_and_business', 'fixed_telephony',\n",
       "       'construction_tools_lights', 'books_technical',\n",
       "       'home_appliances_2', 'party_supplies', 'drinks', 'market_place',\n",
       "       'la_cuisine', 'costruction_tools_garden', 'fashio_female_clothing',\n",
       "       'home_confort', 'audio', 'food_drink', 'music', 'food',\n",
       "       'tablets_printing_image', 'books_imported',\n",
       "       'small_appliances_home_oven_and_coffee', 'fashion_sport',\n",
       "       'christmas_supplies', 'fashion_childrens_clothes', 'dvds_blu_ray',\n",
       "       'arts_and_craftmanship', 'pc_gamer', 'furniture_bedroom',\n",
       "       'cine_photo', 'diapers_and_hygiene', 'flowers', 'home_comfort_2',\n",
       "       'portateis_cozinha_e_preparadores_de_alimentos',\n",
       "       'security_and_services', 'furniture_mattress_and_upholstery',\n",
       "       'cds_dvds_musicals'], dtype=object)"
      ]
     },
     "execution_count": 83,
     "metadata": {},
     "output_type": "execute_result"
    }
   ],
   "source": [
    "products.product_category_name.unique()"
   ]
  },
  {
   "cell_type": "code",
   "execution_count": 84,
   "id": "2c5688f1",
   "metadata": {},
   "outputs": [
    {
     "data": {
      "text/plain": [
       "73"
      ]
     },
     "execution_count": 84,
     "metadata": {},
     "output_type": "execute_result"
    }
   ],
   "source": [
    "products.product_category_name.nunique()"
   ]
  },
  {
   "cell_type": "code",
   "execution_count": 85,
   "id": "48ef64c0",
   "metadata": {},
   "outputs": [
    {
     "data": {
      "text/plain": [
       "0        False\n",
       "1        False\n",
       "2        False\n",
       "3        False\n",
       "4        False\n",
       "         ...  \n",
       "32946     True\n",
       "32947     True\n",
       "32948     True\n",
       "32949     True\n",
       "32950     True\n",
       "Name: product_category_name, Length: 32340, dtype: bool"
      ]
     },
     "execution_count": 85,
     "metadata": {},
     "output_type": "execute_result"
    }
   ],
   "source": [
    "products.product_category_name.duplicated()\n"
   ]
  },
  {
   "cell_type": "code",
   "execution_count": 86,
   "id": "79c729fa",
   "metadata": {},
   "outputs": [
    {
     "name": "stdout",
     "output_type": "stream",
     "text": [
      "<class 'pandas.core.frame.DataFrame'>\n",
      "Index: 32340 entries, 0 to 32950\n",
      "Data columns (total 6 columns):\n",
      " #   Column                 Non-Null Count  Dtype  \n",
      "---  ------                 --------------  -----  \n",
      " 0   product_id             32340 non-null  object \n",
      " 1   product_category_name  32340 non-null  object \n",
      " 2   product_weight_g       32340 non-null  float64\n",
      " 3   product_length_cm      32340 non-null  float64\n",
      " 4   product_height_cm      32340 non-null  float64\n",
      " 5   product_width_cm       32340 non-null  float64\n",
      "dtypes: float64(4), object(2)\n",
      "memory usage: 1.7+ MB\n"
     ]
    }
   ],
   "source": [
    "products.info()"
   ]
  },
  {
   "cell_type": "code",
   "execution_count": 87,
   "id": "af29bbc8",
   "metadata": {},
   "outputs": [
    {
     "data": {
      "text/html": [
       "<div>\n",
       "<style scoped>\n",
       "    .dataframe tbody tr th:only-of-type {\n",
       "        vertical-align: middle;\n",
       "    }\n",
       "\n",
       "    .dataframe tbody tr th {\n",
       "        vertical-align: top;\n",
       "    }\n",
       "\n",
       "    .dataframe thead th {\n",
       "        text-align: right;\n",
       "    }\n",
       "</style>\n",
       "<table border=\"1\" class=\"dataframe\">\n",
       "  <thead>\n",
       "    <tr style=\"text-align: right;\">\n",
       "      <th></th>\n",
       "      <th>product_weight_g</th>\n",
       "      <th>product_length_cm</th>\n",
       "      <th>product_height_cm</th>\n",
       "      <th>product_width_cm</th>\n",
       "    </tr>\n",
       "  </thead>\n",
       "  <tbody>\n",
       "    <tr>\n",
       "      <th>count</th>\n",
       "      <td>32340.000000</td>\n",
       "      <td>32340.000000</td>\n",
       "      <td>32340.000000</td>\n",
       "      <td>32340.000000</td>\n",
       "    </tr>\n",
       "    <tr>\n",
       "      <th>mean</th>\n",
       "      <td>2276.956586</td>\n",
       "      <td>30.854545</td>\n",
       "      <td>16.958813</td>\n",
       "      <td>23.208596</td>\n",
       "    </tr>\n",
       "    <tr>\n",
       "      <th>std</th>\n",
       "      <td>4279.291845</td>\n",
       "      <td>16.955965</td>\n",
       "      <td>13.636115</td>\n",
       "      <td>12.078762</td>\n",
       "    </tr>\n",
       "    <tr>\n",
       "      <th>min</th>\n",
       "      <td>0.000000</td>\n",
       "      <td>7.000000</td>\n",
       "      <td>2.000000</td>\n",
       "      <td>6.000000</td>\n",
       "    </tr>\n",
       "    <tr>\n",
       "      <th>25%</th>\n",
       "      <td>300.000000</td>\n",
       "      <td>18.000000</td>\n",
       "      <td>8.000000</td>\n",
       "      <td>15.000000</td>\n",
       "    </tr>\n",
       "    <tr>\n",
       "      <th>50%</th>\n",
       "      <td>700.000000</td>\n",
       "      <td>25.000000</td>\n",
       "      <td>13.000000</td>\n",
       "      <td>20.000000</td>\n",
       "    </tr>\n",
       "    <tr>\n",
       "      <th>75%</th>\n",
       "      <td>1900.000000</td>\n",
       "      <td>38.000000</td>\n",
       "      <td>21.000000</td>\n",
       "      <td>30.000000</td>\n",
       "    </tr>\n",
       "    <tr>\n",
       "      <th>max</th>\n",
       "      <td>40425.000000</td>\n",
       "      <td>105.000000</td>\n",
       "      <td>105.000000</td>\n",
       "      <td>118.000000</td>\n",
       "    </tr>\n",
       "  </tbody>\n",
       "</table>\n",
       "</div>"
      ],
      "text/plain": [
       "       product_weight_g  product_length_cm  product_height_cm  \\\n",
       "count      32340.000000       32340.000000       32340.000000   \n",
       "mean        2276.956586          30.854545          16.958813   \n",
       "std         4279.291845          16.955965          13.636115   \n",
       "min            0.000000           7.000000           2.000000   \n",
       "25%          300.000000          18.000000           8.000000   \n",
       "50%          700.000000          25.000000          13.000000   \n",
       "75%         1900.000000          38.000000          21.000000   \n",
       "max        40425.000000         105.000000         105.000000   \n",
       "\n",
       "       product_width_cm  \n",
       "count      32340.000000  \n",
       "mean          23.208596  \n",
       "std           12.078762  \n",
       "min            6.000000  \n",
       "25%           15.000000  \n",
       "50%           20.000000  \n",
       "75%           30.000000  \n",
       "max          118.000000  "
      ]
     },
     "execution_count": 87,
     "metadata": {},
     "output_type": "execute_result"
    }
   ],
   "source": [
    "products.describe()"
   ]
  },
  {
   "cell_type": "code",
   "execution_count": 88,
   "id": "9744a3a7",
   "metadata": {},
   "outputs": [
    {
     "data": {
      "image/png": "[encoded data removed]",
      "text/plain": [
       "<Figure size 864x432 with 1 Axes>"
      ]
     },
     "metadata": {
      "needs_background": "light"
     },
     "output_type": "display_data"
    }
   ],
   "source": [
    "# Plotting distribution of product categories\n",
    "products['product_category_name'].value_counts().plot(kind='bar', figsize=(12,6))\n",
    "plt.title(\"Distribution of Product Categories\")\n",
    "plt.xlabel(\"Product Category\")\n",
    "plt.ylabel(\"Number of Products\")\n",
    "plt.show()"
   ]
  },
  {
   "cell_type": "code",
   "execution_count": 89,
   "id": "cd390447",
   "metadata": {},
   "outputs": [
    {
     "name": "stdout",
     "output_type": "stream",
     "text": [
      "\n",
      "Seller\n"
     ]
    },
    {
     "data": {
      "text/plain": [
       "(3095, 4)"
      ]
     },
     "execution_count": 89,
     "metadata": {},
     "output_type": "execute_result"
    }
   ],
   "source": [
    "# ------- 8 sellers\n",
    "print(\"\\nSeller\")\n",
    "sellers.shape"
   ]
  },
  {
   "cell_type": "code",
   "execution_count": 90,
   "id": "427bc8be",
   "metadata": {},
   "outputs": [
    {
     "data": {
      "text/html": [
       "<div>\n",
       "<style scoped>\n",
       "    .dataframe tbody tr th:only-of-type {\n",
       "        vertical-align: middle;\n",
       "    }\n",
       "\n",
       "    .dataframe tbody tr th {\n",
       "        vertical-align: top;\n",
       "    }\n",
       "\n",
       "    .dataframe thead th {\n",
       "        text-align: right;\n",
       "    }\n",
       "</style>\n",
       "<table border=\"1\" class=\"dataframe\">\n",
       "  <thead>\n",
       "    <tr style=\"text-align: right;\">\n",
       "      <th></th>\n",
       "      <th>seller_id</th>\n",
       "      <th>seller_zip_code_prefix</th>\n",
       "      <th>seller_city</th>\n",
       "      <th>seller_state</th>\n",
       "    </tr>\n",
       "  </thead>\n",
       "  <tbody>\n",
       "    <tr>\n",
       "      <th>0</th>\n",
       "      <td>3442f8959a84dea7ee197c632cb2df15</td>\n",
       "      <td>13023</td>\n",
       "      <td>campinas</td>\n",
       "      <td>SP</td>\n",
       "    </tr>\n",
       "    <tr>\n",
       "      <th>1</th>\n",
       "      <td>d1b65fc7debc3361ea86b5f14c68d2e2</td>\n",
       "      <td>13844</td>\n",
       "      <td>mogi guacu</td>\n",
       "      <td>SP</td>\n",
       "    </tr>\n",
       "    <tr>\n",
       "      <th>2</th>\n",
       "      <td>ce3ad9de960102d0677a81f5d0bb7b2d</td>\n",
       "      <td>20031</td>\n",
       "      <td>rio de janeiro</td>\n",
       "      <td>RJ</td>\n",
       "    </tr>\n",
       "    <tr>\n",
       "      <th>3</th>\n",
       "      <td>c0f3eea2e14555b6faeea3dd58c1b1c3</td>\n",
       "      <td>4195</td>\n",
       "      <td>sao paulo</td>\n",
       "      <td>SP</td>\n",
       "    </tr>\n",
       "    <tr>\n",
       "      <th>4</th>\n",
       "      <td>51a04a8a6bdcb23deccc82b0b80742cf</td>\n",
       "      <td>12914</td>\n",
       "      <td>braganca paulista</td>\n",
       "      <td>SP</td>\n",
       "    </tr>\n",
       "  </tbody>\n",
       "</table>\n",
       "</div>"
      ],
      "text/plain": [
       "                          seller_id  seller_zip_code_prefix  \\\n",
       "0  3442f8959a84dea7ee197c632cb2df15                   13023   \n",
       "1  d1b65fc7debc3361ea86b5f14c68d2e2                   13844   \n",
       "2  ce3ad9de960102d0677a81f5d0bb7b2d                   20031   \n",
       "3  c0f3eea2e14555b6faeea3dd58c1b1c3                    4195   \n",
       "4  51a04a8a6bdcb23deccc82b0b80742cf                   12914   \n",
       "\n",
       "         seller_city seller_state  \n",
       "0           campinas           SP  \n",
       "1         mogi guacu           SP  \n",
       "2     rio de janeiro           RJ  \n",
       "3          sao paulo           SP  \n",
       "4  braganca paulista           SP  "
      ]
     },
     "execution_count": 90,
     "metadata": {},
     "output_type": "execute_result"
    }
   ],
   "source": [
    "sellers.head()"
   ]
  },
  {
   "cell_type": "code",
   "execution_count": 91,
   "id": "8620825d",
   "metadata": {},
   "outputs": [
    {
     "data": {
      "text/plain": [
       "seller_id                 0\n",
       "seller_zip_code_prefix    0\n",
       "seller_city               0\n",
       "seller_state              0\n",
       "dtype: int64"
      ]
     },
     "execution_count": 91,
     "metadata": {},
     "output_type": "execute_result"
    }
   ],
   "source": [
    "sellers.isna().sum()"
   ]
  },
  {
   "cell_type": "code",
   "execution_count": 92,
   "id": "7bb3e16f",
   "metadata": {},
   "outputs": [],
   "source": [
    "sellers = sellers.dropna()"
   ]
  },
  {
   "cell_type": "code",
   "execution_count": 93,
   "id": "243b27c8",
   "metadata": {},
   "outputs": [
    {
     "data": {
      "text/plain": [
       "0"
      ]
     },
     "execution_count": 93,
     "metadata": {},
     "output_type": "execute_result"
    }
   ],
   "source": [
    "sellers.duplicated().sum()"
   ]
  },
  {
   "cell_type": "code",
   "execution_count": 94,
   "id": "5025d834",
   "metadata": {},
   "outputs": [
    {
     "name": "stdout",
     "output_type": "stream",
     "text": [
      "<class 'pandas.core.frame.DataFrame'>\n",
      "RangeIndex: 3095 entries, 0 to 3094\n",
      "Data columns (total 4 columns):\n",
      " #   Column                  Non-Null Count  Dtype \n",
      "---  ------                  --------------  ----- \n",
      " 0   seller_id               3095 non-null   object\n",
      " 1   seller_zip_code_prefix  3095 non-null   int64 \n",
      " 2   seller_city             3095 non-null   object\n",
      " 3   seller_state            3095 non-null   object\n",
      "dtypes: int64(1), object(3)\n",
      "memory usage: 96.8+ KB\n"
     ]
    }
   ],
   "source": [
    "sellers.info()"
   ]
  },
  {
   "cell_type": "code",
   "execution_count": 95,
   "id": "2649af69",
   "metadata": {},
   "outputs": [
    {
     "data": {
      "text/html": [
       "<div>\n",
       "<style scoped>\n",
       "    .dataframe tbody tr th:only-of-type {\n",
       "        vertical-align: middle;\n",
       "    }\n",
       "\n",
       "    .dataframe tbody tr th {\n",
       "        vertical-align: top;\n",
       "    }\n",
       "\n",
       "    .dataframe thead th {\n",
       "        text-align: right;\n",
       "    }\n",
       "</style>\n",
       "<table border=\"1\" class=\"dataframe\">\n",
       "  <thead>\n",
       "    <tr style=\"text-align: right;\">\n",
       "      <th></th>\n",
       "      <th>seller_zip_code_prefix</th>\n",
       "    </tr>\n",
       "  </thead>\n",
       "  <tbody>\n",
       "    <tr>\n",
       "      <th>count</th>\n",
       "      <td>3095.000000</td>\n",
       "    </tr>\n",
       "    <tr>\n",
       "      <th>mean</th>\n",
       "      <td>32291.059451</td>\n",
       "    </tr>\n",
       "    <tr>\n",
       "      <th>std</th>\n",
       "      <td>32713.453830</td>\n",
       "    </tr>\n",
       "    <tr>\n",
       "      <th>min</th>\n",
       "      <td>1001.000000</td>\n",
       "    </tr>\n",
       "    <tr>\n",
       "      <th>25%</th>\n",
       "      <td>7093.500000</td>\n",
       "    </tr>\n",
       "    <tr>\n",
       "      <th>50%</th>\n",
       "      <td>14940.000000</td>\n",
       "    </tr>\n",
       "    <tr>\n",
       "      <th>75%</th>\n",
       "      <td>64552.500000</td>\n",
       "    </tr>\n",
       "    <tr>\n",
       "      <th>max</th>\n",
       "      <td>99730.000000</td>\n",
       "    </tr>\n",
       "  </tbody>\n",
       "</table>\n",
       "</div>"
      ],
      "text/plain": [
       "       seller_zip_code_prefix\n",
       "count             3095.000000\n",
       "mean             32291.059451\n",
       "std              32713.453830\n",
       "min               1001.000000\n",
       "25%               7093.500000\n",
       "50%              14940.000000\n",
       "75%              64552.500000\n",
       "max              99730.000000"
      ]
     },
     "execution_count": 95,
     "metadata": {},
     "output_type": "execute_result"
    }
   ],
   "source": [
    "sellers.describe()"
   ]
  },
  {
   "cell_type": "code",
   "execution_count": 96,
   "id": "327b864f",
   "metadata": {},
   "outputs": [
    {
     "data": {
      "text/plain": [
       "Text(0.5, 0, 'Number of Sellers')"
      ]
     },
     "execution_count": 96,
     "metadata": {},
     "output_type": "execute_result"
    },
    {
     "data": {
      "image/png": "[encoded data removed]",
      "text/plain": [
       "<Figure size 432x288 with 1 Axes>"
      ]
     },
     "metadata": {
      "needs_background": "light"
     },
     "output_type": "display_data"
    }
   ],
   "source": [
    "# to find the distribution of customers based on their city\n",
    "sellers.groupby(['seller_city'])['seller_id'].nunique().sort_values(ascending=False)[:10].iloc[::-1].plot(kind = 'barh')\n",
    "plt.title(\"Distribution of Customers by City\")\n",
    "plt.ylabel(\"City\")\n",
    "plt.xlabel(\"Number of Sellers\")"
   ]
  },
  {
   "cell_type": "code",
   "execution_count": 97,
   "id": "225059e6",
   "metadata": {},
   "outputs": [
    {
     "data": {
      "text/plain": [
       "Text(0.5, 0, 'Number of Sellers')"
      ]
     },
     "execution_count": 97,
     "metadata": {},
     "output_type": "execute_result"
    },
    {
     "data": {
      "image/png": "[encoded data removed]",
      "text/plain": [
       "<Figure size 432x288 with 1 Axes>"
      ]
     },
     "metadata": {
      "needs_background": "light"
     },
     "output_type": "display_data"
    }
   ],
   "source": [
    "# to find the distribution of customers based on their state\n",
    "sellers.groupby(['seller_state'])['seller_id'].nunique().sort_values(ascending=False)[:10].iloc[::-1].plot(kind = 'barh')\n",
    "plt.title(\"Distribution of Customers by State\")\n",
    "plt.ylabel(\"State\")\n",
    "plt.xlabel(\"Number of Sellers\")"
   ]
  },
  {
   "cell_type": "code",
   "execution_count": null,
   "id": "afdffb37",
   "metadata": {},
   "outputs": [],
   "source": []
  },
  {
   "cell_type": "code",
   "execution_count": null,
   "id": "bd572122",
   "metadata": {},
   "outputs": [],
   "source": []
  }
 ],
 "metadata": {
  "kernelspec": {
   "display_name": "Python 3 (ipykernel)",
   "language": "python",
   "name": "python3"
  },
  "language_info": {
   "codemirror_mode": {
    "name": "ipython",
    "version": 3
   },
   "file_extension": ".py",
   "mimetype": "text/x-python",
   "name": "python",
   "nbconvert_exporter": "python",
   "pygments_lexer": "ipython3",
   "version": "3.9.7"
  }
 },
 "nbformat": 4,
 "nbformat_minor": 5
}
