{
 "cells": [
  {
   "cell_type": "code",
   "execution_count": 1,
   "id": "eda9c85b",
   "metadata": {},
   "outputs": [],
   "source": [
    "import pandas as pd\n",
    "import numpy as np\n",
    "import matplotlib.pyplot as plt\n",
    "import seaborn as sns\n",
    "#to ignore warnings\n",
    "import warnings\n",
    "warnings.filterwarnings('ignore')\n",
    "\n",
    "# Load datasets\n",
    "customers = pd.read_csv(\"olist_customers_dataset.csv\")\n",
    "geolocation = pd.read_csv('olist_geolocation_dataset.csv')\n",
    "order_items = pd.read_csv('olist_order_items_dataset.csv')\n",
    "payments = pd.read_csv('olist_order_payments_dataset.csv')\n",
    "reviews = pd.read_csv('olist_order_reviews_dataset.csv')\n",
    "orders = pd.read_csv('olist_orders_dataset.csv')\n",
    "products = pd.read_csv('olist_products_dataset.csv')\n",
    "sellers = pd.read_csv('olist_sellers_dataset.csv')\n",
    "product_category_translation = pd.read_csv('product_category_name_translation.csv')"
   ]
  },
  {
   "cell_type": "code",
   "execution_count": 2,
   "id": "a0acd272",
   "metadata": {},
   "outputs": [
    {
     "name": "stdout",
     "output_type": "stream",
     "text": [
      "\n",
      "product_category_translation\n"
     ]
    },
    {
     "data": {
      "text/plain": [
       "(71, 2)"
      ]
     },
     "execution_count": 2,
     "metadata": {},
     "output_type": "execute_result"
    }
   ],
   "source": [
    "# ------- 9 product_category_translation\n",
    "print(\"\\nproduct_category_translation\")\n",
    "product_category_translation.shape\n"
   ]
  },
  {
   "cell_type": "code",
   "execution_count": 3,
   "id": "8994fb64",
   "metadata": {},
   "outputs": [
    {
     "data": {
      "text/html": [
       "<div>\n",
       "<style scoped>\n",
       "    .dataframe tbody tr th:only-of-type {\n",
       "        vertical-align: middle;\n",
       "    }\n",
       "\n",
       "    .dataframe tbody tr th {\n",
       "        vertical-align: top;\n",
       "    }\n",
       "\n",
       "    .dataframe thead th {\n",
       "        text-align: right;\n",
       "    }\n",
       "</style>\n",
       "<table border=\"1\" class=\"dataframe\">\n",
       "  <thead>\n",
       "    <tr style=\"text-align: right;\">\n",
       "      <th></th>\n",
       "      <th>product_category_name</th>\n",
       "      <th>product_category_name_english</th>\n",
       "    </tr>\n",
       "  </thead>\n",
       "  <tbody>\n",
       "    <tr>\n",
       "      <th>0</th>\n",
       "      <td>beleza_saude</td>\n",
       "      <td>health_beauty</td>\n",
       "    </tr>\n",
       "    <tr>\n",
       "      <th>1</th>\n",
       "      <td>informatica_acessorios</td>\n",
       "      <td>computers_accessories</td>\n",
       "    </tr>\n",
       "    <tr>\n",
       "      <th>2</th>\n",
       "      <td>automotivo</td>\n",
       "      <td>auto</td>\n",
       "    </tr>\n",
       "    <tr>\n",
       "      <th>3</th>\n",
       "      <td>cama_mesa_banho</td>\n",
       "      <td>bed_bath_table</td>\n",
       "    </tr>\n",
       "    <tr>\n",
       "      <th>4</th>\n",
       "      <td>moveis_decoracao</td>\n",
       "      <td>furniture_decor</td>\n",
       "    </tr>\n",
       "  </tbody>\n",
       "</table>\n",
       "</div>"
      ],
      "text/plain": [
       "    product_category_name product_category_name_english\n",
       "0            beleza_saude                 health_beauty\n",
       "1  informatica_acessorios         computers_accessories\n",
       "2              automotivo                          auto\n",
       "3         cama_mesa_banho                bed_bath_table\n",
       "4        moveis_decoracao               furniture_decor"
      ]
     },
     "execution_count": 3,
     "metadata": {},
     "output_type": "execute_result"
    }
   ],
   "source": [
    "product_category_translation.head()"
   ]
  },
  {
   "cell_type": "code",
   "execution_count": 4,
   "id": "9a8c985d",
   "metadata": {},
   "outputs": [
    {
     "data": {
      "text/plain": [
       "product_category_name            0\n",
       "product_category_name_english    0\n",
       "dtype: int64"
      ]
     },
     "execution_count": 4,
     "metadata": {},
     "output_type": "execute_result"
    }
   ],
   "source": [
    "product_category_translation.isna().sum()"
   ]
  },
  {
   "cell_type": "code",
   "execution_count": 5,
   "id": "0f34e843",
   "metadata": {},
   "outputs": [],
   "source": [
    "product_category_translation = product_category_translation.dropna()"
   ]
  },
  {
   "cell_type": "code",
   "execution_count": 6,
   "id": "a38d8071",
   "metadata": {},
   "outputs": [
    {
     "data": {
      "text/html": [
       "<div>\n",
       "<style scoped>\n",
       "    .dataframe tbody tr th:only-of-type {\n",
       "        vertical-align: middle;\n",
       "    }\n",
       "\n",
       "    .dataframe tbody tr th {\n",
       "        vertical-align: top;\n",
       "    }\n",
       "\n",
       "    .dataframe thead th {\n",
       "        text-align: right;\n",
       "    }\n",
       "</style>\n",
       "<table border=\"1\" class=\"dataframe\">\n",
       "  <thead>\n",
       "    <tr style=\"text-align: right;\">\n",
       "      <th></th>\n",
       "      <th>product_category_name</th>\n",
       "      <th>product_category_name_english</th>\n",
       "    </tr>\n",
       "  </thead>\n",
       "  <tbody>\n",
       "    <tr>\n",
       "      <th>count</th>\n",
       "      <td>71</td>\n",
       "      <td>71</td>\n",
       "    </tr>\n",
       "    <tr>\n",
       "      <th>unique</th>\n",
       "      <td>71</td>\n",
       "      <td>71</td>\n",
       "    </tr>\n",
       "    <tr>\n",
       "      <th>top</th>\n",
       "      <td>beleza_saude</td>\n",
       "      <td>health_beauty</td>\n",
       "    </tr>\n",
       "    <tr>\n",
       "      <th>freq</th>\n",
       "      <td>1</td>\n",
       "      <td>1</td>\n",
       "    </tr>\n",
       "  </tbody>\n",
       "</table>\n",
       "</div>"
      ],
      "text/plain": [
       "       product_category_name product_category_name_english\n",
       "count                     71                            71\n",
       "unique                    71                            71\n",
       "top             beleza_saude                 health_beauty\n",
       "freq                       1                             1"
      ]
     },
     "execution_count": 6,
     "metadata": {},
     "output_type": "execute_result"
    }
   ],
   "source": [
    "product_category_translation.describe()"
   ]
  },
  {
   "cell_type": "code",
   "execution_count": 7,
   "id": "c10ca2be",
   "metadata": {},
   "outputs": [],
   "source": [
    "# Create a dictionary for mapping from 'product_category_name' to 'product_category_name_english'\n",
    "translation_map = dict(zip(product_category_translation.product_category_name, \n",
    "                           product_category_translation.product_category_name_english))\n",
    "\n",
    "# a function to replace the 'product_category_name' in Portuguese to English\n",
    "def replace_category_with_translation(df, translation_map):\n",
    "    if 'product_category_name' in product_category_translation.columns:\n",
    "        product_category_translation['product_category_name'].replace(\n",
    "            translation_map, inplace=True)\n",
    "    return product_category_translation"
   ]
  },
  {
   "cell_type": "code",
   "execution_count": 8,
   "id": "4f2c77c1",
   "metadata": {},
   "outputs": [],
   "source": [
    "state_mapping = {\n",
    "    'SP': 'São Paulo',\n",
    "    'RN': 'Rio Grande do Norte',\n",
    "    'AC': 'Acre',\n",
    "    'RJ': 'Rio de Janeiro',\n",
    "    'ES': 'Espírito Santo',\n",
    "    'MG': 'Minas Gerais',\n",
    "    'BA': 'Bahia',\n",
    "    'SE': 'Sergipe',\n",
    "    'PE': 'Pernambuco',\n",
    "    'AL': 'Alagoas',\n",
    "    'PB': 'Paraíba',\n",
    "    'CE': 'Ceará',\n",
    "    'PI': 'Piauí',\n",
    "    'MA': 'Maranhão',\n",
    "    'PA': 'Pará',\n",
    "    'AP': 'Amapá',\n",
    "    'AM': 'Amazonas',\n",
    "    'RR': 'Roraima',\n",
    "    'DF': 'Distrito Federal',\n",
    "    'GO': 'Goiás',\n",
    "    'RO': 'Rondônia',\n",
    "    'TO': 'Tocantins',\n",
    "    'MT': 'Mato Grosso',\n",
    "    'MS': 'Mato Grosso do Sul',\n",
    "    'RS': 'Rio Grande do Sul',\n",
    "    'PR': 'Paraná',\n",
    "    'SC': 'Santa Catarina'\n",
    "}\n"
   ]
  },
  {
   "cell_type": "code",
   "execution_count": 9,
   "id": "74a3a5a2",
   "metadata": {},
   "outputs": [],
   "source": [
    "cities_mapping = {\n",
    "    'franca': 'Franca',\n",
    "    'sao bernardo do campo': 'São Bernardo do Campo',\n",
    "    'sao paulo': 'São Paulo',\n",
    "    'são paulo': 'São Paulo',\n",
    "    'monte bonito': 'Monte Bonito',\n",
    "    'sao rafael': 'São Rafael',\n",
    "    'eugenio de castro': 'Eugenio de Castro',\n",
    "    'ciríaco': 'Ciríaco',\n",
    "    'estação': 'Estação',\n",
    "    'vila lângaro': 'Vila Lângaro',\n",
    "    '...arraial do cabo': 'Arraial do Cabo'\n",
    "}\n",
    "\n",
    "# There are more than 1000 of cities, we only able to change some cities that have the same name and some unkown symbol etc."
   ]
  },
  {
   "cell_type": "code",
   "execution_count": 10,
   "id": "f05dd2da",
   "metadata": {},
   "outputs": [],
   "source": [
    "customers['customer_state'] = customers['customer_state'].replace(state_mapping)\n",
    "sellers['seller_state'] = sellers['seller_state'].replace(state_mapping)\n",
    "geolocation['geolocation_state'] = geolocation['geolocation_state'].replace(state_mapping)\n",
    "geolocation['geolocation_city'] = geolocation['geolocation_city'].replace(cities_mapping)\n",
    "customers['customer_city'] = customers['customer_city'].replace(cities_mapping)\n",
    "sellers['seller_city'] = sellers['seller_city'].replace(cities_mapping)"
   ]
  },
  {
   "cell_type": "code",
   "execution_count": 11,
   "id": "20e2e6e7",
   "metadata": {},
   "outputs": [
    {
     "name": "stdout",
     "output_type": "stream",
     "text": [
      "\n",
      "Customer\n"
     ]
    },
    {
     "data": {
      "text/plain": [
       "(99441, 5)"
      ]
     },
     "execution_count": 11,
     "metadata": {},
     "output_type": "execute_result"
    }
   ],
   "source": [
    "# ------- 1 customers\n",
    "print(\"\\nCustomer\")\n",
    "# Check the shape of the dataframe\n",
    "customers.shape"
   ]
  },
  {
   "cell_type": "code",
   "execution_count": 12,
   "id": "cb426ee3",
   "metadata": {},
   "outputs": [
    {
     "data": {
      "text/html": [
       "<div>\n",
       "<style scoped>\n",
       "    .dataframe tbody tr th:only-of-type {\n",
       "        vertical-align: middle;\n",
       "    }\n",
       "\n",
       "    .dataframe tbody tr th {\n",
       "        vertical-align: top;\n",
       "    }\n",
       "\n",
       "    .dataframe thead th {\n",
       "        text-align: right;\n",
       "    }\n",
       "</style>\n",
       "<table border=\"1\" class=\"dataframe\">\n",
       "  <thead>\n",
       "    <tr style=\"text-align: right;\">\n",
       "      <th></th>\n",
       "      <th>customer_id</th>\n",
       "      <th>customer_unique_id</th>\n",
       "      <th>customer_zip_code_prefix</th>\n",
       "      <th>customer_city</th>\n",
       "      <th>customer_state</th>\n",
       "    </tr>\n",
       "  </thead>\n",
       "  <tbody>\n",
       "    <tr>\n",
       "      <th>0</th>\n",
       "      <td>06b8999e2fba1a1fbc88172c00ba8bc7</td>\n",
       "      <td>861eff4711a542e4b93843c6dd7febb0</td>\n",
       "      <td>14409</td>\n",
       "      <td>Franca</td>\n",
       "      <td>São Paulo</td>\n",
       "    </tr>\n",
       "    <tr>\n",
       "      <th>1</th>\n",
       "      <td>18955e83d337fd6b2def6b18a428ac77</td>\n",
       "      <td>290c77bc529b7ac935b93aa66c333dc3</td>\n",
       "      <td>9790</td>\n",
       "      <td>São Bernardo do Campo</td>\n",
       "      <td>São Paulo</td>\n",
       "    </tr>\n",
       "    <tr>\n",
       "      <th>2</th>\n",
       "      <td>4e7b3e00288586ebd08712fdd0374a03</td>\n",
       "      <td>060e732b5b29e8181a18229c7b0b2b5e</td>\n",
       "      <td>1151</td>\n",
       "      <td>São Paulo</td>\n",
       "      <td>São Paulo</td>\n",
       "    </tr>\n",
       "    <tr>\n",
       "      <th>3</th>\n",
       "      <td>b2b6027bc5c5109e529d4dc6358b12c3</td>\n",
       "      <td>259dac757896d24d7702b9acbbff3f3c</td>\n",
       "      <td>8775</td>\n",
       "      <td>mogi das cruzes</td>\n",
       "      <td>São Paulo</td>\n",
       "    </tr>\n",
       "    <tr>\n",
       "      <th>4</th>\n",
       "      <td>4f2d8ab171c80ec8364f7c12e35b23ad</td>\n",
       "      <td>345ecd01c38d18a9036ed96c73b8d066</td>\n",
       "      <td>13056</td>\n",
       "      <td>campinas</td>\n",
       "      <td>São Paulo</td>\n",
       "    </tr>\n",
       "  </tbody>\n",
       "</table>\n",
       "</div>"
      ],
      "text/plain": [
       "                        customer_id                customer_unique_id  \\\n",
       "0  06b8999e2fba1a1fbc88172c00ba8bc7  861eff4711a542e4b93843c6dd7febb0   \n",
       "1  18955e83d337fd6b2def6b18a428ac77  290c77bc529b7ac935b93aa66c333dc3   \n",
       "2  4e7b3e00288586ebd08712fdd0374a03  060e732b5b29e8181a18229c7b0b2b5e   \n",
       "3  b2b6027bc5c5109e529d4dc6358b12c3  259dac757896d24d7702b9acbbff3f3c   \n",
       "4  4f2d8ab171c80ec8364f7c12e35b23ad  345ecd01c38d18a9036ed96c73b8d066   \n",
       "\n",
       "   customer_zip_code_prefix          customer_city customer_state  \n",
       "0                     14409                 Franca      São Paulo  \n",
       "1                      9790  São Bernardo do Campo      São Paulo  \n",
       "2                      1151              São Paulo      São Paulo  \n",
       "3                      8775        mogi das cruzes      São Paulo  \n",
       "4                     13056               campinas      São Paulo  "
      ]
     },
     "execution_count": 12,
     "metadata": {},
     "output_type": "execute_result"
    }
   ],
   "source": [
    "# View the first few rows of the dataframe\n",
    "customers.head()"
   ]
  },
  {
   "cell_type": "code",
   "execution_count": 13,
   "id": "46900e1f",
   "metadata": {},
   "outputs": [
    {
     "data": {
      "text/plain": [
       "customer_id                 object\n",
       "customer_unique_id          object\n",
       "customer_zip_code_prefix     int64\n",
       "customer_city               object\n",
       "customer_state              object\n",
       "dtype: object"
      ]
     },
     "execution_count": 13,
     "metadata": {},
     "output_type": "execute_result"
    }
   ],
   "source": [
    "customers.dtypes"
   ]
  },
  {
   "cell_type": "code",
   "execution_count": 14,
   "id": "f00dd52f",
   "metadata": {},
   "outputs": [
    {
     "data": {
      "text/plain": [
       "customer_id                 0\n",
       "customer_unique_id          0\n",
       "customer_zip_code_prefix    0\n",
       "customer_city               0\n",
       "customer_state              0\n",
       "dtype: int64"
      ]
     },
     "execution_count": 14,
     "metadata": {},
     "output_type": "execute_result"
    }
   ],
   "source": [
    "# Check for missing data\n",
    "customers.isna().sum()"
   ]
  },
  {
   "cell_type": "code",
   "execution_count": 15,
   "id": "ce8c0ad4",
   "metadata": {},
   "outputs": [],
   "source": [
    "# Remove missing data\n",
    "customers = customers.dropna()"
   ]
  },
  {
   "cell_type": "code",
   "execution_count": 16,
   "id": "5ae50d1b",
   "metadata": {},
   "outputs": [
    {
     "data": {
      "text/plain": [
       "customer_id                 99441\n",
       "customer_unique_id          96096\n",
       "customer_zip_code_prefix    14994\n",
       "customer_city                4119\n",
       "customer_state                 27\n",
       "dtype: int64"
      ]
     },
     "execution_count": 16,
     "metadata": {},
     "output_type": "execute_result"
    }
   ],
   "source": [
    "customers.nunique()"
   ]
  },
  {
   "cell_type": "code",
   "execution_count": 17,
   "id": "8574c941",
   "metadata": {},
   "outputs": [
    {
     "data": {
      "text/plain": [
       "0"
      ]
     },
     "execution_count": 17,
     "metadata": {},
     "output_type": "execute_result"
    }
   ],
   "source": [
    "customers.duplicated().sum()"
   ]
  },
  {
   "cell_type": "code",
   "execution_count": 18,
   "id": "764691a7",
   "metadata": {},
   "outputs": [
    {
     "data": {
      "text/plain": [
       "count                                99441\n",
       "unique                               99441\n",
       "top       06b8999e2fba1a1fbc88172c00ba8bc7\n",
       "freq                                     1\n",
       "Name: customer_id, dtype: object"
      ]
     },
     "execution_count": 18,
     "metadata": {},
     "output_type": "execute_result"
    }
   ],
   "source": [
    "# View descriptive statistics of the dataframe\n",
    "customers.customer_id.describe()"
   ]
  },
  {
   "cell_type": "code",
   "execution_count": 19,
   "id": "154f6f16",
   "metadata": {},
   "outputs": [
    {
     "data": {
      "text/plain": [
       "Text(0.5, 0, 'Number of Customers')"
      ]
     },
     "execution_count": 19,
     "metadata": {},
     "output_type": "execute_result"
    },
    {
     "data": {
      "image/png": "[encoded data removed]",
      "text/plain": [
       "<Figure size 640x480 with 1 Axes>"
      ]
     },
     "metadata": {},
     "output_type": "display_data"
    }
   ],
   "source": [
    "# to find the distribution of customers based on their state\n",
    "customers.groupby(['customer_state'])['customer_unique_id'].nunique().sort_values(\n",
    "    ascending=False)[:10].iloc[::-1].plot(kind = 'barh')\n",
    "plt.title(\"Distribution of Customers by State\")\n",
    "plt.ylabel(\"State\")\n",
    "plt.xlabel(\"Number of Customers\")"
   ]
  },
  {
   "cell_type": "code",
   "execution_count": 20,
   "id": "06985c1f",
   "metadata": {},
   "outputs": [
    {
     "name": "stdout",
     "output_type": "stream",
     "text": [
      "['Franca' 'São Bernardo do Campo' 'São Paulo' ... 'Monte Bonito'\n",
      " 'São Rafael' 'Eugenio de Castro']\n"
     ]
    }
   ],
   "source": [
    "print(customers.customer_city.unique())"
   ]
  },
  {
   "cell_type": "code",
   "execution_count": 21,
   "id": "bb74a484",
   "metadata": {},
   "outputs": [
    {
     "data": {
      "text/plain": [
       "Text(0.5, 0, 'Number of Customers')"
      ]
     },
     "execution_count": 21,
     "metadata": {},
     "output_type": "execute_result"
    },
    {
     "data": {
      "image/png": "[encoded data removed]",
      "text/plain": [
       "<Figure size 640x480 with 1 Axes>"
      ]
     },
     "metadata": {},
     "output_type": "display_data"
    }
   ],
   "source": [
    "# to find the distribution of customers based on their city\n",
    "customers.groupby(['customer_city'])['customer_unique_id'].nunique().sort_values(\n",
    "    ascending=False)[:10].iloc[::-1].plot(kind = 'barh')\n",
    "plt.title(\"Distribution of Customers by City\")\n",
    "plt.ylabel(\"City\")\n",
    "plt.xlabel(\"Number of Customers\")"
   ]
  },
  {
   "cell_type": "code",
   "execution_count": 22,
   "id": "ae169409",
   "metadata": {},
   "outputs": [
    {
     "name": "stdout",
     "output_type": "stream",
     "text": [
      "\n",
      "Location\n"
     ]
    },
    {
     "data": {
      "text/plain": [
       "(1000163, 5)"
      ]
     },
     "execution_count": 22,
     "metadata": {},
     "output_type": "execute_result"
    }
   ],
   "source": [
    "# ------- 2 geolocation\n",
    "print(\"\\nLocation\")\n",
    "geolocation.shape"
   ]
  },
  {
   "cell_type": "code",
   "execution_count": 23,
   "id": "5d9494c6",
   "metadata": {},
   "outputs": [
    {
     "data": {
      "text/html": [
       "<div>\n",
       "<style scoped>\n",
       "    .dataframe tbody tr th:only-of-type {\n",
       "        vertical-align: middle;\n",
       "    }\n",
       "\n",
       "    .dataframe tbody tr th {\n",
       "        vertical-align: top;\n",
       "    }\n",
       "\n",
       "    .dataframe thead th {\n",
       "        text-align: right;\n",
       "    }\n",
       "</style>\n",
       "<table border=\"1\" class=\"dataframe\">\n",
       "  <thead>\n",
       "    <tr style=\"text-align: right;\">\n",
       "      <th></th>\n",
       "      <th>geolocation_zip_code_prefix</th>\n",
       "      <th>geolocation_lat</th>\n",
       "      <th>geolocation_lng</th>\n",
       "      <th>geolocation_city</th>\n",
       "      <th>geolocation_state</th>\n",
       "    </tr>\n",
       "  </thead>\n",
       "  <tbody>\n",
       "    <tr>\n",
       "      <th>0</th>\n",
       "      <td>1037</td>\n",
       "      <td>-23.545621</td>\n",
       "      <td>-46.639292</td>\n",
       "      <td>São Paulo</td>\n",
       "      <td>São Paulo</td>\n",
       "    </tr>\n",
       "    <tr>\n",
       "      <th>1</th>\n",
       "      <td>1046</td>\n",
       "      <td>-23.546081</td>\n",
       "      <td>-46.644820</td>\n",
       "      <td>São Paulo</td>\n",
       "      <td>São Paulo</td>\n",
       "    </tr>\n",
       "    <tr>\n",
       "      <th>2</th>\n",
       "      <td>1046</td>\n",
       "      <td>-23.546129</td>\n",
       "      <td>-46.642951</td>\n",
       "      <td>São Paulo</td>\n",
       "      <td>São Paulo</td>\n",
       "    </tr>\n",
       "    <tr>\n",
       "      <th>3</th>\n",
       "      <td>1041</td>\n",
       "      <td>-23.544392</td>\n",
       "      <td>-46.639499</td>\n",
       "      <td>São Paulo</td>\n",
       "      <td>São Paulo</td>\n",
       "    </tr>\n",
       "    <tr>\n",
       "      <th>4</th>\n",
       "      <td>1035</td>\n",
       "      <td>-23.541578</td>\n",
       "      <td>-46.641607</td>\n",
       "      <td>São Paulo</td>\n",
       "      <td>São Paulo</td>\n",
       "    </tr>\n",
       "  </tbody>\n",
       "</table>\n",
       "</div>"
      ],
      "text/plain": [
       "   geolocation_zip_code_prefix  geolocation_lat  geolocation_lng  \\\n",
       "0                         1037       -23.545621       -46.639292   \n",
       "1                         1046       -23.546081       -46.644820   \n",
       "2                         1046       -23.546129       -46.642951   \n",
       "3                         1041       -23.544392       -46.639499   \n",
       "4                         1035       -23.541578       -46.641607   \n",
       "\n",
       "  geolocation_city geolocation_state  \n",
       "0        São Paulo         São Paulo  \n",
       "1        São Paulo         São Paulo  \n",
       "2        São Paulo         São Paulo  \n",
       "3        São Paulo         São Paulo  \n",
       "4        São Paulo         São Paulo  "
      ]
     },
     "execution_count": 23,
     "metadata": {},
     "output_type": "execute_result"
    }
   ],
   "source": [
    "geolocation.head()"
   ]
  },
  {
   "cell_type": "code",
   "execution_count": 24,
   "id": "0ff50fa5",
   "metadata": {},
   "outputs": [
    {
     "data": {
      "text/plain": [
       "geolocation_zip_code_prefix      int64\n",
       "geolocation_lat                float64\n",
       "geolocation_lng                float64\n",
       "geolocation_city                object\n",
       "geolocation_state               object\n",
       "dtype: object"
      ]
     },
     "execution_count": 24,
     "metadata": {},
     "output_type": "execute_result"
    }
   ],
   "source": [
    "geolocation.dtypes"
   ]
  },
  {
   "cell_type": "code",
   "execution_count": 25,
   "id": "f394109e",
   "metadata": {},
   "outputs": [
    {
     "data": {
      "text/plain": [
       "array(['São Paulo', 'Rio Grande do Norte', 'Acre', 'Rio de Janeiro',\n",
       "       'Espírito Santo', 'Minas Gerais', 'Bahia', 'Sergipe', 'Pernambuco',\n",
       "       'Alagoas', 'Paraíba', 'Ceará', 'Piauí', 'Maranhão', 'Pará',\n",
       "       'Amapá', 'Amazonas', 'Roraima', 'Distrito Federal', 'Goiás',\n",
       "       'Rondônia', 'Tocantins', 'Mato Grosso', 'Mato Grosso do Sul',\n",
       "       'Rio Grande do Sul', 'Paraná', 'Santa Catarina'], dtype=object)"
      ]
     },
     "execution_count": 25,
     "metadata": {},
     "output_type": "execute_result"
    }
   ],
   "source": [
    "geolocation.geolocation_state.unique()"
   ]
  },
  {
   "cell_type": "code",
   "execution_count": 26,
   "id": "c6c638b6",
   "metadata": {},
   "outputs": [
    {
     "data": {
      "text/plain": [
       "array(['São Paulo', 'São Bernardo do Campo', 'jundiaí', ..., 'Ciríaco',\n",
       "       'Estação', 'Vila Lângaro'], dtype=object)"
      ]
     },
     "execution_count": 26,
     "metadata": {},
     "output_type": "execute_result"
    }
   ],
   "source": [
    "geolocation.geolocation_city.unique()"
   ]
  },
  {
   "cell_type": "code",
   "execution_count": 27,
   "id": "e8e2d411",
   "metadata": {},
   "outputs": [
    {
     "data": {
      "text/plain": [
       "geolocation_zip_code_prefix    0\n",
       "geolocation_lat                0\n",
       "geolocation_lng                0\n",
       "geolocation_city               0\n",
       "geolocation_state              0\n",
       "dtype: int64"
      ]
     },
     "execution_count": 27,
     "metadata": {},
     "output_type": "execute_result"
    }
   ],
   "source": [
    "geolocation.isna().sum()"
   ]
  },
  {
   "cell_type": "code",
   "execution_count": 28,
   "id": "a7ed3d7c",
   "metadata": {},
   "outputs": [],
   "source": [
    "geolocation = geolocation.dropna()"
   ]
  },
  {
   "cell_type": "code",
   "execution_count": 29,
   "id": "a1c3ae7e",
   "metadata": {},
   "outputs": [
    {
     "data": {
      "text/plain": [
       "981148"
      ]
     },
     "execution_count": 29,
     "metadata": {},
     "output_type": "execute_result"
    }
   ],
   "source": [
    "# finding number of redundant rows\n",
    "geolocation.geolocation_zip_code_prefix.duplicated().sum()"
   ]
  },
  {
   "cell_type": "code",
   "execution_count": 30,
   "id": "4c25e5d0",
   "metadata": {},
   "outputs": [
    {
     "data": {
      "text/html": [
       "<div>\n",
       "<style scoped>\n",
       "    .dataframe tbody tr th:only-of-type {\n",
       "        vertical-align: middle;\n",
       "    }\n",
       "\n",
       "    .dataframe tbody tr th {\n",
       "        vertical-align: top;\n",
       "    }\n",
       "\n",
       "    .dataframe thead th {\n",
       "        text-align: right;\n",
       "    }\n",
       "</style>\n",
       "<table border=\"1\" class=\"dataframe\">\n",
       "  <thead>\n",
       "    <tr style=\"text-align: right;\">\n",
       "      <th></th>\n",
       "      <th>geolocation_zip_code_prefix</th>\n",
       "      <th>geolocation_lat</th>\n",
       "      <th>geolocation_lng</th>\n",
       "    </tr>\n",
       "  </thead>\n",
       "  <tbody>\n",
       "    <tr>\n",
       "      <th>count</th>\n",
       "      <td>1.000163e+06</td>\n",
       "      <td>1.000163e+06</td>\n",
       "      <td>1.000163e+06</td>\n",
       "    </tr>\n",
       "    <tr>\n",
       "      <th>mean</th>\n",
       "      <td>3.657417e+04</td>\n",
       "      <td>-2.117615e+01</td>\n",
       "      <td>-4.639054e+01</td>\n",
       "    </tr>\n",
       "    <tr>\n",
       "      <th>std</th>\n",
       "      <td>3.054934e+04</td>\n",
       "      <td>5.715866e+00</td>\n",
       "      <td>4.269748e+00</td>\n",
       "    </tr>\n",
       "    <tr>\n",
       "      <th>min</th>\n",
       "      <td>1.001000e+03</td>\n",
       "      <td>-3.660537e+01</td>\n",
       "      <td>-1.014668e+02</td>\n",
       "    </tr>\n",
       "    <tr>\n",
       "      <th>25%</th>\n",
       "      <td>1.107500e+04</td>\n",
       "      <td>-2.360355e+01</td>\n",
       "      <td>-4.857317e+01</td>\n",
       "    </tr>\n",
       "    <tr>\n",
       "      <th>50%</th>\n",
       "      <td>2.653000e+04</td>\n",
       "      <td>-2.291938e+01</td>\n",
       "      <td>-4.663788e+01</td>\n",
       "    </tr>\n",
       "    <tr>\n",
       "      <th>75%</th>\n",
       "      <td>6.350400e+04</td>\n",
       "      <td>-1.997962e+01</td>\n",
       "      <td>-4.376771e+01</td>\n",
       "    </tr>\n",
       "    <tr>\n",
       "      <th>max</th>\n",
       "      <td>9.999000e+04</td>\n",
       "      <td>4.506593e+01</td>\n",
       "      <td>1.211054e+02</td>\n",
       "    </tr>\n",
       "  </tbody>\n",
       "</table>\n",
       "</div>"
      ],
      "text/plain": [
       "       geolocation_zip_code_prefix  geolocation_lat  geolocation_lng\n",
       "count                 1.000163e+06     1.000163e+06     1.000163e+06\n",
       "mean                  3.657417e+04    -2.117615e+01    -4.639054e+01\n",
       "std                   3.054934e+04     5.715866e+00     4.269748e+00\n",
       "min                   1.001000e+03    -3.660537e+01    -1.014668e+02\n",
       "25%                   1.107500e+04    -2.360355e+01    -4.857317e+01\n",
       "50%                   2.653000e+04    -2.291938e+01    -4.663788e+01\n",
       "75%                   6.350400e+04    -1.997962e+01    -4.376771e+01\n",
       "max                   9.999000e+04     4.506593e+01     1.211054e+02"
      ]
     },
     "execution_count": 30,
     "metadata": {},
     "output_type": "execute_result"
    }
   ],
   "source": [
    "geolocation.describe()"
   ]
  },
  {
   "cell_type": "code",
   "execution_count": 31,
   "id": "729010ab",
   "metadata": {},
   "outputs": [
    {
     "data": {
      "text/plain": [
       "282803"
      ]
     },
     "execution_count": 31,
     "metadata": {},
     "output_type": "execute_result"
    }
   ],
   "source": [
    "# finding number of redundant rows\n",
    "geolocation.geolocation_lat.duplicated().sum()"
   ]
  },
  {
   "cell_type": "code",
   "execution_count": 32,
   "id": "4270ac42",
   "metadata": {},
   "outputs": [
    {
     "data": {
      "text/plain": [
       "282550"
      ]
     },
     "execution_count": 32,
     "metadata": {},
     "output_type": "execute_result"
    }
   ],
   "source": [
    "geolocation.geolocation_lng.duplicated().sum()"
   ]
  },
  {
   "cell_type": "code",
   "execution_count": 33,
   "id": "74339ac2",
   "metadata": {},
   "outputs": [
    {
     "data": {
      "text/html": [
       "<div>\n",
       "<style scoped>\n",
       "    .dataframe tbody tr th:only-of-type {\n",
       "        vertical-align: middle;\n",
       "    }\n",
       "\n",
       "    .dataframe tbody tr th {\n",
       "        vertical-align: top;\n",
       "    }\n",
       "\n",
       "    .dataframe thead th {\n",
       "        text-align: right;\n",
       "    }\n",
       "</style>\n",
       "<table border=\"1\" class=\"dataframe\">\n",
       "  <thead>\n",
       "    <tr style=\"text-align: right;\">\n",
       "      <th></th>\n",
       "      <th>geolocation_zip_code_prefix</th>\n",
       "      <th>geolocation_lat</th>\n",
       "      <th>geolocation_lng</th>\n",
       "      <th>geolocation_city</th>\n",
       "      <th>geolocation_state</th>\n",
       "    </tr>\n",
       "  </thead>\n",
       "  <tbody>\n",
       "    <tr>\n",
       "      <th>0</th>\n",
       "      <td>1037</td>\n",
       "      <td>-23.545621</td>\n",
       "      <td>-46.639292</td>\n",
       "      <td>São Paulo</td>\n",
       "      <td>São Paulo</td>\n",
       "    </tr>\n",
       "    <tr>\n",
       "      <th>1</th>\n",
       "      <td>1046</td>\n",
       "      <td>-23.546081</td>\n",
       "      <td>-46.644820</td>\n",
       "      <td>São Paulo</td>\n",
       "      <td>São Paulo</td>\n",
       "    </tr>\n",
       "    <tr>\n",
       "      <th>2</th>\n",
       "      <td>1046</td>\n",
       "      <td>-23.546129</td>\n",
       "      <td>-46.642951</td>\n",
       "      <td>São Paulo</td>\n",
       "      <td>São Paulo</td>\n",
       "    </tr>\n",
       "    <tr>\n",
       "      <th>3</th>\n",
       "      <td>1041</td>\n",
       "      <td>-23.544392</td>\n",
       "      <td>-46.639499</td>\n",
       "      <td>São Paulo</td>\n",
       "      <td>São Paulo</td>\n",
       "    </tr>\n",
       "    <tr>\n",
       "      <th>4</th>\n",
       "      <td>1035</td>\n",
       "      <td>-23.541578</td>\n",
       "      <td>-46.641607</td>\n",
       "      <td>São Paulo</td>\n",
       "      <td>São Paulo</td>\n",
       "    </tr>\n",
       "    <tr>\n",
       "      <th>...</th>\n",
       "      <td>...</td>\n",
       "      <td>...</td>\n",
       "      <td>...</td>\n",
       "      <td>...</td>\n",
       "      <td>...</td>\n",
       "    </tr>\n",
       "    <tr>\n",
       "      <th>1000158</th>\n",
       "      <td>99950</td>\n",
       "      <td>-28.068639</td>\n",
       "      <td>-52.010705</td>\n",
       "      <td>tapejara</td>\n",
       "      <td>Rio Grande do Sul</td>\n",
       "    </tr>\n",
       "    <tr>\n",
       "      <th>1000159</th>\n",
       "      <td>99900</td>\n",
       "      <td>-27.877125</td>\n",
       "      <td>-52.224882</td>\n",
       "      <td>getulio vargas</td>\n",
       "      <td>Rio Grande do Sul</td>\n",
       "    </tr>\n",
       "    <tr>\n",
       "      <th>1000160</th>\n",
       "      <td>99950</td>\n",
       "      <td>-28.071855</td>\n",
       "      <td>-52.014716</td>\n",
       "      <td>tapejara</td>\n",
       "      <td>Rio Grande do Sul</td>\n",
       "    </tr>\n",
       "    <tr>\n",
       "      <th>1000161</th>\n",
       "      <td>99980</td>\n",
       "      <td>-28.388932</td>\n",
       "      <td>-51.846871</td>\n",
       "      <td>david canabarro</td>\n",
       "      <td>Rio Grande do Sul</td>\n",
       "    </tr>\n",
       "    <tr>\n",
       "      <th>1000162</th>\n",
       "      <td>99950</td>\n",
       "      <td>-28.070104</td>\n",
       "      <td>-52.018658</td>\n",
       "      <td>tapejara</td>\n",
       "      <td>Rio Grande do Sul</td>\n",
       "    </tr>\n",
       "  </tbody>\n",
       "</table>\n",
       "<p>999120 rows × 5 columns</p>\n",
       "</div>"
      ],
      "text/plain": [
       "         geolocation_zip_code_prefix  geolocation_lat  geolocation_lng  \\\n",
       "0                               1037       -23.545621       -46.639292   \n",
       "1                               1046       -23.546081       -46.644820   \n",
       "2                               1046       -23.546129       -46.642951   \n",
       "3                               1041       -23.544392       -46.639499   \n",
       "4                               1035       -23.541578       -46.641607   \n",
       "...                              ...              ...              ...   \n",
       "1000158                        99950       -28.068639       -52.010705   \n",
       "1000159                        99900       -27.877125       -52.224882   \n",
       "1000160                        99950       -28.071855       -52.014716   \n",
       "1000161                        99980       -28.388932       -51.846871   \n",
       "1000162                        99950       -28.070104       -52.018658   \n",
       "\n",
       "        geolocation_city  geolocation_state  \n",
       "0              São Paulo          São Paulo  \n",
       "1              São Paulo          São Paulo  \n",
       "2              São Paulo          São Paulo  \n",
       "3              São Paulo          São Paulo  \n",
       "4              São Paulo          São Paulo  \n",
       "...                  ...                ...  \n",
       "1000158         tapejara  Rio Grande do Sul  \n",
       "1000159   getulio vargas  Rio Grande do Sul  \n",
       "1000160         tapejara  Rio Grande do Sul  \n",
       "1000161  david canabarro  Rio Grande do Sul  \n",
       "1000162         tapejara  Rio Grande do Sul  \n",
       "\n",
       "[999120 rows x 5 columns]"
      ]
     },
     "execution_count": 33,
     "metadata": {},
     "output_type": "execute_result"
    }
   ],
   "source": [
    "# Filter rows that are duplicated based on 'geolocation_zip_code_prefix'\n",
    "duplicate_rows = geolocation[geolocation.duplicated(subset='geolocation_zip_code_prefix', keep=False)]\n",
    "\n",
    "# Print the duplicate rows\n",
    "duplicate_rows"
   ]
  },
  {
   "cell_type": "code",
   "execution_count": 34,
   "id": "f7a18b4d",
   "metadata": {},
   "outputs": [
    {
     "data": {
      "text/html": [
       "<div>\n",
       "<style scoped>\n",
       "    .dataframe tbody tr th:only-of-type {\n",
       "        vertical-align: middle;\n",
       "    }\n",
       "\n",
       "    .dataframe tbody tr th {\n",
       "        vertical-align: top;\n",
       "    }\n",
       "\n",
       "    .dataframe thead th {\n",
       "        text-align: right;\n",
       "    }\n",
       "</style>\n",
       "<table border=\"1\" class=\"dataframe\">\n",
       "  <thead>\n",
       "    <tr style=\"text-align: right;\">\n",
       "      <th></th>\n",
       "      <th>geolocation_zip_code_prefix</th>\n",
       "      <th>geolocation_lat</th>\n",
       "      <th>geolocation_lng</th>\n",
       "      <th>geolocation_city</th>\n",
       "      <th>geolocation_state</th>\n",
       "    </tr>\n",
       "  </thead>\n",
       "  <tbody>\n",
       "    <tr>\n",
       "      <th>250816</th>\n",
       "      <td>11200</td>\n",
       "      <td>-8.275689</td>\n",
       "      <td>-35.965615</td>\n",
       "      <td>caruara</td>\n",
       "      <td>São Paulo</td>\n",
       "    </tr>\n",
       "    <tr>\n",
       "      <th>302630</th>\n",
       "      <td>13355</td>\n",
       "      <td>-12.993852</td>\n",
       "      <td>-38.480882</td>\n",
       "      <td>cardeal</td>\n",
       "      <td>São Paulo</td>\n",
       "    </tr>\n",
       "    <tr>\n",
       "      <th>304242</th>\n",
       "      <td>13375</td>\n",
       "      <td>-5.754127</td>\n",
       "      <td>-39.627933</td>\n",
       "      <td>mombuca</td>\n",
       "      <td>São Paulo</td>\n",
       "    </tr>\n",
       "    <tr>\n",
       "      <th>332933</th>\n",
       "      <td>14185</td>\n",
       "      <td>-14.414915</td>\n",
       "      <td>-42.874718</td>\n",
       "      <td>candia</td>\n",
       "      <td>São Paulo</td>\n",
       "    </tr>\n",
       "    <tr>\n",
       "      <th>333157</th>\n",
       "      <td>14185</td>\n",
       "      <td>-14.411892</td>\n",
       "      <td>-42.871632</td>\n",
       "      <td>candia</td>\n",
       "      <td>São Paulo</td>\n",
       "    </tr>\n",
       "    <tr>\n",
       "      <th>...</th>\n",
       "      <td>...</td>\n",
       "      <td>...</td>\n",
       "      <td>...</td>\n",
       "      <td>...</td>\n",
       "      <td>...</td>\n",
       "    </tr>\n",
       "    <tr>\n",
       "      <th>997877</th>\n",
       "      <td>99440</td>\n",
       "      <td>-29.089375</td>\n",
       "      <td>-53.223443</td>\n",
       "      <td>salto do jacui</td>\n",
       "      <td>Rio Grande do Sul</td>\n",
       "    </tr>\n",
       "    <tr>\n",
       "      <th>997883</th>\n",
       "      <td>99440</td>\n",
       "      <td>-29.087320</td>\n",
       "      <td>-53.216383</td>\n",
       "      <td>salto do jacui</td>\n",
       "      <td>Rio Grande do Sul</td>\n",
       "    </tr>\n",
       "    <tr>\n",
       "      <th>999082</th>\n",
       "      <td>99718</td>\n",
       "      <td>-30.855193</td>\n",
       "      <td>-51.800950</td>\n",
       "      <td>paulo bento</td>\n",
       "      <td>Rio Grande do Sul</td>\n",
       "    </tr>\n",
       "    <tr>\n",
       "      <th>999481</th>\n",
       "      <td>99870</td>\n",
       "      <td>-29.815148</td>\n",
       "      <td>-51.143162</td>\n",
       "      <td>sao jose do ouro</td>\n",
       "      <td>Rio Grande do Sul</td>\n",
       "    </tr>\n",
       "    <tr>\n",
       "      <th>999493</th>\n",
       "      <td>99870</td>\n",
       "      <td>-29.589687</td>\n",
       "      <td>-51.163715</td>\n",
       "      <td>são josé do ouro</td>\n",
       "      <td>Rio Grande do Sul</td>\n",
       "    </tr>\n",
       "  </tbody>\n",
       "</table>\n",
       "<p>168240 rows × 5 columns</p>\n",
       "</div>"
      ],
      "text/plain": [
       "        geolocation_zip_code_prefix  geolocation_lat  geolocation_lng  \\\n",
       "250816                        11200        -8.275689       -35.965615   \n",
       "302630                        13355       -12.993852       -38.480882   \n",
       "304242                        13375        -5.754127       -39.627933   \n",
       "332933                        14185       -14.414915       -42.874718   \n",
       "333157                        14185       -14.411892       -42.871632   \n",
       "...                             ...              ...              ...   \n",
       "997877                        99440       -29.089375       -53.223443   \n",
       "997883                        99440       -29.087320       -53.216383   \n",
       "999082                        99718       -30.855193       -51.800950   \n",
       "999481                        99870       -29.815148       -51.143162   \n",
       "999493                        99870       -29.589687       -51.163715   \n",
       "\n",
       "        geolocation_city  geolocation_state  \n",
       "250816           caruara          São Paulo  \n",
       "302630           cardeal          São Paulo  \n",
       "304242           mombuca          São Paulo  \n",
       "332933            candia          São Paulo  \n",
       "333157            candia          São Paulo  \n",
       "...                  ...                ...  \n",
       "997877    salto do jacui  Rio Grande do Sul  \n",
       "997883    salto do jacui  Rio Grande do Sul  \n",
       "999082       paulo bento  Rio Grande do Sul  \n",
       "999481  sao jose do ouro  Rio Grande do Sul  \n",
       "999493  são josé do ouro  Rio Grande do Sul  \n",
       "\n",
       "[168240 rows x 5 columns]"
      ]
     },
     "execution_count": 34,
     "metadata": {},
     "output_type": "execute_result"
    }
   ],
   "source": [
    "# Calculate Q1, Q3, and IQR for latitude\n",
    "Q1_lat = geolocation['geolocation_lat'].quantile(0.25)\n",
    "Q3_lat = geolocation['geolocation_lat'].quantile(0.75)\n",
    "IQR_lat = Q3_lat - Q1_lat\n",
    "\n",
    "# Define bounds\n",
    "lower_bound_lat = Q1_lat - 1.5 * IQR_lat\n",
    "upper_bound_lat = Q3_lat + 1.5 * IQR_lat\n",
    "\n",
    "# Identify outliers\n",
    "outliers_lat = geolocation[(geolocation['geolocation_lat'] < lower_bound_lat) | (geolocation['geolocation_lat'] \n",
    "                                                                                 > upper_bound_lat)]\n",
    "outliers_lat\n"
   ]
  },
  {
   "cell_type": "code",
   "execution_count": 35,
   "id": "5ca5b698",
   "metadata": {
    "scrolled": false
   },
   "outputs": [
    {
     "data": {
      "text/html": [
       "<div>\n",
       "<style scoped>\n",
       "    .dataframe tbody tr th:only-of-type {\n",
       "        vertical-align: middle;\n",
       "    }\n",
       "\n",
       "    .dataframe tbody tr th {\n",
       "        vertical-align: top;\n",
       "    }\n",
       "\n",
       "    .dataframe thead th {\n",
       "        text-align: right;\n",
       "    }\n",
       "</style>\n",
       "<table border=\"1\" class=\"dataframe\">\n",
       "  <thead>\n",
       "    <tr style=\"text-align: right;\">\n",
       "      <th></th>\n",
       "      <th>geolocation_zip_code_prefix</th>\n",
       "      <th>geolocation_lat</th>\n",
       "      <th>geolocation_lng</th>\n",
       "      <th>geolocation_city</th>\n",
       "      <th>geolocation_state</th>\n",
       "    </tr>\n",
       "  </thead>\n",
       "  <tbody>\n",
       "    <tr>\n",
       "      <th>250816</th>\n",
       "      <td>11200</td>\n",
       "      <td>-8.275689</td>\n",
       "      <td>-35.965615</td>\n",
       "      <td>caruara</td>\n",
       "      <td>São Paulo</td>\n",
       "    </tr>\n",
       "    <tr>\n",
       "      <th>387565</th>\n",
       "      <td>18243</td>\n",
       "      <td>28.008978</td>\n",
       "      <td>-15.536867</td>\n",
       "      <td>bom retiro da esperanca</td>\n",
       "      <td>São Paulo</td>\n",
       "    </tr>\n",
       "    <tr>\n",
       "      <th>399300</th>\n",
       "      <td>19274</td>\n",
       "      <td>-10.893066</td>\n",
       "      <td>-61.932123</td>\n",
       "      <td>primavera</td>\n",
       "      <td>São Paulo</td>\n",
       "    </tr>\n",
       "    <tr>\n",
       "      <th>502492</th>\n",
       "      <td>27165</td>\n",
       "      <td>-8.068203</td>\n",
       "      <td>-34.893333</td>\n",
       "      <td>sao jose do turvo</td>\n",
       "      <td>Rio de Janeiro</td>\n",
       "    </tr>\n",
       "    <tr>\n",
       "      <th>502745</th>\n",
       "      <td>27165</td>\n",
       "      <td>-15.640132</td>\n",
       "      <td>-56.041370</td>\n",
       "      <td>sao jose do turvo</td>\n",
       "      <td>Rio de Janeiro</td>\n",
       "    </tr>\n",
       "    <tr>\n",
       "      <th>...</th>\n",
       "      <td>...</td>\n",
       "      <td>...</td>\n",
       "      <td>...</td>\n",
       "      <td>...</td>\n",
       "      <td>...</td>\n",
       "    </tr>\n",
       "    <tr>\n",
       "      <th>996197</th>\n",
       "      <td>99010</td>\n",
       "      <td>-28.622892</td>\n",
       "      <td>-56.026167</td>\n",
       "      <td>passo fundo</td>\n",
       "      <td>Rio Grande do Sul</td>\n",
       "    </tr>\n",
       "    <tr>\n",
       "      <th>996198</th>\n",
       "      <td>99010</td>\n",
       "      <td>-28.623859</td>\n",
       "      <td>-56.028473</td>\n",
       "      <td>passo fundo</td>\n",
       "      <td>Rio Grande do Sul</td>\n",
       "    </tr>\n",
       "    <tr>\n",
       "      <th>996224</th>\n",
       "      <td>99010</td>\n",
       "      <td>-28.622810</td>\n",
       "      <td>-56.025688</td>\n",
       "      <td>passo fundo</td>\n",
       "      <td>Rio Grande do Sul</td>\n",
       "    </tr>\n",
       "    <tr>\n",
       "      <th>996249</th>\n",
       "      <td>99010</td>\n",
       "      <td>-28.622629</td>\n",
       "      <td>-56.025312</td>\n",
       "      <td>passo fundo</td>\n",
       "      <td>Rio Grande do Sul</td>\n",
       "    </tr>\n",
       "    <tr>\n",
       "      <th>996424</th>\n",
       "      <td>99010</td>\n",
       "      <td>-28.622892</td>\n",
       "      <td>-56.026167</td>\n",
       "      <td>passo fundo</td>\n",
       "      <td>Rio Grande do Sul</td>\n",
       "    </tr>\n",
       "  </tbody>\n",
       "</table>\n",
       "<p>42348 rows × 5 columns</p>\n",
       "</div>"
      ],
      "text/plain": [
       "        geolocation_zip_code_prefix  geolocation_lat  geolocation_lng  \\\n",
       "250816                        11200        -8.275689       -35.965615   \n",
       "387565                        18243        28.008978       -15.536867   \n",
       "399300                        19274       -10.893066       -61.932123   \n",
       "502492                        27165        -8.068203       -34.893333   \n",
       "502745                        27165       -15.640132       -56.041370   \n",
       "...                             ...              ...              ...   \n",
       "996197                        99010       -28.622892       -56.026167   \n",
       "996198                        99010       -28.623859       -56.028473   \n",
       "996224                        99010       -28.622810       -56.025688   \n",
       "996249                        99010       -28.622629       -56.025312   \n",
       "996424                        99010       -28.622892       -56.026167   \n",
       "\n",
       "               geolocation_city  geolocation_state  \n",
       "250816                  caruara          São Paulo  \n",
       "387565  bom retiro da esperanca          São Paulo  \n",
       "399300                primavera          São Paulo  \n",
       "502492        sao jose do turvo     Rio de Janeiro  \n",
       "502745        sao jose do turvo     Rio de Janeiro  \n",
       "...                         ...                ...  \n",
       "996197              passo fundo  Rio Grande do Sul  \n",
       "996198              passo fundo  Rio Grande do Sul  \n",
       "996224              passo fundo  Rio Grande do Sul  \n",
       "996249              passo fundo  Rio Grande do Sul  \n",
       "996424              passo fundo  Rio Grande do Sul  \n",
       "\n",
       "[42348 rows x 5 columns]"
      ]
     },
     "execution_count": 35,
     "metadata": {},
     "output_type": "execute_result"
    }
   ],
   "source": [
    "# Calculate Q1, Q3, and IQR for longitude\n",
    "Q1_lng = geolocation['geolocation_lng'].quantile(0.25)\n",
    "Q3_lng = geolocation['geolocation_lng'].quantile(0.75)\n",
    "IQR_lng = Q3_lng - Q1_lng\n",
    "\n",
    "# Define bounds\n",
    "lower_bound_lng = Q1_lng - 1.5 * IQR_lng\n",
    "upper_bound_lng = Q3_lng + 1.5 * IQR_lng\n",
    "\n",
    "# Identify outliers\n",
    "outliers_lng = geolocation[(geolocation['geolocation_lng'] < lower_bound_lng) | (geolocation['geolocation_lng'] \n",
    "                                                                                 > upper_bound_lng)]\n",
    "outliers_lng\n"
   ]
  },
  {
   "cell_type": "code",
   "execution_count": 36,
   "id": "24d41273",
   "metadata": {},
   "outputs": [
    {
     "data": {
      "image/png": "[encoded data removed]",
      "text/plain": [
       "<Figure size 1000x600 with 1 Axes>"
      ]
     },
     "metadata": {},
     "output_type": "display_data"
    }
   ],
   "source": [
    "import matplotlib.pyplot as plt\n",
    "\n",
    "plt.figure(figsize=(10, 6))\n",
    "plt.scatter(geolocation['geolocation_lng'], geolocation['geolocation_lat'], c='blue', s=1, label='All Data')\n",
    "plt.scatter(outliers_lng['geolocation_lng'], outliers_lng['geolocation_lat'], c='red', s=1, label='Outliers')\n",
    "plt.xlabel('Longitude')\n",
    "plt.ylabel('Latitude')\n",
    "plt.legend()\n",
    "plt.title('Geolocation Scatter Plot with Outliers')\n",
    "plt.show()\n"
   ]
  },
  {
   "cell_type": "code",
   "execution_count": 37,
   "id": "8d2e88da",
   "metadata": {},
   "outputs": [
    {
     "data": {
      "image/png": "[encoded data removed]",
      "text/plain": [
       "<Figure size 1500x1000 with 1 Axes>"
      ]
     },
     "metadata": {},
     "output_type": "display_data"
    }
   ],
   "source": [
    "import geopandas as gpd\n",
    "import matplotlib.pyplot as plt\n",
    "\n",
    "# Load a map of the world\n",
    "world = gpd.read_file(gpd.datasets.get_path('naturalearth_lowres'))\n",
    "\n",
    "# Filter for South America, to zoom into Brazil\n",
    "ax = world[world.continent == \"South America\"].plot(color=\"white\", edgecolor=\"black\", figsize=(15, 10))\n",
    "\n",
    "# Plot the geolocation data on top\n",
    "plt.scatter(geolocation['geolocation_lng'], geolocation['geolocation_lat'], s=1, c='blue')\n",
    "\n",
    "plt.xlabel('Longitude')\n",
    "plt.ylabel('Latitude')\n",
    "plt.title('Geolocation Scatter Plot Over Brazil')\n",
    "plt.show()\n"
   ]
  },
  {
   "cell_type": "code",
   "execution_count": 38,
   "id": "98e35db8",
   "metadata": {},
   "outputs": [],
   "source": [
    "# Filter based on bounding box\n",
    "filtered_geolocation = geolocation[\n",
    "    (geolocation['geolocation_lat'] > -33) & \n",
    "    (geolocation['geolocation_lat'] < 5) & \n",
    "    (geolocation['geolocation_lng'] > -74) & \n",
    "    (geolocation['geolocation_lng'] < -35)\n",
    "]\n"
   ]
  },
  {
   "cell_type": "code",
   "execution_count": 39,
   "id": "b7a9f9df",
   "metadata": {},
   "outputs": [
    {
     "name": "stdout",
     "output_type": "stream",
     "text": [
      "Number of points removed: 11947\n"
     ]
    }
   ],
   "source": [
    "removed_points = len(geolocation) - len(filtered_geolocation)\n",
    "print(f\"Number of points removed: {removed_points}\")\n"
   ]
  },
  {
   "cell_type": "code",
   "execution_count": 40,
   "id": "d2503dbf",
   "metadata": {},
   "outputs": [],
   "source": [
    "# Find indexes of rows outside the bounding box\n",
    "indexes_to_remove = geolocation[\n",
    "    (geolocation['geolocation_lat'] <= -33) | \n",
    "    (geolocation['geolocation_lat'] >= 5) | \n",
    "    (geolocation['geolocation_lng'] <= -74) | \n",
    "    (geolocation['geolocation_lng'] >= -35)\n",
    "].index\n",
    "\n",
    "# Drop these rows from geolocation DataFrame\n",
    "geolocation.drop(indexes_to_remove, inplace=True)"
   ]
  },
  {
   "cell_type": "code",
   "execution_count": 41,
   "id": "1e863e1a",
   "metadata": {},
   "outputs": [
    {
     "name": "stdout",
     "output_type": "stream",
     "text": [
      "<class 'pandas.core.frame.DataFrame'>\n",
      "Int64Index: 988216 entries, 0 to 1000162\n",
      "Data columns (total 5 columns):\n",
      " #   Column                       Non-Null Count   Dtype  \n",
      "---  ------                       --------------   -----  \n",
      " 0   geolocation_zip_code_prefix  988216 non-null  int64  \n",
      " 1   geolocation_lat              988216 non-null  float64\n",
      " 2   geolocation_lng              988216 non-null  float64\n",
      " 3   geolocation_city             988216 non-null  object \n",
      " 4   geolocation_state            988216 non-null  object \n",
      "dtypes: float64(2), int64(1), object(2)\n",
      "memory usage: 45.2+ MB\n"
     ]
    }
   ],
   "source": [
    "geolocation.info()"
   ]
  },
  {
   "cell_type": "code",
   "execution_count": 42,
   "id": "1c270e5c",
   "metadata": {},
   "outputs": [
    {
     "data": {
      "text/plain": [
       "(988216, 5)"
      ]
     },
     "execution_count": 42,
     "metadata": {},
     "output_type": "execute_result"
    }
   ],
   "source": [
    "geolocation.shape"
   ]
  },
  {
   "cell_type": "code",
   "execution_count": 43,
   "id": "45a15104",
   "metadata": {},
   "outputs": [
    {
     "data": {
      "text/html": [
       "<div>\n",
       "<style scoped>\n",
       "    .dataframe tbody tr th:only-of-type {\n",
       "        vertical-align: middle;\n",
       "    }\n",
       "\n",
       "    .dataframe tbody tr th {\n",
       "        vertical-align: top;\n",
       "    }\n",
       "\n",
       "    .dataframe thead th {\n",
       "        text-align: right;\n",
       "    }\n",
       "</style>\n",
       "<table border=\"1\" class=\"dataframe\">\n",
       "  <thead>\n",
       "    <tr style=\"text-align: right;\">\n",
       "      <th></th>\n",
       "      <th>geolocation_zip_code_prefix</th>\n",
       "      <th>geolocation_lat</th>\n",
       "      <th>geolocation_lng</th>\n",
       "    </tr>\n",
       "  </thead>\n",
       "  <tbody>\n",
       "    <tr>\n",
       "      <th>count</th>\n",
       "      <td>988216.000000</td>\n",
       "      <td>988216.000000</td>\n",
       "      <td>988216.000000</td>\n",
       "    </tr>\n",
       "    <tr>\n",
       "      <th>mean</th>\n",
       "      <td>36359.883847</td>\n",
       "      <td>-21.331467</td>\n",
       "      <td>-46.524998</td>\n",
       "    </tr>\n",
       "    <tr>\n",
       "      <th>std</th>\n",
       "      <td>30661.311543</td>\n",
       "      <td>5.551105</td>\n",
       "      <td>4.097086</td>\n",
       "    </tr>\n",
       "    <tr>\n",
       "      <th>min</th>\n",
       "      <td>1001.000000</td>\n",
       "      <td>-32.569765</td>\n",
       "      <td>-72.930746</td>\n",
       "    </tr>\n",
       "    <tr>\n",
       "      <th>25%</th>\n",
       "      <td>11030.000000</td>\n",
       "      <td>-23.606481</td>\n",
       "      <td>-48.612240</td>\n",
       "    </tr>\n",
       "    <tr>\n",
       "      <th>50%</th>\n",
       "      <td>26061.000000</td>\n",
       "      <td>-22.927450</td>\n",
       "      <td>-46.643059</td>\n",
       "    </tr>\n",
       "    <tr>\n",
       "      <th>75%</th>\n",
       "      <td>64090.000000</td>\n",
       "      <td>-20.152309</td>\n",
       "      <td>-43.899099</td>\n",
       "    </tr>\n",
       "    <tr>\n",
       "      <th>max</th>\n",
       "      <td>99990.000000</td>\n",
       "      <td>4.482242</td>\n",
       "      <td>-35.000022</td>\n",
       "    </tr>\n",
       "  </tbody>\n",
       "</table>\n",
       "</div>"
      ],
      "text/plain": [
       "       geolocation_zip_code_prefix  geolocation_lat  geolocation_lng\n",
       "count                988216.000000    988216.000000    988216.000000\n",
       "mean                  36359.883847       -21.331467       -46.524998\n",
       "std                   30661.311543         5.551105         4.097086\n",
       "min                    1001.000000       -32.569765       -72.930746\n",
       "25%                   11030.000000       -23.606481       -48.612240\n",
       "50%                   26061.000000       -22.927450       -46.643059\n",
       "75%                   64090.000000       -20.152309       -43.899099\n",
       "max                   99990.000000         4.482242       -35.000022"
      ]
     },
     "execution_count": 43,
     "metadata": {},
     "output_type": "execute_result"
    }
   ],
   "source": [
    "geolocation.describe()"
   ]
  },
  {
   "cell_type": "code",
   "execution_count": null,
   "id": "52bbdc59",
   "metadata": {},
   "outputs": [],
   "source": [
    "# Load a map of the world\n",
    "world = gpd.read_file(gpd.datasets.get_path('naturalearth_lowres'))\n",
    "\n",
    "# Filter for South America, to zoom into Brazil\n",
    "ax = world[world.continent == \"South America\"].plot(color=\"white\", edgecolor=\"black\", figsize=(15, 10))\n",
    "\n",
    "# Plot the geolocation data on top\n",
    "plt.scatter(geolocation['geolocation_lng'], geolocation['geolocation_lat'], s=1, c='blue')\n",
    "\n",
    "plt.xlabel('Longitude')\n",
    "plt.ylabel('Latitude')\n",
    "plt.title('Geolocation Scatter Plot Over Brazil')\n",
    "plt.show()\n"
   ]
  },
  {
   "cell_type": "code",
   "execution_count": null,
   "id": "9e4d2d2f",
   "metadata": {},
   "outputs": [],
   "source": [
    "geolocation.geolocation_state.unique()"
   ]
  },
  {
   "cell_type": "code",
   "execution_count": null,
   "id": "957502fe",
   "metadata": {},
   "outputs": [],
   "source": [
    "geolocation.geolocation_city.unique()"
   ]
  },
  {
   "cell_type": "code",
   "execution_count": null,
   "id": "0046c4a8",
   "metadata": {},
   "outputs": [],
   "source": [
    "order_items.head()"
   ]
  },
  {
   "cell_type": "code",
   "execution_count": null,
   "id": "88a6b0d1",
   "metadata": {},
   "outputs": [],
   "source": [
    "# ------- 3 order_items\n",
    "print(\"\\nOrder_items\")\n",
    "order_items.shape"
   ]
  },
  {
   "cell_type": "code",
   "execution_count": null,
   "id": "769c12fc",
   "metadata": {},
   "outputs": [],
   "source": [
    "order_items.tail()"
   ]
  },
  {
   "cell_type": "code",
   "execution_count": null,
   "id": "8c47a5e0",
   "metadata": {},
   "outputs": [],
   "source": [
    "order_items.dtypes"
   ]
  },
  {
   "cell_type": "code",
   "execution_count": null,
   "id": "d3e180ab",
   "metadata": {},
   "outputs": [],
   "source": [
    "order_items.isna().sum()"
   ]
  },
  {
   "cell_type": "code",
   "execution_count": null,
   "id": "177fc5da",
   "metadata": {},
   "outputs": [],
   "source": [
    "order_items = order_items.dropna()"
   ]
  },
  {
   "cell_type": "code",
   "execution_count": null,
   "id": "e2dc90dc",
   "metadata": {},
   "outputs": [],
   "source": [
    "order_items.duplicated().sum()"
   ]
  },
  {
   "cell_type": "code",
   "execution_count": null,
   "id": "3a2e38c7",
   "metadata": {},
   "outputs": [],
   "source": [
    "order_items.info()"
   ]
  },
  {
   "cell_type": "code",
   "execution_count": null,
   "id": "19cb2bb3",
   "metadata": {},
   "outputs": [],
   "source": [
    "order_items.describe()"
   ]
  },
  {
   "cell_type": "code",
   "execution_count": null,
   "id": "f6139768",
   "metadata": {},
   "outputs": [],
   "source": [
    "# Plotting the distribution of prices\n",
    "order_items['price'].hist(bins=10, figsize=(10,10))\n",
    "plt.title(\"Distribution of Order Prices\")\n",
    "plt.xlabel(\"Price\")\n",
    "plt.ylabel(\"Number of Orders\")\n",
    "plt.show()"
   ]
  },
  {
   "cell_type": "code",
   "execution_count": null,
   "id": "622beb91",
   "metadata": {},
   "outputs": [],
   "source": [
    "# box plot\n",
    "plt.figure(figsize=(15,6))\n",
    "plt.boxplot(order_items['price'], vert=False)  # The vert=False argument makes it horizontal\n",
    "plt.title(\"Distribution of Order Prices\")\n",
    "plt.xlabel(\"Price\")\n",
    "plt.show()"
   ]
  },
  {
   "cell_type": "code",
   "execution_count": null,
   "id": "d24ecac0",
   "metadata": {},
   "outputs": [],
   "source": [
    "# Density Plot (Kernel Density Estimate)\n",
    "order_items['price'].plot(kind='kde', figsize=(10,10))\n",
    "plt.title(\"Density Plot of Order Prices\")\n",
    "plt.xlabel(\"Price\")\n",
    "plt.show()"
   ]
  },
  {
   "cell_type": "code",
   "execution_count": null,
   "id": "9d7c30e7",
   "metadata": {},
   "outputs": [],
   "source": [
    "# violin plot\n",
    "sns.violinplot(x=order_items['price'])\n",
    "plt.title(\"Violin Plot of Order Prices\")\n",
    "plt.show()"
   ]
  },
  {
   "cell_type": "code",
   "execution_count": null,
   "id": "db5d66d8",
   "metadata": {},
   "outputs": [],
   "source": [
    "# ------- 4 payments\n",
    "print(\"\\nPayments\")\n",
    "payments.shape"
   ]
  },
  {
   "cell_type": "code",
   "execution_count": null,
   "id": "10833ee8",
   "metadata": {},
   "outputs": [],
   "source": [
    "payments.head()"
   ]
  },
  {
   "cell_type": "code",
   "execution_count": null,
   "id": "6e6eb90f",
   "metadata": {},
   "outputs": [],
   "source": [
    "payments.isna().sum()"
   ]
  },
  {
   "cell_type": "code",
   "execution_count": null,
   "id": "c2485a6c",
   "metadata": {},
   "outputs": [],
   "source": [
    "payments = payments.dropna()"
   ]
  },
  {
   "cell_type": "code",
   "execution_count": null,
   "id": "af45a3aa",
   "metadata": {},
   "outputs": [],
   "source": [
    "# calculate duplicate \n",
    "payments.duplicated().sum()"
   ]
  },
  {
   "cell_type": "code",
   "execution_count": null,
   "id": "6a1d0326",
   "metadata": {},
   "outputs": [],
   "source": [
    "# remove unused row\n",
    "payments.drop('payment_sequential', axis=1, inplace=True)"
   ]
  },
  {
   "cell_type": "code",
   "execution_count": null,
   "id": "4c99eeff",
   "metadata": {},
   "outputs": [],
   "source": [
    "payments.info()"
   ]
  },
  {
   "cell_type": "code",
   "execution_count": null,
   "id": "2d0e0f65",
   "metadata": {},
   "outputs": [],
   "source": [
    "payments.payment_type.unique()"
   ]
  },
  {
   "cell_type": "code",
   "execution_count": null,
   "id": "950cce5e",
   "metadata": {},
   "outputs": [],
   "source": [
    "payments.describe()"
   ]
  },
  {
   "cell_type": "code",
   "execution_count": null,
   "id": "b24da2c8",
   "metadata": {},
   "outputs": [],
   "source": [
    "# Plotting the distribution of payment types\n",
    "payments['payment_type'].value_counts().plot(kind='bar', figsize=(12,6))\n",
    "plt.title(\"Distribution of Payment Types\")\n",
    "plt.xlabel(\"Payment Type\")\n",
    "plt.ylabel(\"Number of Payments\")\n",
    "plt.show()"
   ]
  },
  {
   "cell_type": "code",
   "execution_count": null,
   "id": "b8c292e5",
   "metadata": {},
   "outputs": [],
   "source": [
    "print(\"\\nReviews\")\n",
    "reviews.shape"
   ]
  },
  {
   "cell_type": "code",
   "execution_count": null,
   "id": "77a0bd5f",
   "metadata": {},
   "outputs": [],
   "source": [
    "reviews.head()"
   ]
  },
  {
   "cell_type": "code",
   "execution_count": null,
   "id": "8946369e",
   "metadata": {},
   "outputs": [],
   "source": [
    "reviews.isna().sum()"
   ]
  },
  {
   "cell_type": "code",
   "execution_count": null,
   "id": "a18e263e",
   "metadata": {},
   "outputs": [],
   "source": [
    "# drop the columns don't want to use\n",
    "reviews.drop('review_comment_title', axis=1, inplace=True)\n",
    "reviews.drop('review_comment_message', axis=1, inplace=True)"
   ]
  },
  {
   "cell_type": "code",
   "execution_count": null,
   "id": "af657304",
   "metadata": {},
   "outputs": [],
   "source": [
    "reviews.duplicated().sum()"
   ]
  },
  {
   "cell_type": "code",
   "execution_count": null,
   "id": "6c793645",
   "metadata": {},
   "outputs": [],
   "source": [
    "reviews.info()"
   ]
  },
  {
   "cell_type": "code",
   "execution_count": null,
   "id": "95164b00",
   "metadata": {},
   "outputs": [],
   "source": [
    "reviews.describe()"
   ]
  },
  {
   "cell_type": "code",
   "execution_count": null,
   "id": "2376a878",
   "metadata": {},
   "outputs": [],
   "source": [
    "# Box plot for review_score\n",
    "plt.figure(figsize=(10,6))\n",
    "sns.boxplot(data=reviews, x='review_score', palette=\"Set2\")\n",
    "plt.title(\"Box Plot of Review Scores\")\n",
    "plt.show()"
   ]
  },
  {
   "cell_type": "code",
   "execution_count": null,
   "id": "c4a9f7ea",
   "metadata": {},
   "outputs": [],
   "source": [
    "# ------- 6 orders\n",
    "print(\"\\nOrders\")\n",
    "# convert the date time to dataframe timestamp\n",
    "orders['order_purchase_timestamp'] = pd.to_datetime(orders['order_purchase_timestamp'])\n",
    "orders['order_approved_at'] = pd.to_datetime(orders['order_approved_at'])\n",
    "orders['order_delivered_carrier_date'] = pd.to_datetime(orders['order_delivered_carrier_date'])\n",
    "orders['order_delivered_customer_date'] = pd.to_datetime(orders['order_delivered_customer_date'])\n",
    "orders['order_estimated_delivery_date'] = pd.to_datetime(orders['order_estimated_delivery_date'])\n",
    "\n",
    "orders.shape"
   ]
  },
  {
   "cell_type": "code",
   "execution_count": null,
   "id": "ebec204e",
   "metadata": {},
   "outputs": [],
   "source": [
    "orders.head()"
   ]
  },
  {
   "cell_type": "code",
   "execution_count": null,
   "id": "7c17a41e",
   "metadata": {},
   "outputs": [],
   "source": [
    "orders.dtypes"
   ]
  },
  {
   "cell_type": "code",
   "execution_count": null,
   "id": "00d77e84",
   "metadata": {},
   "outputs": [],
   "source": [
    "orders.isna().sum()"
   ]
  },
  {
   "cell_type": "code",
   "execution_count": null,
   "id": "17ac07d5",
   "metadata": {},
   "outputs": [],
   "source": [
    "orders = orders.dropna()"
   ]
  },
  {
   "cell_type": "code",
   "execution_count": null,
   "id": "5a538d66",
   "metadata": {},
   "outputs": [],
   "source": [
    "orders.duplicated().sum()"
   ]
  },
  {
   "cell_type": "code",
   "execution_count": null,
   "id": "e0c9d006",
   "metadata": {},
   "outputs": [],
   "source": [
    "orders.info()"
   ]
  },
  {
   "cell_type": "code",
   "execution_count": null,
   "id": "70895452",
   "metadata": {},
   "outputs": [],
   "source": [
    "orders.describe()"
   ]
  },
  {
   "cell_type": "code",
   "execution_count": null,
   "id": "c75b725b",
   "metadata": {},
   "outputs": [],
   "source": [
    "print(orders['order_status'].value_counts())\n",
    "\n",
    "# Plotting distribution of order statuses\n",
    "orders['order_status'].value_counts().plot(kind='bar', figsize=(12,6))\n",
    "plt.title(\"Distribution of Order Statuses\")\n",
    "plt.xlabel(\"Order Status\")\n",
    "plt.ylabel(\"Number of Orders\")\n",
    "plt.show()"
   ]
  },
  {
   "cell_type": "code",
   "execution_count": null,
   "id": "a1015ae7",
   "metadata": {},
   "outputs": [],
   "source": [
    "# ----- products\n",
    "print(\"\\nProduct\")\n",
    "\n",
    "# Replace the 'product_category_name' values with the English translation\n",
    "products['product_category_name'].replace(translation_map, inplace=True)\n",
    "\n",
    "products.shape"
   ]
  },
  {
   "cell_type": "code",
   "execution_count": null,
   "id": "075f3ad4",
   "metadata": {},
   "outputs": [],
   "source": [
    "products.head()"
   ]
  },
  {
   "cell_type": "code",
   "execution_count": null,
   "id": "ef8eb7ec",
   "metadata": {},
   "outputs": [],
   "source": [
    "products.info()"
   ]
  },
  {
   "cell_type": "code",
   "execution_count": null,
   "id": "37aeba44",
   "metadata": {
    "scrolled": true
   },
   "outputs": [],
   "source": [
    "# drop the useless columns \n",
    "products.drop('product_name_lenght', axis=1, inplace=True)\n",
    "products.drop('product_description_lenght', axis=1, inplace=True)\n",
    "products.drop('product_photos_qty', axis=1, inplace=True)"
   ]
  },
  {
   "cell_type": "code",
   "execution_count": null,
   "id": "84fe30e8",
   "metadata": {},
   "outputs": [],
   "source": [
    "products.isna().sum()"
   ]
  },
  {
   "cell_type": "code",
   "execution_count": null,
   "id": "542e082b",
   "metadata": {},
   "outputs": [],
   "source": [
    "# drop the null product\n",
    "products = products.dropna()"
   ]
  },
  {
   "cell_type": "code",
   "execution_count": null,
   "id": "1b825959",
   "metadata": {},
   "outputs": [],
   "source": [
    "# check the duplicate products\n",
    "products.duplicated().sum()"
   ]
  },
  {
   "cell_type": "code",
   "execution_count": null,
   "id": "ecde90de",
   "metadata": {},
   "outputs": [],
   "source": [
    "products.product_category_name.unique()"
   ]
  },
  {
   "cell_type": "code",
   "execution_count": null,
   "id": "2c5688f1",
   "metadata": {},
   "outputs": [],
   "source": [
    "products.product_category_name.nunique()"
   ]
  },
  {
   "cell_type": "code",
   "execution_count": null,
   "id": "48ef64c0",
   "metadata": {},
   "outputs": [],
   "source": [
    "products.product_category_name.duplicated()\n"
   ]
  },
  {
   "cell_type": "code",
   "execution_count": null,
   "id": "79c729fa",
   "metadata": {},
   "outputs": [],
   "source": [
    "products.info()"
   ]
  },
  {
   "cell_type": "code",
   "execution_count": null,
   "id": "af29bbc8",
   "metadata": {},
   "outputs": [],
   "source": [
    "products.describe()"
   ]
  },
  {
   "cell_type": "code",
   "execution_count": null,
   "id": "9744a3a7",
   "metadata": {},
   "outputs": [],
   "source": [
    "# Plotting distribution of product categories\n",
    "# Sort product categories by count and plot\n",
    "sorted_categories = products['product_category_name'].value_counts().sort_values(ascending=False)\n",
    "sorted_categories.plot(kind='bar', figsize=(12,6))  # Use 'barh' for horizontal bars\n",
    "plt.title(\"Distribution of Product Categories\")\n",
    "plt.ylabel(\"Product Category\")\n",
    "plt.xlabel(\"Number of Products\")\n",
    "plt.show()"
   ]
  },
  {
   "cell_type": "code",
   "execution_count": null,
   "id": "579a03f8",
   "metadata": {},
   "outputs": [],
   "source": [
    "sorted_categories"
   ]
  },
  {
   "cell_type": "code",
   "execution_count": null,
   "id": "cd390447",
   "metadata": {},
   "outputs": [],
   "source": [
    "# ------- 8 sellers\n",
    "print(\"\\nSeller\")\n",
    "sellers.shape"
   ]
  },
  {
   "cell_type": "code",
   "execution_count": null,
   "id": "427bc8be",
   "metadata": {},
   "outputs": [],
   "source": [
    "sellers.head()"
   ]
  },
  {
   "cell_type": "code",
   "execution_count": null,
   "id": "8620825d",
   "metadata": {},
   "outputs": [],
   "source": [
    "sellers.isna().sum()"
   ]
  },
  {
   "cell_type": "code",
   "execution_count": null,
   "id": "7bb3e16f",
   "metadata": {},
   "outputs": [],
   "source": [
    "sellers = sellers.dropna()"
   ]
  },
  {
   "cell_type": "code",
   "execution_count": null,
   "id": "243b27c8",
   "metadata": {},
   "outputs": [],
   "source": [
    "sellers.duplicated().sum()"
   ]
  },
  {
   "cell_type": "code",
   "execution_count": null,
   "id": "5025d834",
   "metadata": {},
   "outputs": [],
   "source": [
    "sellers.info()"
   ]
  },
  {
   "cell_type": "code",
   "execution_count": null,
   "id": "2649af69",
   "metadata": {},
   "outputs": [],
   "source": [
    "sellers.describe()"
   ]
  },
  {
   "cell_type": "code",
   "execution_count": null,
   "id": "327b864f",
   "metadata": {},
   "outputs": [],
   "source": [
    "# to find the distribution of sellers based on their city\n",
    "sellers.groupby(['seller_city'])['seller_id'].nunique().sort_values(ascending=False)[:10].iloc[::-1].plot(kind = 'barh')\n",
    "plt.title(\"Distribution of Sellers by City\")\n",
    "plt.ylabel(\"City\")\n",
    "plt.xlabel(\"Number of Sellers\")"
   ]
  },
  {
   "cell_type": "code",
   "execution_count": null,
   "id": "225059e6",
   "metadata": {
    "scrolled": true
   },
   "outputs": [],
   "source": [
    "# to find the distribution of sellers based on their state\n",
    "sellers.groupby(['seller_state'])['seller_id'].nunique().sort_values(ascending=False)[:10].iloc[::-1].plot(kind = 'barh')\n",
    "plt.title(\"Distribution of Sellers by State\")\n",
    "plt.ylabel(\"State\")\n",
    "plt.xlabel(\"Number of Sellers\")"
   ]
  },
  {
   "cell_type": "code",
   "execution_count": null,
   "id": "c9ec5e57",
   "metadata": {},
   "outputs": [],
   "source": [
    "# Export cleaned dataset\n",
    "customers.to_csv('olist_customers.csv', index=False)\n",
    "geolocation.to_csv('olist_geolocation.csv', index=False)\n",
    "order_items.to_csv('olist_order_items.csv', index=False)\n",
    "payments.to_csv('olist_payments.csv', index=False)\n",
    "reviews.to_csv('olist_reviews.csv', index=False)\n",
    "orders.to_csv('olist_orders.csv', index=False)\n",
    "products.to_csv('olist_products.csv', index=False)\n",
    "sellers.to_csv('olist_sellers.csv', index=False)\n"
   ]
  },
  {
   "cell_type": "code",
   "execution_count": null,
   "id": "8935765d",
   "metadata": {},
   "outputs": [],
   "source": []
  },
  {
   "cell_type": "code",
   "execution_count": null,
   "id": "c186c261",
   "metadata": {},
   "outputs": [],
   "source": [
    "# Statistical Analysis for research question: Which customers buy the same products repeatedly? \n",
    "# Objective: Customer segemention (Behavioural segmentation), Customer Purchase Behaviour Analysis"
   ]
  },
  {
   "cell_type": "code",
   "execution_count": null,
   "id": "afdffb37",
   "metadata": {},
   "outputs": [],
   "source": [
    "# merge data to carry out the objective\n",
    "df = pd.read_csv('olist_merged_dataset.csv')"
   ]
  },
  {
   "cell_type": "code",
   "execution_count": null,
   "id": "51c9b546",
   "metadata": {},
   "outputs": [],
   "source": [
    "df.columns"
   ]
  },
  {
   "cell_type": "code",
   "execution_count": null,
   "id": "398fcf36",
   "metadata": {},
   "outputs": [],
   "source": [
    "def classify_cat(x):\n",
    "\n",
    "    if x in ['office_furniture', 'furniture_decor', 'furniture_living_room', 'kitchen_dining_laundry_garden_furniture', 'bed_bath_table', 'home_comfort', 'home_comfort_2', 'home_construction', 'garden_tools', 'furniture_bedroom', 'furniture_mattress_and_upholstery']:\n",
    "        return 'Furniture'\n",
    "    \n",
    "    elif x in ['auto', 'computers_accessories', 'musical_instruments', 'consoles_games', 'watches_gifts', 'air_conditioning', 'telephony', 'electronics', 'fixed_telephony', 'tablets_printing_image', 'computers', 'small_appliances_home_oven_and_coffee', 'small_appliances', 'audio', 'signaling_and_security', 'security_and_services']:\n",
    "        return 'Electronics'\n",
    "    \n",
    "    elif x in ['fashio_female_clothing', 'fashion_male_clothing', 'fashion_bags_accessories', 'fashion_shoes', 'fashion_sport', 'fashion_underwear_beach', 'fashion_childrens_clothes', 'baby', 'cool_stuff', ]:\n",
    "        return 'Fashion'\n",
    "    \n",
    "    elif x in ['housewares', 'home_confort', 'home_appliances', 'home_appliances_2', 'flowers', 'costruction_tools_garden', 'garden_tools', 'construction_tools_lights', 'costruction_tools_tools', 'luggage_accessories', 'la_cuisine', 'pet_shop', 'market_place']:\n",
    "        return 'Home & Garden'\n",
    "    \n",
    "    elif x in ['sports_leisure', 'toys', 'cds_dvds_musicals', 'music', 'dvds_blu_ray', 'cine_photo', 'party_supplies', 'christmas_supplies', 'arts_and_craftmanship', 'art']:\n",
    "        return 'Entertainment'\n",
    "    \n",
    "    elif x in ['health_beauty', 'perfumery', 'diapers_and_hygiene']:\n",
    "        return 'Beauty & Health'\n",
    "    \n",
    "    elif x in ['food_drink', 'drinks', 'food']:\n",
    "        return 'Food & Drinks'\n",
    "    \n",
    "    elif x in ['books_general_interest', 'books_technical', 'books_imported', 'stationery']:\n",
    "        return 'Books & Stationery'\n",
    "    \n",
    "    elif x in ['construction_tools_construction', 'construction_tools_safety', 'industry_commerce_and_business', 'agro_industry_and_commerce']:\n",
    "        return 'Industry & Construction'\n",
    "\n",
    "df['product_category'] = df.product_category_name.apply(classify_cat)"
   ]
  },
  {
   "cell_type": "code",
   "execution_count": null,
   "id": "bd572122",
   "metadata": {
    "scrolled": false
   },
   "outputs": [],
   "source": [
    "# EDA after merged data\n",
    "# Distribution of the number of orders per customer\n",
    "order_counts = df['customer_id'].value_counts()\n",
    "plt.hist(order_counts, bins=35)\n",
    "plt.title('Distribution of Number of Orders per Customer')\n",
    "plt.xlabel('Number of Orders')\n",
    "plt.ylabel('Number of Customers')\n",
    "plt.show()\n",
    "\n",
    "# Products bought more than once\n",
    "repeat_purchases = df.groupby('product_category')['order_id'].nunique().sort_values(ascending=False)\n",
    "top_categories = repeat_purchases.head(10)\n",
    "top_categories.plot(kind='bar')\n",
    "plt.title('Top Product Categories Bought More Than Once')\n",
    "plt.xlabel('Product Category')\n",
    "plt.ylabel('Number of Orders')\n",
    "plt.show()"
   ]
  },
  {
   "cell_type": "code",
   "execution_count": null,
   "id": "412df1b0",
   "metadata": {},
   "outputs": [],
   "source": [
    "# Descriptive Statistics\n",
    "# Customers making repeat purchases\n",
    "repeat_purchase = df.groupby(['customer_unique_id', 'product_id']).size().reset_index(name='purchase_count')\n",
    "repeat_customers = repeat_purchase[repeat_purchase['purchase_count'] > 1]\n",
    "repeat_customers\n"
   ]
  },
  {
   "cell_type": "code",
   "execution_count": null,
   "id": "a44cd3f0",
   "metadata": {},
   "outputs": [],
   "source": [
    "# Group by 'customer_unique_id' and calculate the total purchase count for each customer\n",
    "customer_repeat_purchase = repeat_customers.groupby('customer_unique_id')['purchase_count'].sum().reset_index(name='total_purchase_count')\n",
    "\n",
    "# Sort the DataFrame in descending order based on the total purchase count\n",
    "customer_repeat_purchase = customer_repeat_purchase.sort_values(by='total_purchase_count', ascending=False)\n",
    "\n",
    "# Display the customers with the highest repeat purchases\n",
    "top_repeat_customers = customer_repeat_purchase.head(10)  # You can adjust the number as needed\n",
    "top_repeat_customers\n"
   ]
  },
  {
   "cell_type": "code",
   "execution_count": null,
   "id": "1d172a17",
   "metadata": {},
   "outputs": [],
   "source": [
    "# Compute the average price for each product\n",
    "avg_price_per_product = df.groupby('product_id')['price'].mean().reset_index(name='average_price')\n",
    "\n",
    "# Compute the number of times each product was purchased by each customer\n",
    "repeat_purchase = df.groupby(['customer_unique_id', 'product_id']).size().reset_index(name='purchase_count')\n",
    "\n",
    "# Merge the datasets to correlate purchase counts with product prices\n",
    "product_data = repeat_purchase.merge(avg_price_per_product, on='product_id')\n",
    "\n",
    "product_data"
   ]
  },
  {
   "cell_type": "code",
   "execution_count": null,
   "id": "64f37b54",
   "metadata": {},
   "outputs": [],
   "source": [
    "product_data.describe()"
   ]
  },
  {
   "cell_type": "code",
   "execution_count": null,
   "id": "46cb52ad",
   "metadata": {},
   "outputs": [],
   "source": [
    "# Hypothesis Testing\n",
    "# Null Hypothesis (H0): The mean purchase count of products above the median price is the same as the mean purchase count \n",
    "#of products below the median price.\n",
    "# Alternative Hypothesis (Ha): The means are different.\n",
    "\n",
    "from scipy.stats import ttest_ind\n",
    "\n",
    "median_price = product_data['average_price'].median()\n",
    "above_median = product_data[product_data['average_price'] > median_price]['purchase_count']\n",
    "below_median = product_data[product_data['average_price'] <= median_price]['purchase_count']\n",
    "\n",
    "t_stat, p_val = ttest_ind(above_median, below_median)\n",
    "print(f'T-statistic: {t_stat}')\n",
    "print(f'P-value: {p_val}')\n"
   ]
  },
  {
   "cell_type": "code",
   "execution_count": null,
   "id": "b191dffb",
   "metadata": {},
   "outputs": [],
   "source": [
    "# Correlation Analysis\n",
    "from scipy.stats import linregress\n",
    "from scipy.stats import linregress\n",
    "\n",
    "# Run the correlation analysis\n",
    "slope, intercept, r_value, p_value, std_err = linregress(product_data['average_price'], product_data['purchase_count'])\n",
    "\n",
    "print(f'Correlation Coefficient (r_value): {r_value}')\n",
    "print(f'P-value: {p_value}')\n"
   ]
  },
  {
   "cell_type": "code",
   "execution_count": null,
   "id": "07c8b7be",
   "metadata": {},
   "outputs": [],
   "source": [
    "# visualisation of the statistic\n",
    "plt.figure(figsize=(12, 6))\n",
    "sns.scatterplot(data=product_data, x='average_price', y='purchase_count', alpha=0.5)\n",
    "sns.regplot(data=product_data, x='average_price', y='purchase_count', scatter=False, color='red')  # regression line\n",
    "plt.title('Correlation between Product Price and Purchase Count')\n",
    "plt.xlabel('Average Price of Product')\n",
    "plt.ylabel('Purchase Count')\n",
    "plt.show()\n"
   ]
  }
 ],
 "metadata": {
  "kernelspec": {
   "display_name": "Python 3 (ipykernel)",
   "language": "python",
   "name": "python3"
  },
  "language_info": {
   "codemirror_mode": {
    "name": "ipython",
    "version": 3
   },
   "file_extension": ".py",
   "mimetype": "text/x-python",
   "name": "python",
   "nbconvert_exporter": "python",
   "pygments_lexer": "ipython3",
   "version": "3.9.18"
  }
 },
 "nbformat": 4,
 "nbformat_minor": 5
}
